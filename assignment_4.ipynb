{
  "nbformat": 4,
  "nbformat_minor": 0,
  "metadata": {
    "colab": {
      "name": "assignment 4.ipynb",
      "provenance": [],
      "mount_file_id": "1opBImrxAcdzHR8rVTWaTevkkO1w7mwK6",
      "authorship_tag": "ABX9TyP4Ocwoj7X/oX3kVgL4gWd2",
      "include_colab_link": true
    },
    "kernelspec": {
      "name": "python3",
      "display_name": "Python 3"
    }
  },
  "cells": [
    {
      "cell_type": "markdown",
      "metadata": {
        "id": "view-in-github",
        "colab_type": "text"
      },
      "source": [
        "<a href=\"https://colab.research.google.com/github/18K41A0288/assignment-4/blob/main/assignment_4.ipynb\" target=\"_parent\"><img src=\"https://colab.research.google.com/assets/colab-badge.svg\" alt=\"Open In Colab\"/></a>"
      ]
    },
    {
      "cell_type": "code",
      "metadata": {
        "id": "AFtA3cvj1E3-",
        "outputId": "57456eb9-dd8c-45bc-919f-7bf0cd9c784d",
        "colab": {
          "base_uri": "https://localhost:8080/",
          "height": 35
        }
      },
      "source": [
        "from google.colab import drive\n",
        "\n",
        "drive.mount('/gdrive')"
      ],
      "execution_count": null,
      "outputs": [
        {
          "output_type": "stream",
          "text": [
            "Mounted at /gdrive\n"
          ],
          "name": "stdout"
        }
      ]
    },
    {
      "cell_type": "markdown",
      "metadata": {
        "id": "kCVKndBDuTO8"
      },
      "source": [
        "1.\tFind the salary for the experience of 4.2 years and 5.2 years from the given dataset (salary_data) using simple linear regression. Train the model up to 10 iteration. And plot graph for error rate."
      ]
    },
    {
      "cell_type": "code",
      "metadata": {
        "id": "oc0vTb1I1XeO",
        "outputId": "fb1f8f6b-6feb-4890-bcbd-f66f4909b400",
        "colab": {
          "base_uri": "https://localhost:8080/",
          "height": 372
        }
      },
      "source": [
        "import numpy as np\n",
        "import pandas as pd\n",
        "import matplotlib.pyplot as plt\n",
        "\n",
        "er=[]\n",
        "m1=[]\n",
        "c1=[]\n",
        "te=[]\n",
        "def compute_error(c, m, x,y):\n",
        "    totalError = 0\n",
        "    x = x\n",
        "    y = y\n",
        "    #print(c,m)\n",
        "    m1.append(m)\n",
        "    c1.append(c)\n",
        "    for i in range(0,len(x)):\n",
        "      totalError+=(((m * x[i] + c)-y[i]) ** 2)\n",
        "    er.append(totalError/len(x))\n",
        "\n",
        "\n",
        "def step_gradient(c_current, m_current, x,y, learningRate):\n",
        "    c_gradient = 0.0\n",
        "    m_gradient = 0.0\n",
        "    N = float(len(x))\n",
        "    x = x\n",
        "    y = y\n",
        "    cg=[]\n",
        "    mg=[]\n",
        "    for i in range(0,len(x)):\n",
        "      cg.append(((m_current * x[i]) + c_current)-y[i])\n",
        "      mg.append(x[i] * (((m_current * x) + c_current)-y[i]))\n",
        "    c_gradient=(np.array(cg).sum())/N\n",
        "    m_gradient=(np.array(mg).sum())/N\n",
        "    new_c = c_current - (learningRate * c_gradient)\n",
        "    new_m = m_current - (learningRate * m_gradient)\n",
        "    compute_error(new_c,new_m,x,y)\n",
        "    return [new_c, new_m]\n",
        "\n",
        "def gradient_descent_runner(x,y, starting_c, starting_m, learning_rate, num_iterations):\n",
        "    c = starting_c\n",
        "    m = starting_m\n",
        "    for i in range(num_iterations):\n",
        "      c,m=step_gradient(c, m, x,y, learning_rate)\n",
        "      #print(c,m)\n",
        "   \n",
        "\n",
        "def run():\n",
        "    sn = pd.read_csv('/content/drive/My Drive/Salary_Data.csv')\n",
        "    x1=sn.iloc[:,0:1]\n",
        "    y1=sn.iloc[:,1:2]\n",
        "    x=np.array(x1)\n",
        "    y=np.array(y1)\n",
        "    learning_rate = 0.0002\n",
        "    initial_c = 1 \n",
        "    initial_m = 1 \n",
        "    num_iterations = 10\n",
        "    compute_error(initial_c, initial_m,x,y)\n",
        "    gradient_descent_runner(x,y, initial_c, initial_m, learning_rate, num_iterations)\n",
        "    \n",
        "\n",
        "\n",
        "run()\n",
        "it=np.arange(0,101)\n",
        "\n",
        "sn = pd.read_csv('/content/drive/My Drive/Salary_Data.csv')\n",
        "x1=sn.iloc[:,0:1]\n",
        "y1=sn.iloc[:,1:2]\n",
        "x=np.array(x1)\n",
        "plt.scatter(x1,y1)\n",
        "m=max(np.array(m1))\n",
        "c=min(np.array(c1))\n",
        "e=np.array(er)\n",
        "print(er)\n",
        "e1=min(e)\n",
        "print(er.index(e1))\n",
        "print(m1[er.index(e1)],c1[er.index(e1)])\n",
        "p=[]\n",
        "for i in range(0,len(x1)):\n",
        "  p.append(m1[er.index(e1)]*x[i]+c1[er.index(e1)])\n",
        "plt.plot(x1,p)\n",
        "\n",
        "np.log2(0)\n",
        "x[i]-np.mean(x)/np.std(x)\n"
      ],
      "execution_count": 55,
      "outputs": [
        {
          "output_type": "stream",
          "text": [
            "[array([6.50184851e+09]), array([4.06098182e+09]), array([2.48386344e+09]), array([1.48438987e+09]), array([8.68318078e+08]), array([5.04233405e+08]), array([3.03617205e+08]), array([2.07174646e+08]), array([1.75467053e+08]), array([1.82502342e+08]), array([2.11356781e+08])]\n",
            "8\n",
            "13072.8055094732 60.85240294525221\n"
          ],
          "name": "stdout"
        },
        {
          "output_type": "stream",
          "text": [
            "/usr/local/lib/python3.6/dist-packages/ipykernel_launcher.py:82: RuntimeWarning: divide by zero encountered in log2\n"
          ],
          "name": "stderr"
        },
        {
          "output_type": "execute_result",
          "data": {
            "text/plain": [
              "array([8.59570856])"
            ]
          },
          "metadata": {
            "tags": []
          },
          "execution_count": 55
        },
        {
          "output_type": "display_data",
          "data": {
            "image/png": "[encoded data removed]",
            "text/plain": [
              "<Figure size 432x288 with 1 Axes>"
            ]
          },
          "metadata": {
            "tags": [],
            "needs_background": "light"
          }
        }
      ]
    },
    {
      "cell_type": "code",
      "metadata": {
        "id": "4lj3Fye6tsDK",
        "outputId": "d7a6b791-9ff8-44a1-a808-819fde3cc964",
        "colab": {
          "base_uri": "https://localhost:8080/",
          "height": 355
        }
      },
      "source": [
        "sn = pd.read_csv('/content/drive/My Drive/Salary_Data.csv')\n",
        "x1=sn.iloc[:,0:1]\n",
        "y1=sn.iloc[:,1:2]\n",
        "x=np.array(x1)\n",
        "plt.scatter(x1,y1)\n",
        "m=max(np.array(m1))\n",
        "c=min(np.array(c1))\n",
        "e=np.array(er)\n",
        "print(er)\n",
        "e1=min(e)\n",
        "print(er.index(e1))\n",
        "print(m1[er.index(e1)],c1[er.index(e1)])\n",
        "p=[]\n",
        "for i in range(0,len(x1)):\n",
        "  p.append(m1[er.index(e1)]*x[i]+c1[er.index(e1)])\n",
        "plt.plot(x1,p)\n"
      ],
      "execution_count": 25,
      "outputs": [
        {
          "output_type": "stream",
          "text": [
            "[array([6.50184851e+09]), array([4.06098182e+09]), array([2.48386344e+09]), array([1.48438987e+09]), array([8.68318078e+08]), array([5.04233405e+08]), array([3.03617205e+08]), array([2.07174646e+08]), array([1.75467053e+08]), array([1.82502342e+08]), array([2.11356781e+08])]\n",
            "8\n",
            "13072.8055094732 60.85240294525221\n"
          ],
          "name": "stdout"
        },
        {
          "output_type": "execute_result",
          "data": {
            "text/plain": [
              "[<matplotlib.lines.Line2D at 0x7fcff498ca58>]"
            ]
          },
          "metadata": {
            "tags": []
          },
          "execution_count": 25
        },
        {
          "output_type": "display_data",
          "data": {
            "image/png": "[encoded data removed]",
            "text/plain": [
              "<Figure size 432x288 with 1 Axes>"
            ]
          },
          "metadata": {
            "tags": [],
            "needs_background": "light"
          }
        }
      ]
    },
    {
      "cell_type": "code",
      "metadata": {
        "id": "5g7e3ArQ4Dn_",
        "outputId": "f92794f3-db72-4db3-f6fa-5972575978c9",
        "colab": {
          "base_uri": "https://localhost:8080/",
          "height": 293
        }
      },
      "source": [
        "a=np.arange(0,11)\n",
        "plt.plot(a,er)"
      ],
      "execution_count": 26,
      "outputs": [
        {
          "output_type": "execute_result",
          "data": {
            "text/plain": [
              "[<matplotlib.lines.Line2D at 0x7fcff4bb6908>]"
            ]
          },
          "metadata": {
            "tags": []
          },
          "execution_count": 26
        },
        {
          "output_type": "display_data",
          "data": {
            "image/png": "[encoded data removed]",
            "text/plain": [
              "<Figure size 432x288 with 1 Axes>"
            ]
          },
          "metadata": {
            "tags": [],
            "needs_background": "light"
          }
        }
      ]
    },
    {
      "cell_type": "code",
      "metadata": {
        "id": "8kE-tPA8u2A4",
        "outputId": "b9abec8a-477e-44fa-bdd7-3d91197a350a",
        "colab": {
          "base_uri": "https://localhost:8080/",
          "height": 69
        }
      },
      "source": [
        "m=13147.313709762298\n",
        "c=59.93521298470703\n",
        "x=4.2\n",
        "y=(m*x)+c\n",
        "print('salary of',x,'years experience  is',y)\n",
        "\n",
        "x=5.2\n",
        "y=(m*x)+c\n",
        "print('\\nsalary of',x,'years experience  is',y)"
      ],
      "execution_count": 36,
      "outputs": [
        {
          "output_type": "stream",
          "text": [
            "salary of 4.2 years experience  is 55278.652793986366\n",
            "\n",
            "salary of 5.2 years experience  is 68425.96650374867\n"
          ],
          "name": "stdout"
        }
      ]
    },
    {
      "cell_type": "markdown",
      "metadata": {
        "id": "TA-xfwgD4GhY"
      },
      "source": [
        "2.\tFind perfect model to predict brain weight from given dataset (datasets_56097_107686_headbrain). Train the model up to 15 iterations and visualize your results."
      ]
    },
    {
      "cell_type": "code",
      "metadata": {
        "id": "EDXnReugOgRt",
        "outputId": "2c90f83b-dfe6-42c5-a0b7-3e21be3c2afe",
        "colab": {
          "base_uri": "https://localhost:8080/",
          "height": 193
        }
      },
      "source": [
        "import numpy as np\n",
        "import pandas as pd\n",
        "s = pd.read_csv(\"/content/drive/My Drive/datasets_56097_107686_headbrain.csv\")\n",
        "import matplotlib.pyplot as plt\n",
        "\n",
        "er=[]\n",
        "w_1=[]\n",
        "w_2=[]\n",
        "w_3=[]\n",
        "w_0=[]\n",
        "te=[]\n",
        "def compute_error(W0, W1, W2, W3, x1, x2, x3, y1):\n",
        "    totalError = 0\n",
        "    x1 = x1\n",
        "    x2 = x2\n",
        "    x3 = x3\n",
        "    y1 = y1\n",
        "    w_1.append(W1)\n",
        "    w_2.append(W2)\n",
        "    w_3.append(W3)\n",
        "    w_0.append(W0)\n",
        "    for i in range(0,len(x1)):\n",
        "        totalError+=(((W0+W1*x1[i]+W2*x2[i]+W3*x3[i])-y1[i]) ** 2)\n",
        "      #te.append(totalError)\n",
        "    #print(te)\n",
        "    #err=(np.array(te).sum())\n",
        "    er.append(totalError/len(x1))\n",
        "    #print(er)\n",
        "\n",
        "def step_gradient(w0_current, w1_current, w2_current, w3_current, x1, x2, x3, y1, learningRate):\n",
        "    w0_gradient = 0.0\n",
        "    w1_gradient = 0.0\n",
        "    w2_gradient = 0.0\n",
        "    w3_gradient = 0.0\n",
        "    N = float(len(x1))\n",
        "    x1 = x1\n",
        "    x2 = x2\n",
        "    x3 = x3\n",
        "    y1 = y1\n",
        "    wg0=[]\n",
        "    wg1=[]\n",
        "    wg2=[]\n",
        "    wg3=[]\n",
        "    for i in range(0,len(x1)):\n",
        "        wg0.append((w0_current+w1_current*x1[i]+w2_current*x2[i]+w3_current*x3[i])-y1[i])\n",
        "        wg1.append(x1[i] * ((w0_current+w1_current*x1[i]+w2_current*x2[i]+w3_current*x3[i])-y1[i]))\n",
        "        wg2.append(x2[i] * ((w0_current+w1_current*x1[i]+w2_current*x2[i]+w3_current*x3[i])-y1[i]))\n",
        "        wg3.append(x3[i] * ((w0_current+w1_current*x1[i]+w2_current*x2[i]+w3_current*x3[i])-y1[i]))\n",
        "    w0_gradient=(np.array(wg0).sum())/N\n",
        "    w1_gradient=(np.array(wg1).sum())/N\n",
        "    w2_gradient=(np.array(wg2).sum())/N\n",
        "    w3_gradient=(np.array(wg3).sum())/N\n",
        "    new_w0 = w0_current - (learningRate * w0_gradient)\n",
        "    new_w1 = w1_current - (learningRate * w1_gradient)\n",
        "    new_w2 = w2_current - (learningRate * w2_gradient)\n",
        "    new_w3 = w3_current - (learningRate * w3_gradient)\n",
        "    compute_error(new_w0,new_w1,new_w2,new_w3,x1,x2,x3,y1)\n",
        "    return [new_w0,new_w1,new_w2,new_w3]\n",
        "\n",
        "def gradient_descent_runner(x1, x2, x3, y1, starting_w0, starting_w1, starting_w2,starting_w3, learning_rate, num_iterations):\n",
        "    w0 = starting_w0\n",
        "    w1 = starting_w1\n",
        "    w2 = starting_w2\n",
        "    w3 = starting_w3\n",
        "    for i in range(num_iterations):\n",
        "        w0, w1, w2, w3 = step_gradient(w0, w1, w2, w3, x1, x2, x3, y1, learning_rate)\n",
        "      #print(c,m)\n",
        "   \n",
        "def run():\n",
        "    sn = pd.read_csv('/content/drive/My Drive/datasets_56097_107686_headbrain.csv')\n",
        "    x11=sn.iloc[:,0:1]\n",
        "    x22=sn.iloc[:,1:2]\n",
        "    x33=sn.iloc[:,2:3]\n",
        "    y11=sn.iloc[:,3:4]\n",
        "    x1=np.array(x11)\n",
        "    x2=np.array(x22)\n",
        "    x3=np.array(x33)\n",
        "    y1=np.array(y11)\n",
        "    learning_rate = 0.001\n",
        "    initial_w0 = 1 \n",
        "    initial_w1 = 1 \n",
        "    initial_w2 = 1\n",
        "    initial_w3 = 1\n",
        "    num_iterations = 10\n",
        "    compute_error(initial_w0, initial_w1, initial_w2, initial_w3, x1, x2, x3, y1)\n",
        "    gradient_descent_runner(x1, x2, x3, y1, initial_w0, initial_w1, initial_w2,initial_w3, learning_rate, num_iterations)\n",
        "    \n",
        "\n",
        "\n",
        "run()\n",
        "it=np.arange(0,11)\n",
        "\n",
        "sn = pd.read_csv('/content/drive/My Drive/datasets_56097_107686_headbrain.csv')\n",
        "x1=sn.iloc[:,0:1]\n",
        "x2=sn.iloc[:,1:2]\n",
        "x3=sn.iloc[:,2:3]\n",
        "y1=sn.iloc[:,3:4]\n",
        "w0=w_0\n",
        "w1=w_1\n",
        "w2=w_2\n",
        "w3=w_3\n",
        "print(w1)\n",
        "print(er)\n",
        "e1=min(er)\n",
        "indexx=er.index(e1)\n",
        "print(indexx)\n",
        "a=int(input('1 - MALE\\n2 - FEMALE\\n enter Gender : - '))\n",
        "b=int(input('enter Age Range , 1 or 2 - '))\n",
        "c=int(input('enter Head volume in range of 2270 - 4747 grams - '))\n",
        "print('Brain weight is ',w1[indexx]*a+w2[indexx]*b+w3[indexx]*c+w0[indexx])"
      ],
      "execution_count": 47,
      "outputs": [
        {
          "output_type": "stream",
          "text": [
            "[1, -3.970474683544304, 99718.18293669233, -1995054028.9248407, 39915304074191.414, -7.985906523855503e+17, 1.597750649455662e+22, -3.196640394187241e+26, 6.395559791029283e+30, -1.2795679212153084e+35, 2.5600480935223423e+39, -5.121921339605531e+43, 1.0247494285551228e+48, -2.0502294387147416e+52, 4.101920561497006e+56, -8.206765533217456e+60]\n",
            "[array([5623573.35021097]), array([2.24853995e+15]), array([9.00057321e+23]), array([3.60279648e+32]), array([1.4421462e+41]), array([5.77269817e+49]), array([2.31072579e+58]), array([9.24949394e+66]), array([3.70243577e+75]), array([1.48203034e+84]), array([5.93234847e+92]), array([2.37463145e+101]), array([9.50529884e+109]), array([3.80483069e+118]), array([1.52301751e+127]), array([6.09641408e+135])]\n",
            "0\n",
            "1 - MALE\n",
            "2 - FEMALE\n",
            "enter Gender : - 1\n",
            "enter Age Range , 1 or 2 - 1\n",
            "enter Head volume in range of 2270 - 4747 grams - 2529\n",
            "Brain weight is  2532\n"
          ],
          "name": "stdout"
        }
      ]
    },
    {
      "cell_type": "markdown",
      "metadata": {
        "id": "vLnMPw214Rda"
      },
      "source": [
        "3.\tRecall the heart dataset from canvas and built a logistic regression model for predicting heart attach based on the given features.(age ,sex, cp, trestbps, chol, fbs, restesg ,thalach ,exang, oldpeak, slope, ca , thal,)\n",
        "![heart attack.JPG](data:image/jpeg;base64,/9j/4AAQSkZJRgABAQEAkACQAAD/4RD6RXhpZgAATU0AKgAAAAgABAE7AAIAAAAQAAAISodpAAQAAAABAAAIWpydAAEAAAAgAAAQ0uocAAcAAAgMAAAAPgAAAAAc6gAAAAgAAAAAAAAAAAAAAAAAAAAAAAAAAAAAAAAAAAAAAAAAAAAAAAAAAAAAAAAAAAAAAAAAAAAAAAAAAAAAAAAAAAAAAAAAAAAAAAAAAAAAAAAAAAAAAAAAAAAAAAAAAAAAAAAAAAAAAAAAAAAAAAAAAAAAAAAAAAAAAAAAAAAAAAAAAAAAAAAAAAAAAAAAAAAAAAAAAAAAAAAAAAAAAAAAAAAAAAAAAAAAAAAAAAAAAAAAAAAAAAAAAAAAAAAAAAAAAAAAAAAAAAAAAAAAAAAAAAAAAAAAAAAAAAAAAAAAAAAAAAAAAAAAAAAAAAAAAAAAAAAAAAAAAAAAAAAAAAAAAAAAAAAAAAAAAAAAAAAAAAAAAAAAAAAAAAAAAAAAAAAAAAAAAAAAAAAAAAAAAAAAAAAAAAAAAAAAAAAAAAAAAAAAAAAAAAAAAAAAAAAAAAAAAAAAAAAAAAAAAAAAAAAAAAAAAAAAAAAAAAAAAAAAAAAAAAAAAAAAAAAAAAAAAAAAAAAAAAAAAAAAAAAAAAAAAAAAAAAAAAAAAAAAAAAAAAAAAAAAAAAAAAAAAAAAAAAAAAAAAAAAAAAAAAAAAAAAAAAAAAAAAAAAAAAAAAAAAAAAAAAAAAAAAAAAAAAAAAAAAAAAAAAAAAAAAAAAAAAAAAAAAAAAAAAAAAAAAAAAAAAAAAAAAAAAAAAAAAAAAAAAAAAAAAAAAAAAAAAAAAAAAAAAAAAAAAAAAAAAAAAAAAAAAAAAAAAAAAAAAAAAAAAAAAAAAAAAAAAAAAAAAAAAAAAAAAAAAAAAAAAAAAAAAAAAAAAAAAAAAAAAAAAAAAAAAAAAAAAAAAAAAAAAAAAAAAAAAAAAAAAAAAAAAAAAAAAAAAAAAAAAAAAAAAAAAAAAAAAAAAAAAAAAAAAAAAAAAAAAAAAAAAAAAAAAAAAAAAAAAAAAAAAAAAAAAAAAAAAAAAAAAAAAAAAAAAAAAAAAAAAAAAAAAAAAAAAAAAAAAAAAAAAAAAAAAAAAAAAAAAAAAAAAAAAAAAAAAAAAAAAAAAAAAAAAAAAAAAAAAAAAAAAAAAAAAAAAAAAAAAAAAAAAAAAAAAAAAAAAAAAAAAAAAAAAAAAAAAAAAAAAAAAAAAAAAAAAAAAAAAAAAAAAAAAAAAAAAAAAAAAAAAAAAAAAAAAAAAAAAAAAAAAAAAAAAAAAAAAAAAAAAAAAAAAAAAAAAAAAAAAAAAAAAAAAAAAAAAAAAAAAAAAAAAAAAAAAAAAAAAAAAAAAAAAAAAAAAAAAAAAAAAAAAAAAAAAAAAAAAAAAAAAAAAAAAAAAAAAAAAAAAAAAAAAAAAAAAAAAAAAAAAAAAAAAAAAAAAAAAAAAAAAAAAAAAAAAAAAAAAAAAAAAAAAAAAAAAAAAAAAAAAAAAAAAAAAAAAAAAAAAAAAAAAAAAAAAAAAAAAAAAAAAAAAAAAAAAAAAAAAAAAAAAAAAAAAAAAAAAAAAAAAAAAAAAAAAAAAAAAAAAAAAAAAAAAAAAAAAAAAAAAAAAAAAAAAAAAAAAAAAAAAAAAAAAAAAAAAAAAAAAAAAAAAAAAAAAAAAAAAAAAAAAAAAAAAAAAAAAAAAAAAAAAAAAAAAAAAAAAAAAAAAAAAAAAAAAAAAAAAAAAAAAAAAAAAAAAAAAAAAAAAAAAAAAAAAAAAAAAAAAAAAAAAAAAAAAAAAAAAAAAAAAAAAAAAAAAAAAAAAAAAAAAAAAAAAAAAAAAAAAAAAAAAAAAAAAAAAAAAAAAAAAAAAAAAAAAAAAAAAAAAAAAAAAAAAAAAAAAAAAAAAAAAAAAAAAAAAAAAAAAAAAAAAAAAAAAAAAAAAAAAAAAAAAAAAAAAAAAAAAAAAAAAAAAAAAAAAAAAAAAAAAAAAAAAAAAAAAAAAAAAAAAAAAAAAAAAAAAAAAAAAAAAAAAAAAAAAAAAAAAAAAAAAAAAAAAAAAAAAAAAAAAAAAAAAAAAAAAAAAAAAAAAAAAAAAAAAAAAAAAAAAAAAAAAAAAAAAAAAAAAAAAAAAAAAAAAAAAAAAAAAAAAAAAAAAAAAAAAAAAAAAAAAAAAAAAAAAAAAAAAAAAAAAAAAAAAAAAAAAAAAAAAAAAAAAAAAAAAAAAAAAAAAAAAAAAAAAAAAAAAAAAAAAAAAAAAAAAAAAAAAAAAAAAAAAAAAAAAAAAAAAAAAAAAAAAAAAAAAAAAAAAAAAAAAAAAAAAAAAAAAAAAAAAAAAAAAAAAAAAAAAAAAAAAAAAAAAAAAAAAAAAAAAAAAAAAAAAAAAAAAAAAAAAAAAAAAAAAAAAAAAAAAAAAAAAAAAAAAAAAAAAAAAAAAAAAAAAAAAAAAAAAAAAAAAAAAAAAAAAAAAAAAAAAAAAAAAAAAAAAAAAAAAAAAAAAAAAAAAAAAAAAAAAAAAAAAAAAAAAAAAAAAAAAAAAAAAAAAAAAAAAAAAAAAAAAAAAAAAAAAAAAAAAAAAAAAAAAAAAAAAAAAAAAAAAAAAAAAAAAAAAAAAAAAAAAAAAAAAAAAAAAAAAAAAAAAAAAAAAAAAAAAAAAAAAAAAAAAAAAAAAAAAAAAAAAAAAAAAAAAAAAAAAAAAAAAAAAAAAAAAAAAAAAAAAAAAAAAAAAAAAAAAAAAAAAAAAAAAAAAAAAAAAAAAAAAAAAAAAAAAAAAAAAAAAAAAAAAAAAAAAAAAAAAAAAAAAAAAAAAAAAAAAAAAAAAAAAAAAAAAAAAAAAAAAAAAFNVQkhBU0ggQ0hBTkRSQQAABZADAAIAAAAUAAAQqJAEAAIAAAAUAAAQvJKRAAIAAAADODcAAJKSAAIAAAADODcAAOocAAcAAAgMAAAInAAAAAAc6gAAAAgAAAAAAAAAAAAAAAAAAAAAAAAAAAAAAAAAAAAAAAAAAAAAAAAAAAAAAAAAAAAAAAAAAAAAAAAAAAAAAAAAAAAAAAAAAAAAAAAAAAAAAAAAAAAAAAAAAAAAAAAAAAAAAAAAAAAAAAAAAAAAAAAAAAAAAAAAAAAAAAAAAAAAAAAAAAAAAAAAAAAAAAAAAAAAAAAAAAAAAAAAAAAAAAAAAAAAAAAAAAAAAAAAAAAAAAAAAAAAAAAAAAAAAAAAAAAAAAAAAAAAAAAAAAAAAAAAAAAAAAAAAAAAAAAAAAAAAAAAAAAAAAAAAAAAAAAAAAAAAAAAAAAAAAAAAAAAAAAAAAAAAAAAAAAAAAAAAAAAAAAAAAAAAAAAAAAAAAAAAAAAAAAAAAAAAAAAAAAAAAAAAAAAAAAAAAAAAAAAAAAAAAAAAAAAAAAAAAAAAAAAAAAAAAAAAAAAAAAAAAAAAAAAAAAAAAAAAAAAAAAAAAAAAAAAAAAAAAAAAAAAAAAAAAAAAAAAAAAAAAAAAAAAAAAAAAAAAAAAAAAAAAAAAAAAAAAAAAAAAAAAAAAAAAAAAAAAAAAAAAAAAAAAAAAAAAAAAAAAAAAAAAAAAAAAAAAAAAAAAAAAAAAAAAAAAAAAAAAAAAAAAAAAAAAAAAAAAAAAAAAAAAAAAAAAAAAAAAAAAAAAAAAAAAAAAAAAAAAAAAAAAAAAAAAAAAAAAAAAAAAAAAAAAAAAAAAAAAAAAAAAAAAAAAAAAAAAAAAAAAAAAAAAAAAAAAAAAAAAAAAAAAAAAAAAAAAAAAAAAAAAAAAAAAAAAAAAAAAAAAAAAAAAAAAAAAAAAAAAAAAAAAAAAAAAAAAAAAAAAAAAAAAAAAAAAAAAAAAAAAAAAAAAAAAAAAAAAAAAAAAAAAAAAAAAAAAAAAAAAAAAAAAAAAAAAAAAAAAAAAAAAAAAAAAAAAAAAAAAAAAAAAAAAAAAAAAAAAAAAAAAAAAAAAAAAAAAAAAAAAAAAAAAAAAAAAAAAAAAAAAAAAAAAAAAAAAAAAAAAAAAAAAAAAAAAAAAAAAAAAAAAAAAAAAAAAAAAAAAAAAAAAAAAAAAAAAAAAAAAAAAAAAAAAAAAAAAAAAAAAAAAAAAAAAAAAAAAAAAAAAAAAAAAAAAAAAAAAAAAAAAAAAAAAAAAAAAAAAAAAAAAAAAAAAAAAAAAAAAAAAAAAAAAAAAAAAAAAAAAAAAAAAAAAAAAAAAAAAAAAAAAAAAAAAAAAAAAAAAAAAAAAAAAAAAAAAAAAAAAAAAAAAAAAAAAAAAAAAAAAAAAAAAAAAAAAAAAAAAAAAAAAAAAAAAAAAAAAAAAAAAAAAAAAAAAAAAAAAAAAAAAAAAAAAAAAAAAAAAAAAAAAAAAAAAAAAAAAAAAAAAAAAAAAAAAAAAAAAAAAAAAAAAAAAAAAAAAAAAAAAAAAAAAAAAAAAAAAAAAAAAAAAAAAAAAAAAAAAAAAAAAAAAAAAAAAAAAAAAAAAAAAAAAAAAAAAAAAAAAAAAAAAAAAAAAAAAAAAAAAAAAAAAAAAAAAAAAAAAAAAAAAAAAAAAAAAAAAAAAAAAAAAAAAAAAAAAAAAAAAAAAAAAAAAAAAAAAAAAAAAAAAAAAAAAAAAAAAAAAAAAAAAAAAAAAAAAAAAAAAAAAAAAAAAAAAAAAAAAAAAAAAAAAAAAAAAAAAAAAAAAAAAAAAAAAAAAAAAAAAAAAAAAAAAAAAAAAAAAAAAAAAAAAAAAAAAAAAAAAAAAAAAAAAAAAAAAAAAAAAAAAAAAAAAAAAAAAAAAAAAAAAAAAAAAAAAAAAAAAAAAAAAAAAAAAAAAAAAAAAAAAAAAAAAAAAAAAAAAAAAAAAAAAAAAAAAAAAAAAAAAAAAAAAAAAAAAAAAAAAAAAAAAAAAAAAAAAAAAAAAAAAAAAAAAAAAAAAAAAAAAAAAAAAAAAAAAAAAAAAAAAAAAAAAAAAAAAAAAAAAAAAAAAAAAAAAAAAAAAAAAAAAAAAAAAAAAAAAAAAAAAAAAAAAAAAAAAAAAAAAAAAAAAAAAAAAAAAAAAAAAAAAAAAAAAAAAAAAAAAAAAAAAAAAAAAAAAAAAAAAAAAAAAAAAAAAAAAAAAAAAAAAAAAAAAAAAAAAAAAAAAAAAAAAAAAAAAAAAAAAAAAAAAAAAAAAAAAAAAAAAAAAAAAAAAAAAAAAAAAAAAAAAAAAAAAAAAAAAAAAAAAAAAAAAAAAAAAAAAAAAAAAAAAAAAAAAAAAAAAAAAAAAAAAAAAAAAAAAAAAAAAAAAAAAAAAAAAAAAAAAAAAAAAAAAAAAAAAAAAAAAAAAAAAAAAAAAAAAAAAAAAAAAAAAAAAAAAAAAAAAAAAAAAAAAAAAAAAAAAAAAAAAAAAAAAAAAAAAAAAAAAAAAAAAAAAAAAAAAAAAAAAAAAAAAAAAAAAAAAAAAAAAAAAAAAAAAAAAAAAAAAAAAAAAAAAAAAAAAAAAAAAAAAAAAAAAAAAAAAAAAAAAAAAAAAAAAAAAAAAAAAAAAAAAAAAAAAAAAAAAAAAAAAAAAAAAAAAAAAAAAAAAAAAAAAAAAAAAAAAAAAAAAAAAAAAAAAAAAAAAAAAAAAAAAAAAAAAAAAAAAAAAAAAAAAAAAAAAAAAAAAAAAAAAAAAAAAAAAAAAAAAAAAAAAAAAAAAAAAAAAAAAAAAAAAAAAAAAAAAAAAAAAAAAAAAAAAAAAAAAAAAAAAAAAAAAAAAAADIwMjA6MTA6MDEgMjE6Mjc6NTEAMjAyMDoxMDowMSAyMToyNzo1MQAAAFMAVQBCAEgAQQBTAEgAIABDAEgAQQBOAEQAUgBBAAAA/+ELImh0dHA6Ly9ucy5hZG9iZS5jb20veGFwLzEuMC8APD94cGFja2V0IGJlZ2luPSfvu78nIGlkPSdXNU0wTXBDZWhpSHpyZVN6TlRjemtjOWQnPz4NCjx4OnhtcG1ldGEgeG1sbnM6eD0iYWRvYmU6bnM6bWV0YS8iPjxyZGY6UkRGIHhtbG5zOnJkZj0iaHR0cDovL3d3dy53My5vcmcvMTk5OS8wMi8yMi1yZGYtc3ludGF4LW5zIyI+PHJkZjpEZXNjcmlwdGlvbiByZGY6YWJvdXQ9InV1aWQ6ZmFmNWJkZDUtYmEzZC0xMWRhLWFkMzEtZDMzZDc1MTgyZjFiIiB4bWxuczpkYz0iaHR0cDovL3B1cmwub3JnL2RjL2VsZW1lbnRzLzEuMS8iLz48cmRmOkRlc2NyaXB0aW9uIHJkZjphYm91dD0idXVpZDpmYWY1YmRkNS1iYTNkLTExZGEtYWQzMS1kMzNkNzUxODJmMWIiIHhtbG5zOnhtcD0iaHR0cDovL25zLmFkb2JlLmNvbS94YXAvMS4wLyI+PHhtcDpDcmVhdGVEYXRlPjIwMjAtMTAtMDFUMjE6Mjc6NTEuODY1PC94bXA6Q3JlYXRlRGF0ZT48L3JkZjpEZXNjcmlwdGlvbj48cmRmOkRlc2NyaXB0aW9uIHJkZjphYm91dD0idXVpZDpmYWY1YmRkNS1iYTNkLTExZGEtYWQzMS1kMzNkNzUxODJmMWIiIHhtbG5zOmRjPSJodHRwOi8vcHVybC5vcmcvZGMvZWxlbWVudHMvMS4xLyI+PGRjOmNyZWF0b3I+PHJkZjpTZXEgeG1sbnM6cmRmPSJodHRwOi8vd3d3LnczLm9yZy8xOTk5LzAyLzIyLXJkZi1zeW50YXgtbnMjIj48cmRmOmxpPlNVQkhBU0ggQ0hBTkRSQTwvcmRmOmxpPjwvcmRmOlNlcT4NCgkJCTwvZGM6Y3JlYXRvcj48L3JkZjpEZXNjcmlwdGlvbj48L3JkZjpSREY+PC94OnhtcG1ldGE+DQogICAgICAgICAgICAgICAgICAgICAgICAgICAgICAgICAgICAgICAgICAgICAgICAgICAgICAgICAgICAgICAgICAgICAgICAgICAgICAgICAgICAgICAgICAgICAgICAgICAgCiAgICAgICAgICAgICAgICAgICAgICAgICAgICAgICAgICAgICAgICAgICAgICAgICAgICAgICAgICAgICAgICAgICAgICAgICAgICAgICAgICAgICAgICAgICAgICAgICAgICAKICAgICAgICAgICAgICAgICAgICAgICAgICAgICAgICAgICAgICAgICAgICAgICAgICAgICAgICAgICAgICAgICAgICAgICAgICAgICAgICAgICAgICAgICAgICAgICAgICAgIAogICAgICAgICAgICAgICAgICAgICAgICAgICAgICAgICAgICAgICAgICAgICAgICAgICAgICAgICAgICAgICAgICAgICAgICAgICAgICAgICAgICAgICAgICAgICAgICAgICAgCiAgICAgICAgICAgICAgICAgICAgICAgICAgICAgICAgICAgICAgICAgICAgICAgICAgICAgICAgICAgICAgICAgICAgICAgICAgICAgICAgICAgICAgICAgICAgICAgICAgICAKICAgICAgICAgICAgICAgICAgICAgICAgICAgICAgICAgICAgICAgICAgICAgICAgICAgICAgICAgICAgICAgICAgICAgICAgICAgICAgICAgICAgICAgICAgICAgICAgICAgIAogICAgICAgICAgICAgICAgICAgICAgICAgICAgICAgICAgICAgICAgICAgICAgICAgICAgICAgICAgICAgICAgICAgICAgICAgICAgICAgICAgICAgICAgICAgICAgICAgICAgCiAgICAgICAgICAgICAgICAgICAgICAgICAgICAgICAgICAgICAgICAgICAgICAgICAgICAgICAgICAgICAgICAgICAgICAgICAgICAgICAgICAgICAgICAgICAgICAgICAgICAKICAgICAgICAgICAgICAgICAgICAgICAgICAgICAgICAgICAgICAgICAgICAgICAgICAgICAgICAgICAgICAgICAgICAgICAgICAgICAgICAgICAgICAgICAgICAgICAgICAgIAogICAgICAgICAgICAgICAgICAgICAgICAgICAgICAgICAgICAgICAgICAgICAgICAgICAgICAgICAgICAgICAgICAgICAgICAgICAgICAgICAgICAgICAgICAgICAgICAgICAgCiAgICAgICAgICAgICAgICAgICAgICAgICAgICAgICAgICAgICAgICAgICAgICAgICAgICAgICAgICAgICAgICAgICAgICAgICAgICAgICAgICAgICAgICAgICAgICAgICAgICAKICAgICAgICAgICAgICAgICAgICAgICAgICAgICAgICAgICAgICAgICAgICAgICAgICAgICAgICAgICAgICAgICAgICAgICAgICAgICAgICAgICAgICAgICAgICAgICAgICAgIAogICAgICAgICAgICAgICAgICAgICAgICAgICAgICAgICAgICAgICAgICAgICAgICAgICAgICAgICAgICAgICAgICAgICAgICAgICAgICAgICAgICAgICAgICAgICAgICAgICAgCiAgICAgICAgICAgICAgICAgICAgICAgICAgICAgICAgICAgICAgICAgICAgICAgICAgICAgICAgICAgICAgICAgICAgICAgICAgICAgICAgICAgICAgICAgICAgICAgICAgICAKICAgICAgICAgICAgICAgICAgICAgICAgICAgICAgICAgICAgICAgICAgICAgICAgICAgICAgICAgICAgICAgICAgICAgICAgICAgICAgICAgICAgICAgICAgICAgICAgICAgIAogICAgICAgICAgICAgICAgICAgICAgICAgICAgICAgICAgICAgICAgICAgICAgICAgICAgICAgICAgICAgICAgICAgICAgICAgICAgICAgICAgICAgICAgICAgICAgICAgICAgCiAgICAgICAgICAgICAgICAgICAgICAgICAgICAgICAgICAgICAgICAgICAgICAgICAgICAgICAgICAgICAgICAgICAgICAgICAgICAgICAgICAgICAgICAgICAgICAgICAgICAKICAgICAgICAgICAgICAgICAgICAgICAgICAgICAgICAgICAgICAgICAgICAgICAgICAgICAgICAgICAgICAgICAgICAgICAgICAgICAgICAgICAgICAgICAgICAgICAgICAgIAogICAgICAgICAgICAgICAgICAgICAgICAgICAgICAgICAgICAgICAgICAgICAgICAgICAgICAgICAgICAgICAgICAgICAgICAgICAgICAgICAgICAgICAgICAgICAgICAgICAgCiAgICAgICAgICAgICAgICAgICAgICAgICAgICAgICAgICAgICAgICAgICAgICAgICAgICAgICAgICAgICAgICAgICAgICAgICAgICAgICAgICAgICAgICAgICAgICAgICAgICAKICAgICAgICAgICAgICAgICAgICAgICAgICAgIDw/eHBhY2tldCBlbmQ9J3cnPz7/2wBDAAcFBQYFBAcGBQYIBwcIChELCgkJChUPEAwRGBUaGRgVGBcbHichGx0lHRcYIi4iJSgpKywrGiAvMy8qMicqKyr/2wBDAQcICAoJChQLCxQqHBgcKioqKioqKioqKioqKioqKioqKioqKioqKioqKioqKioqKioqKioqKioqKioqKioqKir/wAARCAHiA4gDASIAAhEBAxEB/8QAHwAAAQUBAQEBAQEAAAAAAAAAAAECAwQFBgcICQoL/8QAtRAAAgEDAwIEAwUFBAQAAAF9AQIDAAQRBRIhMUEGE1FhByJxFDKBkaEII0KxwRVS0fAkM2JyggkKFhcYGRolJicoKSo0NTY3ODk6Q0RFRkdISUpTVFVWV1hZWmNkZWZnaGlqc3R1dnd4eXqDhIWGh4iJipKTlJWWl5iZmqKjpKWmp6ipqrKztLW2t7i5usLDxMXGx8jJytLT1NXW19jZ2uHi4+Tl5ufo6erx8vP09fb3+Pn6/8QAHwEAAwEBAQEBAQEBAQAAAAAAAAECAwQFBgcICQoL/8QAtREAAgECBAQDBAcFBAQAAQJ3AAECAxEEBSExBhJBUQdhcRMiMoEIFEKRobHBCSMzUvAVYnLRChYkNOEl8RcYGRomJygpKjU2Nzg5OkNERUZHSElKU1RVVldYWVpjZGVmZ2hpanN0dXZ3eHl6goOEhYaHiImKkpOUlZaXmJmaoqOkpaanqKmqsrO0tba3uLm6wsPExcbHyMnK0tPU1dbX2Nna4uPk5ebn6Onq8vP09fb3+Pn6/9oADAMBAAIRAxEAPwD3r/hHk/6Ceqf+BjVhquuw+LL7QvDmoafaW1tZW97JJqFjJdySyTyTqeVmjwAIAehJLHmuzrm7H/kqeu/9gXTf/R99QA2TTfGk0TxS6/4edHUqytoExDA9Qf8ATKwIfh74mihmSTxPpVwXCLDJPo0zPaqh3IIm+15XDc85PTOQAK9FrD8Z+JYfB/g3UtduF8z7JCWjj/56yH5UT8WKj8alxT3NqdapTTUHa5ysnw88TyWEdv8A8JVpaSgOJrtNFlWa4WQ5kWRvtXIYgdAMYGMYqc+BvEp1RLtdf0JIlbzDZLoMot3k2bBIU+1/eC8enQ4yAa6HwR4og8Z+CtM1622qLyANIiniOQcOv4MCK3qXs49jT63Xf2n1/Hc86h+HviSKKZD4k0iUMI1gaTRZi1msZyixH7XlQp5HU8DOQAKST4eeJ5LCO3/4SrS0lAcTXaaLKs1wshzIsjfauQxA6AYwMYxXo1FL2cOw/rmIvfnf9aHAN4G8THUkuU8Q6HHCsizNZR6FKIHlUALIV+19QAO+OAcEgGtaDSPGFrGUttb8NwozFysfh6ZQWJyTxd9Sa6mirUUtjCdWdS3O72OP1Pw94w1azNvc+ItDTDB0ki0OdXjcchlP2zgismT4eeJ5LCO3/wCEq0tJQHE12miyrNcLIcyLI32rkMQOgGMDGMV6NRScIvdF08RWpq0JWW5wB8DeJTqiXa6/oSRK3mGyXQZRbvJs2CQp9r+8F49OhxkA1DD8PfEkUUyHxJpEoYRrA0mizFrNYzlFiP2vKhTyOp4GcgAV6LRS9nHsV9br2tzvp+Gx503w/wDFP2OOKPxXpkU6iQSXseiyrPOJDmQO32rkMcdAMYG3GBWxY6D4r0u1W207V/DNrApyI4fD0yjPrgXfX3rraKajGOxFSvVqK03c4/U/D3jDVrM29z4i0NMMHSSLQ51eNxyGU/bOCKyZPh54nksI7f8A4SrS0lAcTXaaLKs1wshzIsjfauQxA6AYwMYxXo1FDhF7odPEVqatCVlucAfA3iU6ol2uv6EkSt5hsl0GUW7ybNgkKfa/vBePTocZANQw/D3xJFFMh8SaRKGEawNJosxazWM5RYj9ryoU8jqeBnIAFei0UvZx7FfW69rc76fhsecyfDzxPJYR2/8AwlWlpKA4mu00WVZrhZDmRZG+1chiB0AxgYxipz4G8SnVEu11/QkiVvMNkugyi3eTZsEhT7X94Lx6dDjIBrv6KPZx7D+t139p9fx3POofh74kiimQ+JNIlDCNYGk0WYtZrGcosR+15UKeR1PAzkACkk+HnieSwjt/+Eq0tJQHE12miyrNcLIcyLI32rkMQOgGMDGMV6NRS9nDsP65iL353/Wh5tqvwz1vWfNivtb0Q2MwzLYR6JOkDvt2CTC3YIYLgAgjoD1ANYK/A7xGs8LD4hyGKBQkUBsZdsYByoU/ady7TyMHivZ6Kfs49ifrde1ud9Pw2OH8PeEPFPhnSlsNN1/Qdm4u8j6DMXkY9WYi7Az+A6VfbSPGD3KXDa34baeNSqSnw9NuUHqAfteQDiupoqkklZGEpynJylucC/gjxRJrH29/EmjFDIZmszokxt2lK7fMKG7+9gnvjPOM81BD8PfEkUUyHxJpEoYRrA0mizFrNYzlFiP2vKhTyOp4GcgAV6LRU+zj2N/rddK3M+n4bHnMnw88TyWEdv8A8JVpaSgOJrtNFlWa4WQ5kWRvtXIYgdAMYGMYqc+BvEp1RLtdf0JIlbzDZLoMot3k2bBIU+1/eC8enQ4yAa7+ij2cew/rdd/afX8dzzqH4e+JIopkPiTSJQwjWBpNFmLWaxnKLEfteVCnkdTwM5AApJPh54nksI7f/hKtLSUBxNdposqzXCyHMiyN9q5DEDoBjAxjFejUUvZw7D+uYi9+d/1ocAfA3iU6ol2uv6EkSt5hsl0GUW7ybNgkKfa/vBePTocZANQw/D3xJFFMh8SaRKGEawNJosxazWM5RYj9ryoU8jqeBnIAFei0U/Zx7E/W69rc76fhsecyfDzxPJYR2/8AwlWlpKA4mu00WVZrhZDmRZG+1chiB0AxgYxirH/CD+Jl1aO9j8QaHGiP5v2NNClEDSbdgkKfa/vBeBzjgHGQDXfUUezj2G8XXf2n1/Hc5DTtA8YaXbtb2fiHQVhMjOsZ0KciPcclV/0zhc547ZqZdI8YpcSXCa34bWaQAPIPD0wZgOgJ+15OK6miqSS0Rzyk5PmlueeJ8PvEYuJ2m8Q6LcW8sckaWc2iTNDAHOX8sfa8rnHrx2xk0g8A+Kxaup8W6a1403nLqLaLKbhG27BhvtWMBflwQRyc5JzXolFT7OHY6PrmI/nf9f1r36nnbfD7xH/ooi8Q6LDHAsaSRR6JMFuljOUEoN382Dk54Jyc5BxTh4A8RG5neXX9Dmt5Y5EWzk0OYww+YcyFF+15Use+eOcYya9Coo9nDsH1vEfzv+v6+7TY87HgHxWLV1Pi3TWvGm85dRbRZTcI23YMN9qxgL8uCCOTnJOaG+H3iP8A0UReIdFhjgWNJIo9EmC3SxnKCUG7+bByc8E5Ocg4r0Sij2cOwfXMR/M/6/rTt0PNb74Za3qa3MWoa5olxZzKwWzbRZxFAzOHZ4wLsFWLAHOeO2MnOBF8DfE8N0Jk+JVwCq7UH2GT5Pl25DfaN33SR16HHSvaaKPZw7B9br/zP+v6179TgrPwLr9hJpslnq3hyJ9NiMMBXQJvukY+b/S+T3z1yT6nOz9h8b/9DD4f/wDBDP8A/JldJRVJJbGE6k6jvN3OBfwR4ok1j7e/iTRihkMzWZ0SY27SldvmFDd/ewT3xnnGeagh+HviSKKZD4k0iUMI1gaTRZi1msZyixH7XlQp5HU8DOQAK9FoqfZx7G31uulbmfT8NjzmT4eeJ5LCO3/4SrS0lAcTXaaLKs1wshzIsjfauQxA6AYwMYxU58DeJTqiXa6/oSRK3mGyXQZRbvJs2CQp9r+8F49OhxkA139FHs49h/W67+0+v47nk+s/CPxHrWkz6bP4ysYrWcJGVTQyxSFM7YUL3DFUyc8fMeBnHFLpXwl8R6Rocel2vjKx8mINHHJ/YjLIsLY3QlluAWQ7R97LDsRgY9Xopezh2H9cxF787/rQ4A+BvEp1RLtdf0JIlbzDZLoMot3k2bBIU+1/eC8enQ4yAax/DfhTxJq2k3c517SFC3c9lAJNImdrRbW5kiTym+1AqMx7wOSMgEkAV6vXN+A/+Rduv+w1qv8A6cLin7OPYn63XtbnfT8NjnZPh54nksI7f/hKtLSUBxNdposqzXCyHMiyN9q5DEDoBjAxjFTnwN4lOqJdrr+hJEreYbJdBlFu8mzYJCn2v7wXj06HGQDXd3FxDaWstzcyLFDChkkkY4CqBkk+wFea22sfF3WJ4r7StO8LWujXbCW3F6Lg3KQMcqXUMBv2nJHHPFHs49h/W67+0+v47lmH4e+JIopkPiTSJQwjWBpNFmLWaxnKLEfteVCnkdTwM5AAq/pPhPxXpG+SHX9Amu5iTPeTaBKZpiTn5mF2OPQDAHYCt3xVrcuhaC89lElxqE7rbWMD52yzucIDjnaD8zHsqse1c/4Wm+KUmuxjxlB4Xh0oIxkOneeZi2PlA3NgDPXg8D8aahFbIieIrVE1OVzV+w+N/wDoYfD/AP4IZ/8A5Mo+w+N/+hh8P/8Aghn/APkyukoqjA5v7D43/wChh8P/APghn/8Akyj7D43/AOhh8P8A/ghn/wDkyukooA5v7D43/wChh8P/APghn/8AkyuJ034S+MdM8dXHiyP4jpNqN2qpcrLoamKaNcYQqJhgfKPu4Pvya9aooA5v7D43/wChh8P/APghn/8Akyj7D43/AOhh8P8A/ghn/wDkyukooA5Z9I8YyXEVxJrfhtpoQwjkbw9MWQNjIB+15GcDPripfsPjf/oYfD//AIIZ/wD5MrpKKAOb+w+N/wDoYfD/AP4IZ/8A5Mo+w+N/+hh8P/8Aghn/APkyukooA5v7D43/AOhh8P8A/ghn/wDkyj7D43/6GHw//wCCGf8A+TK6SigDlo9I8YxTSzRa34bSWYgyuvh6YNIQMAsftfOAMc0y+0TxhqNjLaXeveH3hmXaw/sKcfiD9s4PcHtXWUUbjTcXdbnnS+APFa2rqfF2mteGXzl1FtFlNyjbdgw32rGAvy4II5Ock5pW+H3iP/RRF4h0WGOBY0kij0SYLdLGcoJQbv5sHJzwTk5yDivRKKj2cOx0/XMR/O/6/rTt0PPR4A8RG5neXX9Dmt5Y5EWzk0OYww+YcyFF+15Use+eOcYyaaPAPisWrqfFumteNN5y6i2iym4RtuwYb7VjAX5cEEcnOSc16JRR7OHYPrdf+Z/1/WvfqedyfD3xG0cMUfiLRoIUiSGeKLRJgt2iHKrL/peW5JJPBOSCSCRW3Fo/jCCWWWHWvDcckxBkdPD0wL4GBk/a+cAAfSupopqKjsZVK1SrbndzjdO8N+L9NaeSLxDoUtzcsHuLmXQpjJMQMDJF2BgDoAAB2Aq99h8b/wDQw+H/APwQz/8AyZXSUVRkc39h8b/9DD4f/wDBDP8A/JlH2Hxv/wBDD4f/APBDP/8AJldJRQBzf2Hxv/0MPh//AMEM/wD8mUfYfG//AEMPh/8A8EM//wAmV0lFAHN/YfG//Qw+H/8AwQz/APyZR9h8b/8AQw+H/wDwQz//ACZXSUUAc39h8b/9DD4f/wDBDP8A/JlH2Hxv/wBDD4f/APBDP/8AJldJRQBzf2Hxv/0MPh//AMEM/wD8mUfYfG//AEMPh/8A8EM//wAmV0lFAHN/YfG//Qw+H/8AwQz/APyZR9h8b/8AQw+H/wDwQz//ACZXSUUAc39h8b/9DD4f/wDBDP8A/JlH2Hxv/wBDD4f/APBDP/8AJldJRQBzf2Hxv/0MPh//AMEM/wD8mUfYfG//AEMPh/8A8EM//wAmV0lFAHN/YfG//Qw+H/8AwQz/APyZR9h8b/8AQw+H/wDwQz//ACZXSUUAc39h8b/9DD4f/wDBDP8A/JlH2Hxv/wBDD4f/APBDP/8AJldJRQBzf2Hxv/0MPh//AMEM/wD8mUfYfG//AEMPh/8A8EM//wAmV0lFAHN/YfG//Qw+H/8AwQz/APyZR9h8b/8AQw+H/wDwQz//ACZXSUUAc39h8b/9DD4f/wDBDP8A/JlH2Hxv/wBDD4f/APBDP/8AJldJRQByXgrxXfa7dX+narFbm70/f5lzbK0cc2Ly7txiNixXi0Dfebl+2OSsP4a/8jj4n/4H/wCnbVaKAPSa5ux/5Knrv/YF03/0ffV0lc3Y/wDJU9d/7Aum/wDo++oA6SvN/FnibQZvidpWi67rOnafY6NEdTuVvbtIhNOwKQJhiM7QXkI9fLrvtSubiz02e4srCXULiNcx2sLojSn0DOQo/E1yfwyttbh07U5/FegzaVrF9evd3Mj3EMyTbiQioY3YgJGsa4YD1GcnABwPwT1zTtC+IPijwFp2pWt9phnbUNImtp1ljKMBujDAkEgFePVWrsvif4g1DT9Y8JaHZ3Mthaa9qX2e8voW2uiAAiNW/hZycAjkYOKwfit4c8U3nxC8NeJPA/hqa71DRnJmujdW8UdxEesXzSB+hcZwB8561e+JlzrmtaH4dtLfwot9JdXhmvdBuruJJ2SIEgrKjMqqG2neG7qvVitAFPVF1zQvjRofhbQvE2sW+k6vaS3Escsi3rwPGGOfMuFkYI2AMZ6nirkniC+8WeKvEVkmleIrzTdIuhYxDRb+GzxIEBd3czxSE5bAHK4Hck4y/Duv3/hjVhf618LNU0pbkpbT6vJq51OWKMsAAzOS4QEjgHA64qzqvhrx34K+I2qeI/h/p9rrml64VkvtLmuFgaOYDG9WYgcnJzz94gjgGgDo/hcvjS2sNTsfHFvciK3uj/Zl1eTQyXE1uScCUxOw3gAZPfd1OK7qsPwwniCS1lvvFf2eC8uSu2xtXLxWqDOF3H7zkklm4HQDpk7lABRRRQAUUUUAFFFFABRRRQAUUUUAFFFFABRRRQAUUUUAFFFFABRRRQAUUUUAFFFFABRRRQAUUUUAFFFFABRRRQAUUUUAFFFFABRRRQAUUUUAFFFFABRRRQAUUUUAFc34D/5F26/7DWq/+nC4rpK5vwH/AMi7df8AYa1X/wBOFxQBq65o1p4i0K70jUhIbS8jMUwjkKMynqMjkZ6V4/q/hnVPgjcWWv8AhLV7+88L/aorfU9HvZPNEMbuFDxHjbgsB65IySM49U8W3XiKz0B5/B+n2mo6kjqRbXUvlrImfmAbIAbHTJx/KsKey8QeO7K1svE2gx6DpizxXF5bSXiXMtwY3DrGNnyqm9VJYnJAxgZyADS8beAdG8f6fb2evG6EdtIZYWtpzGUfGA3oSO2QeprjfCI8RfD74l23grVtWuNc0HVrWWfSrq7O6eB48F42buAD9OVwByK67xTq3jHStXsG8M+G7fXdMdWF2gvFgnjbPBUuQpGO3U+1Lp2jajqvim38SeI7WCzlsbeSDT7KOXzWh8wr5kjvgAsQigAZAGeTngA6miiigAooooAKKKKACiiigAooooAKKKKACiiigAooooAKKKKACiiigAooooAKKKKACiiigAooooAKKKKACiiigAooooAKKKKACiiigAooooAKKKKACiiigAooooAKKKKACiiigDzb4a/8jj4n/wCB/wDp21WipfhvbTr4m8R3TQyC3keWNJSh2My6tqhZQehIDqSO24eoooA9EribmfXIfinq/wDYOnafe50XT/N+23722z9/e427YZN2ec5xjA6547aubsf+Sp67/wBgXTf/AEffUAH27xv/ANC94f8A/B9P/wDIdH27xv8A9C94f/8AB9P/APIddITgZPArjNK8bar4ntX1LwloEF7o6yvFFd3eo+Q11sYqzRII3BXIIBZlzigC/wDbvG//AEL3h/8A8H0//wAh1x3ivwj8QNc8Q2viHQv7L0HWrW2a1SePWpJ4niLbirxNZ4POD1HQegx3HhTxMfFFlezvpl3pclneNaSW95t8wOqqSTtJGMtwQTkAHvit2gDy3TNA+KTyRnxfc6JrscUgkS2i1F7SFmUgqXC2hZsEAgbsZ6g8Y677d43/AOhe8P8A/g+n/wDkOukooA5v7d43/wChe8P/APg+n/8AkOj7d43/AOhe8P8A/g+n/wDkOukooA5v7d43/wChe8P/APg+n/8AkOj7d43/AOhe8P8A/g+n/wDkOukooA5v7d43/wChe8P/APg+n/8AkOj7d43/AOhe8P8A/g+n/wDkOukooA5v7d43/wChe8P/APg+n/8AkOj7d43/AOhe8P8A/g+n/wDkOukooA5v7d43/wChe8P/APg+n/8AkOj7d43/AOhe8P8A/g+n/wDkOukooA5v7d43/wChe8P/APg+n/8AkOj7d43/AOhe8P8A/g+n/wDkOukooA5v7d43/wChe8P/APg+n/8AkOj7d43/AOhe8P8A/g+n/wDkOukooA5v7d43/wChe8P/APg+n/8AkOj7d43/AOhe8P8A/g+n/wDkOukooA5v7d43/wChe8P/APg+n/8AkOj7d43/AOhe8P8A/g+n/wDkOukooA5v7d43/wChe8P/APg+n/8AkOj7d43/AOhe8P8A/g+n/wDkOukooA5v7d43/wChe8P/APg+n/8AkOj7d43/AOhe8P8A/g+n/wDkOukooA5v7d43/wChe8P/APg+n/8AkOj7d43/AOhe8P8A/g+n/wDkOukooA5v7d43/wChe8P/APg+n/8AkOj7d43/AOhe8P8A/g+n/wDkOukooA5v7d43/wChe8P/APg+n/8AkOj7d43/AOhe8P8A/g+n/wDkOukooA5v7d43/wChe8P/APg+n/8AkOj7d43/AOhe8P8A/g+n/wDkOukooA5v7d43/wChe8P/APg+n/8AkOj7d43/AOhe8P8A/g+n/wDkOukooA5v7d43/wChe8P/APg+n/8AkOj7d43/AOhe8P8A/g+n/wDkOukooA5v7d43/wChe8P/APg+n/8AkOj7d43/AOhe8P8A/g+n/wDkOukooA5v7d43/wChe8P/APg+n/8AkOj7d43/AOhe8P8A/g+n/wDkOukooA5v7d43/wChe8P/APg+n/8AkOj7d43/AOhe8P8A/g+n/wDkOukooA5v7d43/wChe8P/APg+n/8AkOj7d43/AOhe8P8A/g+n/wDkOukooA5v7d43/wChe8P/APg+n/8AkOj7d43/AOhe8P8A/g+n/wDkOukooA5v7d43/wChe8P/APg+n/8AkOj7d43/AOhe8P8A/g+n/wDkOukooA5v7d43/wChe8P/APg+n/8AkOj7d43/AOhe8P8A/g+n/wDkOukooA5v7d43/wChe8P/APg+n/8AkOuf8F3njFdBuRa6Focif2tqRLSa1MhDfbp9wwLU8BsgHPIAOBnA9Erm/Af/ACLt1/2GtV/9OFxQAfbvG/8A0L3h/wD8H0//AMh0fbvG/wD0L3h//wAH0/8A8h10TuI42chiFBOFGSfoO9cn4a8fR+JPGuveHl0m7sZNFWEyPdFQ0hkBIwozgYAIOec9BQBa+3eN/wDoXvD/AP4Pp/8A5Do+3eN/+he8P/8Ag+n/APkOukooA5v7d43/AOhe8P8A/g+n/wDkOj7d43/6F7w//wCD6f8A+Q66SigDm/t3jf8A6F7w/wD+D6f/AOQ6Pt3jf/oXvD//AIPp/wD5DrpKKAOb+3eN/wDoXvD/AP4Pp/8A5Do+3eN/+he8P/8Ag+n/APkOukooA5v7d43/AOhe8P8A/g+n/wDkOj7d43/6F7w//wCD6f8A+Q66SigDm/t3jf8A6F7w/wD+D6f/AOQ6Pt3jf/oXvD//AIPp/wD5DrpKKAOb+3eN/wDoXvD/AP4Pp/8A5Do+3eN/+he8P/8Ag+n/APkOukooA5v7d43/AOhe8P8A/g+n/wDkOj7d43/6F7w//wCD6f8A+Q66SigDm/t3jf8A6F7w/wD+D6f/AOQ6Pt3jf/oXvD//AIPp/wD5DrpKKAOb+3eN/wDoXvD/AP4Pp/8A5Do+3eN/+he8P/8Ag+n/APkOukooA5v7d43/AOhe8P8A/g+n/wDkOj7d43/6F7w//wCD6f8A+Q66SigDm/t3jf8A6F7w/wD+D6f/AOQ6Pt3jf/oXvD//AIPp/wD5DrpKKAOb+3eN/wDoXvD/AP4Pp/8A5Do+3eN/+he8P/8Ag+n/APkOukooA5v7d43/AOhe8P8A/g+n/wDkOj7d43/6F7w//wCD6f8A+Q66SigDm/t3jf8A6F7w/wD+D6f/AOQ6Pt3jf/oXvD//AIPp/wD5DrpKKAOb+3eN/wDoXvD/AP4Pp/8A5Do+3eN/+he8P/8Ag+n/APkOukooA5v7d43/AOhe8P8A/g+n/wDkOj7d43/6F7w//wCD6f8A+Q66SigDm/t3jf8A6F7w/wD+D6f/AOQ6Pt3jf/oXvD//AIPp/wD5DrpKKAOb+3eN/wDoXvD/AP4Pp/8A5Do+3eN/+he8P/8Ag+n/APkOukooA5v7d43/AOhe8P8A/g+n/wDkOj7d43/6F7w//wCD6f8A+Q66SigDm/t3jf8A6F7w/wD+D6f/AOQ6Pt3jf/oXvD//AIPp/wD5DrpKKAOb+3eN/wDoXvD/AP4Pp/8A5Do+3eN/+he8P/8Ag+n/APkOukooA5v7d43/AOhe8P8A/g+n/wDkOj7d43/6F7w//wCD6f8A+Q66SigDm/t3jf8A6F7w/wD+D6f/AOQ6Pt3jf/oXvD//AIPp/wD5DrpKKAOb+3eN/wDoXvD/AP4Pp/8A5Do+3eN/+he8P/8Ag+n/APkOukooA5v7d43/AOhe8P8A/g+n/wDkOj7d43/6F7w//wCD6f8A+Q66SigDlvh007eEpWvI44rg6tqZljikLorfb58hWIUsAehIGfQdKKl8B/8AIu3X/Ya1X/04XFFAHSVzdj/yVPXf+wLpv/o++rpK5ux/5Knrv/YF03/0ffUAdFIiyxtHIMqwKsPUGvAIJPHXwCMtsunt4m8DLI0kTw8TWSsxJzgZHUk5BUnupJFfQNcF4W8ZanaeEdPi8b+H9ctNVjtkSYxWEl4J2Cj5swh9pbqQ+0g5BoAm0f4j+FtR8A6t400Z2e1hR7i9iI2yiVI1Gxh2baqAY4PFcjrPjTxX/wAIvDrnh671u61jbHMdFHha4+xyqxGY1kMAfIB+/wCZhtvQZ4k8M/DCe80P4gma0/sS38WuRY2LgBrVVD7XdV4Usz7ig6AAewTwd438d6Ppdt4T1vwBql3q9ki2sOoRnFnMqjCu8x4XgDONxOOmTigCz8RdR8d23hGx8ZeF9U1CwthDFcanoj2VuZYIioL7DJEWDLzkNnueAMVueE9Q1fxh4gbxLpniC8Xwi0SLa2UtrADdSBSJH3eXvVAcDGclg2CFwDNr2pX91qGleD5oNTb7bEBqmr21hKIAoXmNZFXahkORnPyqTyCRjj/DM158MfiZqfhqw0XXLzwdeMLi3mg0y4lj06duWjVgh3R9OVzjI77jQB7PRRRQAUUUUAFFFFABRRRQAUUUUAFFFFABRRRQAUUUUAFFFFABRRRQAUUUUAFFFFABRRRQAUUUUAFFFFABRRRQAUUUUAFFFFABRRRQAUUUUAFFFFABRRRQAUUUUAFFFFABXN+A/wDkXbr/ALDWq/8ApwuK6Sub8B/8i7df9hrVf/ThcUAdJXl3gz/k4r4kf9cdN/8AScV6fI4iiaRgxCqWIVSx49AOSfYV5H4K1Cb/AIXt4w1KbRddtrDWktI7K6uNHuY43MUQVtxZBsGRwWxQB69RRRQAUUUUAFFFFABRRRQAUUUUAFFFFABRRRQAUUUUAFFFFABRRRQAUUUUAFFFFABRRRQAUUUUAFFFFABRRRQAUUUUAFFFFABRRRQAUUUUAFFFFABRRRQAUUUUAFFFFABRRRQAUUUUAc34D/5F26/7DWq/+nC4oo8B/wDIu3X/AGGtV/8AThcUUAdJXE3OqXem/FPV/sehahq/maLp+77FJbr5WJ73G7zpU654xnoc44z21c3Y/wDJU9d/7Aum/wDo++oAP+Eo1f8A6ETxB/3/ANP/APkqj/hKNX/6ETxB/wB/9P8A/kqukrm9T8c6ZY62dFsobvWNXVPMksdOjDvEvYyMxVI/+BMM0AH/AAlGr/8AQieIP+/+n/8AyVR/wlGr/wDQieIP+/8Ap/8A8lVUuviLY6XeWFnr+j6xpNzqN1FaWsdxbpIskkjhQPMid4xjOSCwOAcAniuvoA5v/hKNX/6ETxB/3/0//wCSqP8AhKNX/wChE8Qf9/8AT/8A5KrpKKAOb/4SjV/+hE8Qf9/9P/8Akqj/AISjV/8AoRPEH/f/AE//AOSq6SigDm/+Eo1f/oRPEH/f/T//AJKo/wCEo1f/AKETxB/3/wBP/wDkqukooA5v/hKNX/6ETxB/3/0//wCSqP8AhKNX/wChE8Qf9/8AT/8A5KrpKKAOb/4SjV/+hE8Qf9/9P/8Akqj/AISjV/8AoRPEH/f/AE//AOSq6SigDm/+Eo1f/oRPEH/f/T//AJKo/wCEo1f/AKETxB/3/wBP/wDkqukooA5v/hKNX/6ETxB/3/0//wCSqP8AhKNX/wChE8Qf9/8AT/8A5KrpKKAOb/4SjV/+hE8Qf9/9P/8Akqj/AISjV/8AoRPEH/f/AE//AOSq6SigDm/+Eo1f/oRPEH/f/T//AJKo/wCEo1f/AKETxB/3/wBP/wDkqukooA5v/hKNX/6ETxB/3/0//wCSqP8AhKNX/wChE8Qf9/8AT/8A5KrpKKAOb/4SjV/+hE8Qf9/9P/8Akqj/AISjV/8AoRPEH/f/AE//AOSq6SigDm/+Eo1f/oRPEH/f/T//AJKo/wCEo1f/AKETxB/3/wBP/wDkqukooA5v/hKNX/6ETxB/3/0//wCSqP8AhKNX/wChE8Qf9/8AT/8A5KrpKKAOb/4SjV/+hE8Qf9/9P/8Akqj/AISjV/8AoRPEH/f/AE//AOSq6SigDm/+Eo1f/oRPEH/f/T//AJKo/wCEo1f/AKETxB/3/wBP/wDkqukooA5v/hKNX/6ETxB/3/0//wCSqP8AhKNX/wChE8Qf9/8AT/8A5KrpKKAOb/4SjV/+hE8Qf9/9P/8Akqj/AISjV/8AoRPEH/f/AE//AOSq6SigDm/+Eo1f/oRPEH/f/T//AJKo/wCEo1f/AKETxB/3/wBP/wDkqukooA5v/hKNX/6ETxB/3/0//wCSqP8AhKNX/wChE8Qf9/8AT/8A5KrpKKAOb/4SjV/+hE8Qf9/9P/8Akqj/AISjV/8AoRPEH/f/AE//AOSq6SigDm/+Eo1f/oRPEH/f/T//AJKo/wCEo1f/AKETxB/3/wBP/wDkqukooA5v/hKNX/6ETxB/3/0//wCSqP8AhKNX/wChE8Qf9/8AT/8A5KrpKKAOb/4SjV/+hE8Qf9/9P/8Akqj/AISjV/8AoRPEH/f/AE//AOSq6SigDm/+Eo1f/oRPEH/f/T//AJKo/wCEo1f/AKETxB/3/wBP/wDkqukooA5v/hKNX/6ETxB/3/0//wCSqP8AhKNX/wChE8Qf9/8AT/8A5KrpKKAOb/4SjV/+hE8Qf9/9P/8Akquf8F+I9Uh0G5WPwXrk4OrakxeOaxABN9OSvzXIOVJKntkHBIwT6JXN+A/+Rduv+w1qv/pwuKAD/hKNX/6ETxB/3/0//wCSqP8AhKNX/wChE8Qf9/8AT/8A5KrW1rWrDw9o8+p6tP5FrAAXbaWJJOAoA5JJIAA5JNcbpXxk0DUPEttoeoadrWg3d6cWZ1mxNulyewQknrxjOMkgdTigDc/4SjV/+hE8Qf8Af/T/AP5Ko/4SjV/+hE8Qf9/9P/8AkqukooA5v/hKNX/6ETxB/wB/9P8A/kqj/hKNX/6ETxB/3/0//wCSq6SigDm/+Eo1f/oRPEH/AH/0/wD+SqP+Eo1f/oRPEH/f/T//AJKrpKKAOb/4SjV/+hE8Qf8Af/T/AP5Ko/4SjV/+hE8Qf9/9P/8AkqukooA5v/hKNX/6ETxB/wB/9P8A/kqj/hKNX/6ETxB/3/0//wCSq6SigDm/+Eo1f/oRPEH/AH/0/wD+SqP+Eo1f/oRPEH/f/T//AJKrpKKAOb/4SjV/+hE8Qf8Af/T/AP5Ko/4SjV/+hE8Qf9/9P/8AkqukooA5v/hKNX/6ETxB/wB/9P8A/kqj/hKNX/6ETxB/3/0//wCSq6SigDm/+Eo1f/oRPEH/AH/0/wD+SqP+Eo1f/oRPEH/f/T//AJKrpKKAOb/4SjV/+hE8Qf8Af/T/AP5Ko/4SjV/+hE8Qf9/9P/8AkqukooA5v/hKNX/6ETxB/wB/9P8A/kqj/hKNX/6ETxB/3/0//wCSq6SigDm/+Eo1f/oRPEH/AH/0/wD+SqP+Eo1f/oRPEH/f/T//AJKrpKKAOb/4SjV/+hE8Qf8Af/T/AP5Ko/4SjV/+hE8Qf9/9P/8AkqukooA5v/hKNX/6ETxB/wB/9P8A/kqj/hKNX/6ETxB/3/0//wCSq6SigDm/+Eo1f/oRPEH/AH/0/wD+SqP+Eo1f/oRPEH/f/T//AJKrpKKAOb/4SjV/+hE8Qf8Af/T/AP5Ko/4SjV/+hE8Qf9/9P/8AkqukooA5v/hKNX/6ETxB/wB/9P8A/kqj/hKNX/6ETxB/3/0//wCSq6SigDm/+Eo1f/oRPEH/AH/0/wD+SqP+Eo1f/oRPEH/f/T//AJKrpKKAOb/4SjV/+hE8Qf8Af/T/AP5Ko/4SjV/+hE8Qf9/9P/8AkqukooA5v/hKNX/6ETxB/wB/9P8A/kqj/hKNX/6ETxB/3/0//wCSq6SigDm/+Eo1f/oRPEH/AH/0/wD+SqP+Eo1f/oRPEH/f/T//AJKrpKKAOb/4SjV/+hE8Qf8Af/T/AP5Ko/4SjV/+hE8Qf9/9P/8AkqukooA5v/hKNX/6ETxB/wB/9P8A/kqj/hKNX/6ETxB/3/0//wCSq6SigDm/+Eo1f/oRPEH/AH/0/wD+SqP+Eo1f/oRPEH/f/T//AJKrpKKAOb/4SjV/+hE8Qf8Af/T/AP5Ko/4SjV/+hE8Qf9/9P/8AkqukooA5v/hKNX/6ETxB/wB/9P8A/kqj/hKNX/6ETxB/3/0//wCSq6SigDlvh1K8/hKWWWCS2eTVtTZoZSpeMm/nJVtpK5HQ4JHoTRUvgP8A5F26/wCw1qv/AKcLiigDpK5ux/5Knrv/AGBdN/8AR99XSVzdj/yVPXf+wLpv/o++oA0fEuqnQvCerauq7zYWU10F9diFsfpXnf7OtuJfhk+uXLtPqOs309xeXD8tIwcqMn04zj3NeoX9lDqWm3NjdruguomhlX1VgQR+Rrxr4eavJ8HYrrwZ49WW106K5eXS9a8pjbTRuc7WYZCNnJwfUj0JAPX9V0m01myFrfJuRZo50I4KPG4dGB7EMorg7/x94pT4qXfg3TdD0+aQaUb21ka5faSZFQNK20bFA3ZUKxJ2gHmumt/GVjrhji8JTJqzyMN1zEC1vAueWaQcE46KDkn0GSPP9Q17T/D/AO1NLc6vcLa2svhhYmuJOI4ibgEF26Kvy4ycDJAzzQBs+DviD4hk+IN14I+IGmWNlq4tvtdpcac7GC5jzg4Dktng/wDfLcDHPpVeYWVsnjH462virR28/RdF0trUXyHMVzO7NlYz0dVVuWHGeK9PoAKKKKACiiigAooooAKKKKACiiigAooooAKKKKACiiigAooooAKKKKACiiigAooooAKKKKACiiigAooooAKKKKACiiigAooooAKKKKACiiigAooooAKKKKACiiigAooooAK5vwH/AMi7df8AYa1X/wBOFxXSVzfgP/kXbr/sNar/AOnC4oA3rizgumga4jEht5RLHknCuAQDjv1PXvg9QK85+MmkDxOfCvh60/5CVxrEdzHIo+a3giBMsuewG5R7kqK6vxt420jwF4bl1jXJtqL8sMK/fnk7Io9f5Dk15xo3xp+HlnJc6zqGvnUdfvY1VorawuD5ajlbeHdGPlBPUkbmJY44AAPaKKjt3kktYnni8mVkBeMNu2MRyM98etSUAFFFFABRRRQAUUUUAFFFFABRRRQAUUUUAFFFFABRRRQAUUUUAFFFFABRRRQAUUUUAFFFFABRRRQAUUUUAFFFFABRRRQAUUUUAFFFFABRRRQAUUUUAFFFFABRRRQAUUUUAFFFFAHN+A/+Rduv+w1qv/pwuKKPAf8AyLt1/wBhrVf/AE4XFFAHSVxNz4j0Pw/8U9X/ALe1nT9M8/RdP8r7bdJD5m2e9zt3EZxkZx6iu2rm7H/kqeu/9gXTf/R99QAf8LH8Ef8AQ5eH/wDwaQf/ABVH/Cx/BH/Q5eH/APwaQf8AxVdBc3MFnay3V5NHBbwoZJZZXCpGoGSzE8AADJJrn/8AhY/gj/ocvD//AINIP/iqAD/hY/gj/ocvD/8A4NIP/iq8qj8cWEf7QMvijzdNOjyaX/ZXnf29p24HzQ/m7PtGdnHT72O2eK9dsPG/hTVL6Oy0zxPo15dSkiOC31CKR3OM8KGJPAJrcoA5v/hY/gj/AKHLw/8A+DSD/wCKo/4WP4I/6HLw/wD+DSD/AOKrpKKAOb/4WP4I/wChy8P/APg0g/8AiqP+Fj+CP+hy8P8A/g0g/wDiq6Skd1jRndgqqMlicAD1oA5z/hY/gj/ocvD/AP4NIP8A4qj/AIWP4I/6HLw//wCDSD/4qrui+KtD8RXV9b6HqUN/Jp7rHc+QSyxsc4G7oT8p6E4rXoA5v/hY/gj/AKHLw/8A+DSD/wCKo/4WP4I/6HLw/wD+DSD/AOKrpKKAOb/4WP4I/wChy8P/APg0g/8AiqP+Fj+CP+hy8P8A/g0g/wDiq6SigDm/+Fj+CP8AocvD/wD4NIP/AIqj/hY/gj/ocvD/AP4NIP8A4qukooA5v/hY/gj/AKHLw/8A+DSD/wCKo/4WP4I/6HLw/wD+DSD/AOKrpKKAOb/4WP4I/wChy8P/APg0g/8AiqP+Fj+CP+hy8P8A/g0g/wDiq6SigDm/+Fj+CP8AocvD/wD4NIP/AIqj/hY/gj/ocvD/AP4NIP8A4qukooA5v/hY/gj/AKHLw/8A+DSD/wCKo/4WP4I/6HLw/wD+DSD/AOKrpKKAOb/4WP4I/wChy8P/APg0g/8AiqP+Fj+CP+hy8P8A/g0g/wDiq6SigDm/+Fj+CP8AocvD/wD4NIP/AIqj/hY/gj/ocvD/AP4NIP8A4qukooA5v/hY/gj/AKHLw/8A+DSD/wCKo/4WP4I/6HLw/wD+DSD/AOKrpKKAOb/4WP4I/wChy8P/APg0g/8AiqP+Fj+CP+hy8P8A/g0g/wDiq6SigDm/+Fj+CP8AocvD/wD4NIP/AIqj/hY/gj/ocvD/AP4NIP8A4qukooA5v/hY/gj/AKHLw/8A+DSD/wCKo/4WP4I/6HLw/wD+DSD/AOKrpKKAOb/4WP4I/wChy8P/APg0g/8AiqP+Fj+CP+hy8P8A/g0g/wDiq6SigDm/+Fj+CP8AocvD/wD4NIP/AIqj/hY/gj/ocvD/AP4NIP8A4qukooA5v/hY/gj/AKHLw/8A+DSD/wCKo/4WP4I/6HLw/wD+DSD/AOKrpKKAOb/4WP4I/wChy8P/APg0g/8AiqP+Fj+CP+hy8P8A/g0g/wDiq6SigDm/+Fj+CP8AocvD/wD4NIP/AIqj/hY/gj/ocvD/AP4NIP8A4qukooA5v/hY/gj/AKHLw/8A+DSD/wCKo/4WP4I/6HLw/wD+DSD/AOKrpKKAOb/4WP4I/wChy8P/APg0g/8AiqP+Fj+CP+hy8P8A/g0g/wDiq6SigDm/+Fj+CP8AocvD/wD4NIP/AIqj/hY/gj/ocvD/AP4NIP8A4qukooA5v/hY/gj/AKHLw/8A+DSD/wCKo/4WP4I/6HLw/wD+DSD/AOKrpKKAOb/4WP4I/wChy8P/APg0g/8Aiq5/wX4+8H2ug3Md14s0OF21bUpAsmpQqSr307K2C3QqwIPcEHvXolc34D/5F26/7DWq/wDpwuKAD/hY/gj/AKHLw/8A+DSD/wCKo/4WP4I/6HLw/wD+DSD/AOKrpKhS9tZL2SzjuYWuolV5IFkBdFbOCV6gHBwfagDB/wCFj+CP+hy8P/8Ag0g/+Ko/4WP4I/6HLw//AODSD/4qukquuoWb6hJYJdwNeRxiV7YSAyIhOAxXqASDz7UAYf8AwsfwR/0OXh//AMGkH/xVH/Cx/BH/AEOXh/8A8GkH/wAVXSVXs9Qs9RieXT7uC6jSRomeCQOFdThlJHQg8EdqAMP/AIWP4I/6HLw//wCDSD/4qj/hY/gj/ocvD/8A4NIP/iq6SigDm/8AhY/gj/ocvD//AINIP/iqP+Fj+CP+hy8P/wDg0g/+KrpKKAOb/wCFj+CP+hy8P/8Ag0g/+Ko/4WP4I/6HLw//AODSD/4qukooA5v/AIWP4I/6HLw//wCDSD/4qj/hY/gj/ocvD/8A4NIP/iq6SigDm/8AhY/gj/ocvD//AINIP/iqP+Fj+CP+hy8P/wDg0g/+KrpKKAOb/wCFj+CP+hy8P/8Ag0g/+Ko/4WP4I/6HLw//AODSD/4qukooA5v/AIWP4I/6HLw//wCDSD/4qj/hY/gj/ocvD/8A4NIP/iq6SigDm/8AhY/gj/ocvD//AINIP/iqP+Fj+CP+hy8P/wDg0g/+KrpKKAOb/wCFj+CP+hy8P/8Ag0g/+Ko/4WP4I/6HLw//AODSD/4qukooA5v/AIWP4I/6HLw//wCDSD/4qj/hY/gj/ocvD/8A4NIP/iq6SigDm/8AhY/gj/ocvD//AINIP/iqP+Fj+CP+hy8P/wDg0g/+KrpKKAOb/wCFj+CP+hy8P/8Ag0g/+Ko/4WP4I/6HLw//AODSD/4qukooA5v/AIWP4I/6HLw//wCDSD/4qj/hY/gj/ocvD/8A4NIP/iq6SigDm/8AhY/gj/ocvD//AINIP/iqP+Fj+CP+hy8P/wDg0g/+KrpKKAOb/wCFj+CP+hy8P/8Ag0g/+Ko/4WP4I/6HLw//AODSD/4qukooA5v/AIWP4I/6HLw//wCDSD/4qj/hY/gj/ocvD/8A4NIP/iq6SigDm/8AhY/gj/ocvD//AINIP/iqP+Fj+CP+hy8P/wDg0g/+KrpKKAOb/wCFj+CP+hy8P/8Ag0g/+Ko/4WP4I/6HLw//AODSD/4qukooA5v/AIWP4I/6HLw//wCDSD/4qj/hY/gj/ocvD/8A4NIP/iq6SigDm/8AhY/gj/ocvD//AINIP/iqP+Fj+CP+hy8P/wDg0g/+KrpKKAOb/wCFj+CP+hy8P/8Ag0g/+Ko/4WP4I/6HLw//AODSD/4qukooA5v/AIWP4I/6HLw//wCDSD/4qj/hY/gj/ocvD/8A4NIP/iq6SigDm/8AhY/gj/ocvD//AINIP/iqP+Fj+CP+hy8P/wDg0g/+KrpKKAOb/wCFj+CP+hy8P/8Ag0g/+Ko/4WP4I/6HLw//AODSD/4qukooA5b4dXMF54SlurOaOe3m1bU5IpYnDJIpv5yGUjggg5BFFS+A/wDkXbr/ALDWq/8ApwuKKAOkrm7H/kqeu/8AYF03/wBH31dJXN2P/JU9d/7Aum/+j76gDZ1bTbfWdGvNMvQxtr2B7eYKcEo6lWH5E14/+0tp9nZfB+FbO0gt1TUYVURRBQo2vwMDgV7XXjn7UH/JIo/+wlD/AOgvQB6dfeHtJubizvpbKNbjTpftEEsUQ3odpBAwMkEEggdfriuSn+NPh2O11Wa20/XLxtKufs9zDBp7eYp7sVYgqoJwS2056A16FXl3wkCf8Jp8SCAu86+wJ74wcf1/WgDtL7xXBb3AtdP06/1a+8hbh7SzRA8UbfdLmVkVScHCltxwcA4qjpfxJ8O6r4Z1HW0nmt4dKdo7+3uISs9tIvBRkGTuzwAM5PArz/SZdIb45eMtE8W6hf2F9dzQXOnmLV7mzS4i8oDaPLkQMQAOuT97HQ10LeD/AIetpfirTLN5oo9S8iLVr4X8twTMzkR5kkd/3gZgTn++ueDQB0tp4zE2tWGmX+gaxpc+ob/szXccRRwqFzlo5G2nA+62G9uuOV0Dx/ruqfF3xDo9x4c1FbXTYbWFbeOe2Jg37nM0mZQPmVl4QuQF6Z4qrY6h4v8AAXjLQfD/AIruoPE+i6ncNBp+qNFsu7aUIcBxyG+UkbuuCxJ7VN4PkSP9oj4kmR1UCDTiSxxgfZxQBieGfFtj4T+InxIeezv9QuJtTiaKx0y1a4nkAjJZgo6AZGWJA5HPNd9oHxQ8OeJPCt3r2nPdmGxyLu2NqzXFuQCcNGm49AeRkcHng1z/AMMQP+Fo/Ew8bv7Sg+uPLaszRLAf8LO+K+paahXTWtI4JHX7j3IgzIB7qSc98sfWgDZuvjp4Zt9CttYg0/XL2xlG6aa1sN6Wi7iAZm3bUyBuC5LYIOOa6mbxvow8M2GuWcsl/bam6R2KWqbpLmR84RQcYPDZ3EY2nOMGuV+C/wDZz/s/aR9r8n7EbWcXW7AXb5kgfd+Gc1yXw48IR65+z/4b03WdSudGvJ9Se70a5ibbJFMPMZCoPXKiRsdwcjnFAHrWkeKk1TWptIuNI1LS76G3Fw0d6keChbaCHjd1bkHoTjHOK3q808Ia/wCKNN+IR8G+Oks9Ru/7Pa6sdatIthmiDhWWRf4TnBOMDgdeDXpdABRRRQAUUUUAFFFFABRRRQAUUUUAFFFFABRRRQAUUUUAFFFFABRRRQAUUUUAFFFFABRRRQAUUUUAFFFFABRRRQAUUUUAFFFFABRRRQAUUUUAFc34D/5F26/7DWq/+nC4rpK5vwH/AMi7df8AYa1X/wBOFxQB0ToJI2Rs7WBBwSD+Yryf4e6fa6X8fviPa2EKwQLHYOEXplodzH8WYn8a9ary7wZ/ycV8SP8Arjpv/pOKAO88Q62ND0vzo4Tc3k7iCztVOGuJm+6vsOCSf4VDE8CvM/h5p1zpnx88YQ6hdteXr6daS3M5zh5GAJ2jsozhR2UCt/xTo3xEl8cprHhR/DEtnDaiC3j1g3G+FmOZGURjGWwozknC44yc8N4S/wCFh/8ADQeufa/+EZ+2fZ7P+1vK+0eX9m4/1GefM25+9xmgD1fxLe3N9dxeGdGmeG9vI/MurmPrZW2cFwezscqnvub+A1yP7PMaxfCvy4xhE1G6VRnOAHptro3xf0vUdTn05/BE3266edp7s3ZlZeiKdoAAVAFAHAx3JJOV+zn/AMJP/wAIzN9t/sn+wftFz5fk+b9q+0+YM5z8nl43e/T3oA9pooooAKKKKACiiigAooooAKKKKACiiigAooooAKKKKACiiigAooooAKKKKACiiigAooooAKKKKACiiigAooooAKKKKACiiigAooooAKKKKACiiigAooooAKKKKACiiigDm/Af/Iu3X/Ya1X/04XFFHgP/AJF26/7DWq/+nC4ooA6Subsf+Sp67/2BdN/9H31dJXE3PhzQ/EHxT1f+3tG0/U/I0XT/ACvttqk3l7p73O3cDjOBnHoKAOr1S8lsNNluoLZrposM0SH5imRuI4OSFyQO5GOM5rz3xVZeD/HE0d74i0y51HQYH8t75tSuIoIZQpOfIVgMfNtMmAQx2nocdT/wrjwR/wBCb4f/APBXB/8AE0f8K48Ef9Cb4f8A/BXB/wDE1ElJvRnRTqUoxtOF362/p9vxTMrTdXtdI0YaV/ZuoW0d2ijS4ptQmmmulk4AEjktEyjBI3fIpBHQ4xvD+j6B4X1S4u/DPhq+TxEVeXU7QavcSfKCQWYuxWUtklMrk5J+XBrrv+FceCP+hN8P/wDgrg/+JqufBHw7XUFsG8MeGBeOhkW3On2/mMgxlgu3OBkc+4pcs/5jX22H/wCfX4v+rfjfqloYPiy18GeOWiuvEmgRajotq5hbWDK8RhfG7b8mH2Z+UnOAxxjqRJHH4dh8If8ACKz+FRZ6XfLH/Z+nLIR9uDNkbiMFWBAZskkDkk8iui/4Vx4I/wChN8P/APgrg/8AiaP+FceCP+hN8P8A/grg/wDiaOWf834B7bDf8+v/ACZ/1fv0tsk9Tm9Mh0nSruKTTPDt3d6/YRyGW1utSmuWsYwcHynmLAbx90KF3D0wafdr4RvvFyeLpdEjmhgIt5dcMrqqOoDLui6MqkKN5HysAO2R0DfDrwMiln8H+HlVRkk6XAAB/wB81BZeBvh7qVqt1p3hfwzd27FlWWDT7d0JUlWAIXHBBB9CCKOWf834f1/XYPbYf/n1/wCTP+tOn48xg31v4fvtYOq6h4cudP1a+WP7DLZ3strNqKvwFkaIrggYLK5bavPqAax4s0rw14Hu9Mh0210uaC3mW6s3uFijtgcrneR+8ZycqMZfnpzXTf8ACuPBH/Qm+H//AAVwf/E0f8K48Ef9Cb4f/wDBXB/8TRyz/mD22H/59fi/6t+N+qWh4/8ACmLwrceALCDVtOY29qhTWGGpSJEkjF2RprVG2ujKAN7jk8c4JHomuXOkeI9OtbDxL4elCmWK50W3W4eNp3IZUIKbTGyhiSMnaCD243P+FceCP+hN8P8A/grg/wDiaP8AhXHgj/oTfD//AIK4P/iaOWf834B7bDf8+v8AyZ/1fv0tsk9TM8MDSNO1ZYLLSZ116YGO/NzeSXUttEhOC00pLGMnGwDAO7OBg47eub/4Vx4I/wChN8P/APgrg/8AiaP+FceCP+hN8P8A/grg/wDiaqKa3Zz1ZQk7wjb53/r+tWdJRXN/8K48Ef8AQm+H/wDwVwf/ABNH/CuPBH/Qm+H/APwVwf8AxNUZHSUVzf8AwrjwR/0Jvh//AMFcH/xNH/CuPBH/AEJvh/8A8FcH/wATQB0lFc3/AMK48Ef9Cb4f/wDBXB/8TR/wrjwR/wBCb4f/APBXB/8AE0AdJRXN/wDCuPBH/Qm+H/8AwVwf/E0f8K48Ef8AQm+H/wDwVwf/ABNAHSUVzf8AwrjwR/0Jvh//AMFcH/xNH/CuPBH/AEJvh/8A8FcH/wATQB0lFc3/AMK48Ef9Cb4f/wDBXB/8TR/wrjwR/wBCb4f/APBXB/8AE0AdJRXN/wDCuPBH/Qm+H/8AwVwf/E0f8K48Ef8AQm+H/wDwVwf/ABNAHSUVzf8AwrjwR/0Jvh//AMFcH/xNH/CuPBH/AEJvh/8A8FcH/wATQB0lFc3/AMK48Ef9Cb4f/wDBXB/8TR/wrjwR/wBCb4f/APBXB/8AE0AdJRXN/wDCuPBH/Qm+H/8AwVwf/E0f8K48Ef8AQm+H/wDwVwf/ABNAHSUVzf8AwrjwR/0Jvh//AMFcH/xNH/CuPBH/AEJvh/8A8FcH/wATQB0lFc3/AMK48Ef9Cb4f/wDBXB/8TR/wrjwR/wBCb4f/APBXB/8AE0AdJRXN/wDCuPBH/Qm+H/8AwVwf/E0f8K48Ef8AQm+H/wDwVwf/ABNAHSUVzf8AwrjwR/0Jvh//AMFcH/xNH/CuPBH/AEJvh/8A8FcH/wATQB0lFc3/AMK48Ef9Cb4f/wDBXB/8TR/wrjwR/wBCb4f/APBXB/8AE0AdJRXN/wDCuPBH/Qm+H/8AwVwf/E0f8K48Ef8AQm+H/wDwVwf/ABNAHSUVzf8AwrjwR/0Jvh//AMFcH/xNH/CuPBH/AEJvh/8A8FcH/wATQB0lFc3/AMK48Ef9Cb4f/wDBXB/8TR/wrjwR/wBCb4f/APBXB/8AE0AdJRXN/wDCuPBH/Qm+H/8AwVwf/E0f8K48Ef8AQm+H/wDwVwf/ABNAHSUVzf8AwrjwR/0Jvh//AMFcH/xNH/CuPBH/AEJvh/8A8FcH/wATQB0lc34D/wCRduv+w1qv/pwuKP8AhXHgj/oTfD//AIK4P/ia5/wX4B8H3Wg3Ml14T0OZ11bUow0mmwsQqX06quSvQKoAHYADtQB6FIgliaNiwDKVJVip59COQfcVy2lfDPwvoniB9c021votSlOZbltVupGm/wCum6Qhx7Nmp/8AhXHgj/oTfD//AIK4P/iaP+FceCP+hN8P/wDgrg/+JoA6Ssu28N6VZ+Jb3X7e12anfRJDcT+Y53on3RtJ2jHsBWf/AMK48Ef9Cb4f/wDBXB/8TR/wrjwR/wBCb4f/APBXB/8AE0AdJWX4f8N6V4V0s6doNr9ltTK83l+Y7/OxyxyxJ5NZ/wDwrjwR/wBCb4f/APBXB/8AE0f8K48Ef9Cb4f8A/BXB/wDE0AdJRXN/8K48Ef8AQm+H/wDwVwf/ABNH/CuPBH/Qm+H/APwVwf8AxNAHSUVzf/CuPBH/AEJvh/8A8FcH/wATR/wrjwR/0Jvh/wD8FcH/AMTQB0lFc3/wrjwR/wBCb4f/APBXB/8AE0f8K48Ef9Cb4f8A/BXB/wDE0AdJRXN/8K48Ef8AQm+H/wDwVwf/ABNH/CuPBH/Qm+H/APwVwf8AxNAHSUVzf/CuPBH/AEJvh/8A8FcH/wATR/wrjwR/0Jvh/wD8FcH/AMTQB0lFc3/wrjwR/wBCb4f/APBXB/8AE0f8K48Ef9Cb4f8A/BXB/wDE0AdJRXN/8K48Ef8AQm+H/wDwVwf/ABNH/CuPBH/Qm+H/APwVwf8AxNAHSUVzf/CuPBH/AEJvh/8A8FcH/wATR/wrjwR/0Jvh/wD8FcH/AMTQB0lFc3/wrjwR/wBCb4f/APBXB/8AE0f8K48Ef9Cb4f8A/BXB/wDE0AdJRXN/8K48Ef8AQm+H/wDwVwf/ABNH/CuPBH/Qm+H/APwVwf8AxNAHSUVzf/CuPBH/AEJvh/8A8FcH/wATR/wrjwR/0Jvh/wD8FcH/AMTQB0lFc3/wrjwR/wBCb4f/APBXB/8AE0f8K48Ef9Cb4f8A/BXB/wDE0AdJRXN/8K48Ef8AQm+H/wDwVwf/ABNH/CuPBH/Qm+H/APwVwf8AxNAHSUVzf/CuPBH/AEJvh/8A8FcH/wATR/wrjwR/0Jvh/wD8FcH/AMTQB0lFc3/wrjwR/wBCb4f/APBXB/8AE0f8K48Ef9Cb4f8A/BXB/wDE0AdJRXN/8K48Ef8AQm+H/wDwVwf/ABNH/CuPBH/Qm+H/APwVwf8AxNAHSUVzf/CuPBH/AEJvh/8A8FcH/wATR/wrjwR/0Jvh/wD8FcH/AMTQB0lFc3/wrjwR/wBCb4f/APBXB/8AE0f8K48Ef9Cb4f8A/BXB/wDE0AdJRXN/8K48Ef8AQm+H/wDwVwf/ABNH/CuPBH/Qm+H/APwVwf8AxNAHSUVzf/CuPBH/AEJvh/8A8FcH/wATR/wrjwR/0Jvh/wD8FcH/AMTQB0lFc3/wrjwR/wBCb4f/APBXB/8AE0f8K48Ef9Cb4f8A/BXB/wDE0AdJRXN/8K48Ef8AQm+H/wDwVwf/ABNH/CuPBH/Qm+H/APwVwf8AxNAHSUVzf/CuPBH/AEJvh/8A8FcH/wATR/wrjwR/0Jvh/wD8FcH/AMTQB0lFc3/wrjwR/wBCb4f/APBXB/8AE0f8K48Ef9Cb4f8A/BXB/wDE0AHgP/kXbr/sNar/AOnC4oqL4dW0Fn4SltbOGOC3h1bU44ookCpGov5wFUDgAAYAFFAHU1zdj/yVPXf+wLpv/o++rpK5ux/5Knrv/YF03/0ffUAb13dQ2NlPd3ThIYI2lkc/wqoyT+Qryj4eRP8AFu2vPF3jBWuNKluXh0rRpGP2eOJTgvIg4kcnI+bIGDjrx6R4p0uTW/B+s6VA22S+sJ7ZGzjBeNlH8685/Zv1CFvhedGfMWo6ReTQ3dtIMPGxcsMjqOpH1U+lAG/4g+GenMNOuvCkH9jz2OoW101rYube3ukjmV2SSJcIeASDjOQK5vUG0rw/+1Eb+b7Np9u3hVri6mIEas5uWBdj3JwBnqeK9au7yCxtzPdSCOMELkgnJJAAAHJJJAAHUmvL9QtoLn9rDTjcQpKYfCvmR71B2MLlwGHoeTzQB2/hfxx4d8ZpdHw1qaXptHCTp5bxvGT0yrgHBwecY4NJqvjnw/o11cW97eStJagG5+y2k1wLYEZHmmNGEfHPzY45ritLU2/7S3ik2iDfLoEErL2kkDKAT+AAp37PV2L/AOFrzXJL6jJqVy2oM4+dp2fJL++0r1oA7m/Oj+K/Bs8i/ZdV0y7tmZGwsscgweR24P5EVyH7Pn/JCfD3/bz/AOlMtZHwitZdN/4WLpduT/Y9lrNxHZIPuxnDb0X0A+QY9a1/2fP+SE+Hv+3n/wBKZaAPSaKKKACiiigAooooAKKKKACiiigAooooAKKKKACiiigAooooAKKKKACiiigAooooAKKKKACiiigAooooAKKKKACiiigAooooAKKKKACiiigAooooAKKKKACiiigArm/Af/Iu3X/Ya1X/ANOFxXSVzfgP/kXbr/sNar/6cLigDonUvGyhmQsCNy9R7ivK/AMMlp8eviFZteXd1HBFY+WbqdpWQPGXKgnoMscDtXq1eXeDP+TiviR/1x03/wBJxQB6jRRRQAUUUUAFFFFABRRRQAUUUUAFFFFABRRRQAUUUUAFFFFABRRRQAUUUUAFFFFABRRRQAUUUUAFFFFABRRRQAUUUUAFFFFABRRRQAUUUUAFFFFABRRRQAUUUUAFFFFABRRRQAUUUUAc34D/AORduv8AsNar/wCnC4oo8B/8i7df9hrVf/ThcUUAdJXN2P8AyVPXf+wLpv8A6Pvq6SuJudBtNb+Ker/bZtQi8nRdP2/YtSuLTOZ73O7yXXd04znHOOpoA7auQ1j4aaLqfiJtfsbjUND1hwFlvtKuPJeYejqQyP0HVT0HpVv/AIQPSP8An88Qf+FHqH/x+j/hA9I/5/PEH/hR6h/8foAn0zwrDZXUV1f6lqOs3UOTDNqEqt5RIwSqIqoDjjdtzjIzyax5fhpBL8QV8YnxJrg1JE8lEV7fylg3FvI2+T9zk9Tu77s81o/8IHpH/P54g/8ACj1D/wCP0f8ACB6R/wA/niD/AMKPUP8A4/QBRsPhvBYePp/F6+Itbn1G5j8maOV7cwvEMYj2iEYUYHQg+/JzIPh1YWmu32q6BqmqaFLqLb72Kwkj8q4fu5SRHCsf7ybTVr/hA9I/5/PEH/hR6h/8fo/4QPSP+fzxB/4Ueof/AB+gCX/hD7G38JSeHtHuLrSbeUNvntXVpmLHLsXkV8s2TliCeeCKg8C+CLbwDof9j6Zqmo3tghzBDfNE3kZZmbaUjU/MWyck9OMc5d/wgekf8/niD/wo9Q/+P0f8IHpH/P54g/8ACj1D/wCP0AdJRXN/8IHpH/P54g/8KPUP/j9H/CB6R/z+eIP/AAo9Q/8Aj9AHSUVzf/CB6R/z+eIP/Cj1D/4/R/wgekf8/niD/wAKPUP/AI/QB0lFc3/wgekf8/niD/wo9Q/+P0f8IHpH/P54g/8ACj1D/wCP0AdJRXN/8IHpH/P54g/8KPUP/j9H/CB6R/z+eIP/AAo9Q/8Aj9AHSUVzf/CB6R/z+eIP/Cj1D/4/R/wgekf8/niD/wAKPUP/AI/QB0lFc3/wgekf8/niD/wo9Q/+P0f8IHpH/P54g/8ACj1D/wCP0AdJRXN/8IHpH/P54g/8KPUP/j9H/CB6R/z+eIP/AAo9Q/8Aj9AHSUVzf/CB6R/z+eIP/Cj1D/4/R/wgekf8/niD/wAKPUP/AI/QB0lFc3/wgekf8/niD/wo9Q/+P0f8IHpH/P54g/8ACj1D/wCP0AdJRXN/8IHpH/P54g/8KPUP/j9H/CB6R/z+eIP/AAo9Q/8Aj9AHSUVzf/CB6R/z+eIP/Cj1D/4/R/wgekf8/niD/wAKPUP/AI/QB0lFc3/wgekf8/niD/wo9Q/+P0f8IHpH/P54g/8ACj1D/wCP0AdJRXN/8IHpH/P54g/8KPUP/j9H/CB6R/z+eIP/AAo9Q/8Aj9AHSUVzf/CB6R/z+eIP/Cj1D/4/R/wgekf8/niD/wAKPUP/AI/QB0lFc3/wgekf8/niD/wo9Q/+P0f8IHpH/P54g/8ACj1D/wCP0AdJRXN/8IHpH/P54g/8KPUP/j9H/CB6R/z+eIP/AAo9Q/8Aj9AHSUVzf/CB6R/z+eIP/Cj1D/4/R/wgekf8/niD/wAKPUP/AI/QB0lFc3/wgekf8/niD/wo9Q/+P0f8IHpH/P54g/8ACj1D/wCP0AdJRXN/8IHpH/P54g/8KPUP/j9H/CB6R/z+eIP/AAo9Q/8Aj9AHSUVzf/CB6R/z+eIP/Cj1D/4/R/wgekf8/niD/wAKPUP/AI/QB0lFc3/wgekf8/niD/wo9Q/+P0f8IHpH/P54g/8ACj1D/wCP0AdJRXN/8IHpH/P54g/8KPUP/j9H/CB6R/z+eIP/AAo9Q/8Aj9AHSUVzf/CB6R/z+eIP/Cj1D/4/R/wgekf8/niD/wAKPUP/AI/QB0lc34D/AORduv8AsNar/wCnC4o/4QPSP+fzxB/4Ueof/H65/wAF+CtLudBuXkutcBGrakgEev3yDC306jhZgM4AyepOSSSSaAPQpFLxMqu0ZZSA64yvuMgjP1FcZofw0h0LxjeeJofE2u3N/qGz7aLhrYx3IUYUMqwjAA4G3bitH/hA9I/5/PEH/hR6h/8AH6P+ED0j/n88Qf8AhR6h/wDH6AOkorm/+ED0j/n88Qf+FHqH/wAfo/4QPSP+fzxB/wCFHqH/AMfoA6Siub/4QPSP+fzxB/4Ueof/AB+j/hA9I/5/PEH/AIUeof8Ax+gDpKK5v/hA9I/5/PEH/hR6h/8AH6P+ED0j/n88Qf8AhR6h/wDH6AOkorm/+ED0j/n88Qf+FHqH/wAfo/4QPSP+fzxB/wCFHqH/AMfoA6Siub/4QPSP+fzxB/4Ueof/AB+j/hA9I/5/PEH/AIUeof8Ax+gDpKK5v/hA9I/5/PEH/hR6h/8AH6P+ED0j/n88Qf8AhR6h/wDH6AOkorm/+ED0j/n88Qf+FHqH/wAfo/4QPSP+fzxB/wCFHqH/AMfoA6Siub/4QPSP+fzxB/4Ueof/AB+j/hA9I/5/PEH/AIUeof8Ax+gDpKK5v/hA9I/5/PEH/hR6h/8AH6P+ED0j/n88Qf8AhR6h/wDH6AOkorm/+ED0j/n88Qf+FHqH/wAfo/4QPSP+fzxB/wCFHqH/AMfoA6Siub/4QPSP+fzxB/4Ueof/AB+j/hA9I/5/PEH/AIUeof8Ax+gDpKK5v/hA9I/5/PEH/hR6h/8AH6P+ED0j/n88Qf8AhR6h/wDH6AOkorm/+ED0j/n88Qf+FHqH/wAfo/4QPSP+fzxB/wCFHqH/AMfoA6Siub/4QPSP+fzxB/4Ueof/AB+j/hA9I/5/PEH/AIUeof8Ax+gDpKK5v/hA9I/5/PEH/hR6h/8AH6P+ED0j/n88Qf8AhR6h/wDH6AOkorm/+ED0j/n88Qf+FHqH/wAfo/4QPSP+fzxB/wCFHqH/AMfoA6Siub/4QPSP+fzxB/4Ueof/AB+j/hA9I/5/PEH/AIUeof8Ax+gDpKK5v/hA9I/5/PEH/hR6h/8AH6P+ED0j/n88Qf8AhR6h/wDH6AOkorm/+ED0j/n88Qf+FHqH/wAfo/4QPSP+fzxB/wCFHqH/AMfoA6Siub/4QPSP+fzxB/4Ueof/AB+j/hA9I/5/PEH/AIUeof8Ax+gDpKK5v/hA9I/5/PEH/hR6h/8AH6P+ED0j/n88Qf8AhR6h/wDH6AOkorm/+ED0j/n88Qf+FHqH/wAfo/4QPSP+fzxB/wCFHqH/AMfoA6Siub/4QPSP+fzxB/4Ueof/AB+j/hA9I/5/PEH/AIUeof8Ax+gDpKK5v/hA9I/5/PEH/hR6h/8AH6P+ED0j/n88Qf8AhR6h/wDH6AOkorm/+ED0j/n88Qf+FHqH/wAfo/4QPSP+fzxB/wCFHqH/AMfoA6Siub/4QPSP+fzxB/4Ueof/AB+j/hA9I/5/PEH/AIUeof8Ax+gA8B/8i7df9hrVf/ThcUVF8OoEtfCUtvEZGSHVtTRTLI0jkC/nA3OxLMfUkknqTRQB1Nc3Y/8AJU9d/wCwLpv/AKPvq6Subsf+Sp67/wBgXTf/AEffUAbt5aR31nLaztMscq7WaCd4XA9nQhlPuCDXi3wp02XxD4p8d2Gt654ivINH1drWz3a9eIY4w8gwSkozwo5Ne4V4J8LfDVtr/wAQPiW9zfaramHxBKANP1Ka1DZll+8I2G7p36UAd/d+EFsbHxBcWmuavc6bc6e6CGbWLiVraaPeCUcuWGc4I3dU79s74ReItJ0r4N+F/wC3NYs7Ka6ik8v7ZdJG0rea/TcQWNdFZeHl8LfDXUNJSeW4SKO9kSSaQyOyySSyDcx5Jw+CT3rgfhh8NfCvir4H6Uda0mC5ur21dTeSLumiw7hfLc8oB1wMDOcg5NAHsd1eW1jZyXd7cRW9tGu55pnCIg9Sx4AqrpniDRtbGdG1ax1AY3ZtLlJeM4z8pPevFfBlj4p8VfADw9JpctvfajomrefBFesTFexQu6rGWPYbvlJ6bF6YyOz8EeLNK8Q+OLxNR0O68OeMYrIR3llcKMTRBgQ6uB+8AJwDxwT1HNAHo9FFFABRRRQAUUUUAFFFFABRRRQAUUUUAFFFFABRRRQAUUUUAFFFFABRRRQAUUUUAFFFFABRRRQAUUUUAFFFFABRRRQAUUUUAFFFFABRRRQAUUUUAFFFFABRRRQAUUUUAFc34D/5F26/7DWq/wDpwuK6Sub8B/8AIu3X/Ya1X/04XFAHROGMbCNgrEHaxGQD64715r4H1LWpPjR450fV9ZuNRttPiszbLIqosQkQuQEXAz82M9TgZNemV5d4M/5OK+JH/XHTf/ScUAeo0UUUAFFFFABRRRQAUUUUAFFFFABRRRQAUUUUAFFFFABRRRQAUUUUAFFFFABRRRQAUUUUAFFFFABRRRQAUUUUAFFFFABRRRQAUUUUAFFFFABRRRQAUUUUAFFFFABRRRQAUUUUAFFFFAHN+A/+Rduv+w1qv/pwuKKPAf8AyLt1/wBhrVf/AE4XFFAHSVzdj/yVPXf+wLpv/o++rpK4m50u71L4p6v9j13UNI8vRdP3fYo7dvNzPe43edE/THGMdTnPGADqNZumstJmmjuobSTKok88DTRozMFBZFZSRkjPzDHUkAV5v4I8IXngfx/qiv4zs7+51+5a8vbNtHdMv87nZIJiEbDMdpzwM47110/hDUrm3kguPG+vSxSKUdHt9PIYHggj7LWWnwsSPSH0xPF/iAWsknmsNtlu34xuD/Z9wOAAMHgDA4qJc99Dop+w5f3l7+Vv607de6Oik17Q9U03U4zeq1vAhjumAZcK4IBUkfMDyAVyCRgc1wek6OvhnwRBpVn46MXhicPFbF9MP22JCx3qJQQFwS2WaLK9yMVvS/DQzS2Mj+Ltd3aeFFttisVCBfuggW2GAIyAc4PI5p0fw3eLUbm+Txfrvn3UZjmJhsCrKeWG0220ZwM4HOBnNL955Gv+x/3vw+79b28rPcj1PRbG3g0Hwr4R1tfD13pM4ntkS1M6uqxSKY3yQDuDliC244J9xHolpp03iq98W63r9rqWo6ZZfYzJb2TWsFvCWLFgGZy+4g/NuI4IA605fhaqaTJpq+L/ABALaSXzWG2y378Y3B/s+4HAAGDwOBxUk3wz+0NZmXxdrp+xKqQKIrFVCrgqpAtsMAQCA2QCM9aP3nkH+x/3vw/rXt03u9jt0cSRq6/dYZGRjilrm/8AhF9X/wCh78Qf9+NP/wDkWj/hF9X/AOh78Qf9+NP/APkWtDiOkorm/wDhF9X/AOh78Qf9+NP/APkWj/hF9X/6HvxB/wB+NP8A/kWgDpKK5v8A4RfV/wDoe/EH/fjT/wD5Fo/4RfV/+h78Qf8AfjT/AP5FoA6Siub/AOEX1f8A6HvxB/340/8A+RaP+EX1f/oe/EH/AH40/wD+RaAOkorm/wDhF9X/AOh78Qf9+NP/APkWj/hF9X/6HvxB/wB+NP8A/kWgDpKK5v8A4RfV/wDoe/EH/fjT/wD5Fo/4RfV/+h78Qf8AfjT/AP5FoA6Siub/AOEX1f8A6HvxB/340/8A+RaP+EX1f/oe/EH/AH40/wD+RaAOkorm/wDhF9X/AOh78Qf9+NP/APkWj/hF9X/6HvxB/wB+NP8A/kWgDpKK5v8A4RfV/wDoe/EH/fjT/wD5Fo/4RfV/+h78Qf8AfjT/AP5FoA6Siub/AOEX1f8A6HvxB/340/8A+RaP+EX1f/oe/EH/AH40/wD+RaAOkorm/wDhF9X/AOh78Qf9+NP/APkWj/hF9X/6HvxB/wB+NP8A/kWgDpKK5v8A4RfV/wDoe/EH/fjT/wD5Fo/4RfV/+h78Qf8AfjT/AP5FoA6Siub/AOEX1f8A6HvxB/340/8A+RaP+EX1f/oe/EH/AH40/wD+RaAOkorm/wDhF9X/AOh78Qf9+NP/APkWj/hF9X/6HvxB/wB+NP8A/kWgDpKK5v8A4RfV/wDoe/EH/fjT/wD5Fo/4RfV/+h78Qf8AfjT/AP5FoA6Siub/AOEX1f8A6HvxB/340/8A+RaP+EX1f/oe/EH/AH40/wD+RaAOkorm/wDhF9X/AOh78Qf9+NP/APkWj/hF9X/6HvxB/wB+NP8A/kWgDpKK5v8A4RfV/wDoe/EH/fjT/wD5Fo/4RfV/+h78Qf8AfjT/AP5FoA6Siub/AOEX1f8A6HvxB/340/8A+RaP+EX1f/oe/EH/AH40/wD+RaAOkorm/wDhF9X/AOh78Qf9+NP/APkWj/hF9X/6HvxB/wB+NP8A/kWgDpKK5v8A4RfV/wDoe/EH/fjT/wD5Fo/4RfV/+h78Qf8AfjT/AP5FoA6Siub/AOEX1f8A6HvxB/340/8A+RaP+EX1f/oe/EH/AH40/wD+RaAOkorm/wDhF9X/AOh78Qf9+NP/APkWj/hF9X/6HvxB/wB+NP8A/kWgDpKK5v8A4RfV/wDoe/EH/fjT/wD5Fo/4RfV/+h78Qf8AfjT/AP5FoA6Sub8B/wDIu3X/AGGtV/8AThcUf8Ivq/8A0PfiD/vxp/8A8i1z/gvw5qk2g3LR+NNcgA1bUlKRw2JBIvpwW+a2JyxBY9sk4AGAAD0KQOYmETKshU7WZdwB7EjIyPbIrgfDvgDxBovxC1XxVdeJ7G7fWPKW9tV0holKxrtQRt55KkAdTurc/wCEX1f/AKHvxB/340//AORaP+EX1f8A6HvxB/340/8A+RaAOkorm/8AhF9X/wCh78Qf9+NP/wDkWj/hF9X/AOh78Qf9+NP/APkWgDpKK5v/AIRfV/8Aoe/EH/fjT/8A5Fo/4RfV/wDoe/EH/fjT/wD5FoA6Siub/wCEX1f/AKHvxB/340//AORaP+EX1f8A6HvxB/340/8A+RaAOkorm/8AhF9X/wCh78Qf9+NP/wDkWj/hF9X/AOh78Qf9+NP/APkWgDpKK5v/AIRfV/8Aoe/EH/fjT/8A5Fo/4RfV/wDoe/EH/fjT/wD5FoA6Siub/wCEX1f/AKHvxB/340//AORaP+EX1f8A6HvxB/340/8A+RaAOkorm/8AhF9X/wCh78Qf9+NP/wDkWj/hF9X/AOh78Qf9+NP/APkWgDpKK5v/AIRfV/8Aoe/EH/fjT/8A5Fo/4RfV/wDoe/EH/fjT/wD5FoA6Siub/wCEX1f/AKHvxB/340//AORaP+EX1f8A6HvxB/340/8A+RaAOkorm/8AhF9X/wCh78Qf9+NP/wDkWj/hF9X/AOh78Qf9+NP/APkWgDpKK5v/AIRfV/8Aoe/EH/fjT/8A5Fo/4RfV/wDoe/EH/fjT/wD5FoA6Siub/wCEX1f/AKHvxB/340//AORaP+EX1f8A6HvxB/340/8A+RaAOkorm/8AhF9X/wCh78Qf9+NP/wDkWj/hF9X/AOh78Qf9+NP/APkWgDpKK5v/AIRfV/8Aoe/EH/fjT/8A5Fo/4RfV/wDoe/EH/fjT/wD5FoA6Siub/wCEX1f/AKHvxB/340//AORaP+EX1f8A6HvxB/340/8A+RaAOkorm/8AhF9X/wCh78Qf9+NP/wDkWj/hF9X/AOh78Qf9+NP/APkWgDpKK5v/AIRfV/8Aoe/EH/fjT/8A5Fo/4RfV/wDoe/EH/fjT/wD5FoA6Siub/wCEX1f/AKHvxB/340//AORaP+EX1f8A6HvxB/340/8A+RaAOkorm/8AhF9X/wCh78Qf9+NP/wDkWj/hF9X/AOh78Qf9+NP/APkWgDpKK5v/AIRfV/8Aoe/EH/fjT/8A5Fo/4RfV/wDoe/EH/fjT/wD5FoA6Siub/wCEX1f/AKHvxB/340//AORaP+EX1f8A6HvxB/340/8A+RaAOkorm/8AhF9X/wCh78Qf9+NP/wDkWj/hF9X/AOh78Qf9+NP/APkWgDpKK5v/AIRfV/8Aoe/EH/fjT/8A5Fo/4RfV/wDoe/EH/fjT/wD5FoA6Siub/wCEX1f/AKHvxB/340//AORaP+EX1f8A6HvxB/340/8A+RaAOkorm/8AhF9X/wCh78Qf9+NP/wDkWj/hF9X/AOh78Qf9+NP/APkWgDpKK5v/AIRfV/8Aoe/EH/fjT/8A5Fo/4RfV/wDoe/EH/fjT/wD5FoAPAf8AyLt1/wBhrVf/AE4XFFRfDqJ4PCUsUs8ly8eramrTShQ8hF/OCzbQFyepwAPQCigDqa5ux/5Knrv/AGBdN/8AR99XSVzdj/yVPXf+wLpv/o++oA6NmCqWYgADJJ7Vz2i+ILXxxoN9caFeyW8C3MtpDe25RmYoQC67lK4JzjIORz3rbvLK11GzltNQtobq2mXbJDPGHRx6FTwRXlH7PehaRH4HbVI9Lsl1EX91ELxbdBME34278ZxjtnFAG18CtY1HXvhLYajrV7NfXk09wXmncsx/esAPoBwB0FeiV88fDbwLpPir9nJZtbNzcPDHePaL57Ilq6u5DqqkAtkZy2T26cV1ehmXxX+zroNxrniZ9HiEcb3187czQxyFTGzbgRvCgZznPrnBAPXK8yu77V7T9o/TNMbWrybS7rR5rn7E7KsaOHI6KBuGAMbskc81ztvJpml/H7wgPB2k3Giabq1pdxXKC1+yw3gjiZ1YRHByCB8zKM8YJroNW/5Of0D/ALF+f/0Y1AHp9FeX614e8NzeLddTxM0vizUdRVDaaZHaebLpkWwgBGJ2w7jkh2KZOOT1rj9C8d6zo37KFnqyXzHUWmNjFeTHcYVM5Tdz1KpnGemB6UAfQFeZ/wBoatb/ALSsejyaxeXGmS+H3vVs3ZRHG5n2cBQM4CcFskZPNXdY+EumXB0m58N3TaDqmnXKTPqcMfmT3aD7ySuSC+71Yn6EcVga/piav+1DaWc89xDA/hM+aLeQxtIv2l8puHzKD32kHtnk0AevUV5H4C0q38IfHTxP4a0PfBo0umwX6WhkZ1ilJCkruJPOST+HoK9coAKKKKACiiigAooooAKKKKACiiigAooooAKKKKACiiigAooooAKKKKACiiigAooooAKKKKACiiigAooooAKKKKACiiigAooooAKKKKACiiigAooooAK5vwH/AMi7df8AYa1X/wBOFxXSVzfgP/kXbr/sNar/AOnC4oA6J9wjbywpfB2hjgE+9ef+DfFHiHUviv4w8P69PaPb6PHam2S1hKKPNUvkkksTgqDzjjgCvQq8u8Gf8nFfEj/rjpv/AKTigD025uIbO1lubqVYYIUMkkjnCooGSSewAFeceB/HOt+Jvir4h0++T7LpNtYwT2No0YDhXORI5xuDMpB254BAxnNQfEL4i+FdN8YW/hrxZqv2Cwt40vLpDbyyfa2zmOL5FPyArubPXCryCwrlvCXxP8IXf7QeuXtvq++31q3s7Kwf7NMPOm4XbgpleTjLYHvQB33jnXdSufENl4S8LeJbLw/qssJvJrq4jjlbywdqxrG/3ix3HIHAT3FbHg3R/FGkW10PGHihfEE0jqYWWxjthCoByMIOSSe/oPeqvi34W+EPGzyza/pEcl5IgX7ZExSZcDAww649Dke1Y/wll1nTbjxJ4P16+k1JvDt5HHa3krZeSCWMPGrH1Ax34zjoBQB6PRRRQAUUUUAFFFFABRRRQAUUUUAFFFFABRRRQAUUUUAFFFFABRRRQAUUUUAFFFFABRRRQAUUUUAFFFFABRRRQAUUUUAFFFFABRRRQAUUUUAFFFFABRRRQAUUUUAFFFFAHN+A/wDkXbr/ALDWq/8ApwuKKPAf/Iu3X/Ya1X/04XFFAHSVzdj/AMlT13/sC6b/AOj76ukribmDXJvinq/9g6jp9ljRdP8AN+22D3O/9/e427Zo9uOc5znI6Y5AOzmnit4w9xKkSFlQM7BRuYhVHPckgAdyRXmXgvw54n8B2uoeH7PUPD96Gnmu9NtpriSKaZXYZ83CttVck/KrbjgZUZNdJfaJ4w1GxltLvXvD7wzLtYf2FOPxB+2cHuD2rGXwB4rW1dT4u01rwy+cuotospuUbbsGG+1YwF+XBBHJzknNRJyvojopxouP7yTT9P6+f4GP4E8OeJ/Cvwn1Pwqs/hm8uLQTRpcJqcoSLzNxbzh5OVK7s47j+71OWPAOuf8ACnfDWky634etrvQ9Siu9OuhePJZ3xDMyq+UXBy3GN2ce/HWt8PvEf+iiLxDosMcCxpJFHokwW6WM5QSg3fzYOTngnJzkHFOHgDxEbmd5df0Oa3ljkRbOTQ5jDD5hzIUX7XlSx7545xjJpXqdjXkwn8z+7+tfwt5mdrPhbxTq3xG8J65Nrfh+21TTI7nzLFQ7bI5E2F41JDSEZPJ2AfL75L3RvEl58ZIvF9nceHJdO0i0fT5oX1OQSqhJZnciEqj4IO3px15yL48A+Kxaup8W6a1403nLqLaLKbhG27BhvtWMBflwQRyc5JzQ3w+8R/6KIvEOiwxwLGkkUeiTBbpYzlBKDd/Ng5OeCcnOQcUXn2Dkwv8AO/u/r5ee9ijoWg634Y8Ta7qdj4h0F/D3iS/+2R3tzIWnjdz/AKtOiOMcLluMDg8g0fDfwseD4Y3Xw38X61p8gmEklmliSJVHmbxMd2CSGxwAABkEnORvDwB4iNzO8uv6HNbyxyItnJocxhh8w5kKL9rypY988c4xk00eAfFYtXU+LdNa8abzl1FtFlNwjbdgw32rGAvy4II5Ock5ovPsHJhf53933fd1/AyfDPh7x19kfRPEvjXRbzQNO/c3MloC13JGo/1UrHAjyvBPLYzz3qa50vxAfjBaePRceGV0ZrIaVCG1SQNNC0pdZA3lbd5z9wEjtu/irQb4feI/9FEXiHRYY4FjSSKPRJgt0sZyglBu/mwcnPBOTnIOKcPAHiI3M7y6/oc1vLHIi2cmhzGGHzDmQov2vKlj3zxzjGTRep2Dkwn8z+7+tfwt5lPTdE8R2fx0u/EGoSeHkh1GxFotjHqMhuViRgfMCmIBjkHI4Az1459Orz+HwL4pjtJYpvE+k3M8k6zm8m0WYzq64C4cXYwABgD0znOTnc+w+N/+hh8P/wDghn/+TKqPN1MKqpq3s3c6Siub+w+N/wDoYfD/AP4IZ/8A5Mo+w+N/+hh8P/8Aghn/APkyqMTpKK5v7D43/wChh8P/APghn/8Akyj7D43/AOhh8P8A/ghn/wDkygDpKK5v7D43/wChh8P/APghn/8Akyj7D43/AOhh8P8A/ghn/wDkygDpKK5v7D43/wChh8P/APghn/8Akyj7D43/AOhh8P8A/ghn/wDkygDpKK5v7D43/wChh8P/APghn/8Akyj7D43/AOhh8P8A/ghn/wDkygDpKK5v7D43/wChh8P/APghn/8Akyj7D43/AOhh8P8A/ghn/wDkygDpKK5v7D43/wChh8P/APghn/8Akyj7D43/AOhh8P8A/ghn/wDkygDpKK5v7D43/wChh8P/APghn/8Akyj7D43/AOhh8P8A/ghn/wDkygDpKK5v7D43/wChh8P/APghn/8Akyj7D43/AOhh8P8A/ghn/wDkygDpKK5v7D43/wChh8P/APghn/8Akyj7D43/AOhh8P8A/ghn/wDkygDpKK5v7D43/wChh8P/APghn/8Akyj7D43/AOhh8P8A/ghn/wDkygDpKK5v7D43/wChh8P/APghn/8Akyj7D43/AOhh8P8A/ghn/wDkygDpKK5v7D43/wChh8P/APghn/8Akyj7D43/AOhh8P8A/ghn/wDkygDpKK5v7D43/wChh8P/APghn/8Akyj7D43/AOhh8P8A/ghn/wDkygDpKK5v7D43/wChh8P/APghn/8Akyj7D43/AOhh8P8A/ghn/wDkygDpKK5v7D43/wChh8P/APghn/8Akyj7D43/AOhh8P8A/ghn/wDkygDpKK5v7D43/wChh8P/APghn/8Akyj7D43/AOhh8P8A/ghn/wDkygDpKK5v7D43/wChh8P/APghn/8Akyj7D43/AOhh8P8A/ghn/wDkygDpKK5v7D43/wChh8P/APghn/8Akyj7D43/AOhh8P8A/ghn/wDkygDpKK5v7D43/wChh8P/APghn/8Akyj7D43/AOhh8P8A/ghn/wDkygDpKK5v7D43/wChh8P/APghn/8Akyj7D43/AOhh8P8A/ghn/wDkygDpK5vwH/yLt1/2GtV/9OFxR9h8b/8AQw+H/wDwQz//ACZXP+C7Pxi2g3Jtdd0ONP7W1IFZNFmclvt0+45F0OC2SBjgEDJxkgHoUhcRMYlVpAp2qzbQT2BODge+DXm/hfwr4z0v4qa94n1O30L7JrwgSWG3v5mktxEmxSuYAHJA5B21032Hxv8A9DD4f/8ABDP/APJlH2Hxv/0MPh//AMEM/wD8mUAdJXG6R4Qv7D4ueIPFM01s1jqdnbwQxozearRgAlhtwB6YJq99h8b/APQw+H//AAQz/wDyZR9h8b/9DD4f/wDBDP8A/JlAGfLa/Em38UXzWd/4fu9EnbdbLdxypNa8dMIMOM+rAn1HSt3w9oC6HBdPLcG8v76c3F7dsgUzSYCjAH3VVVVVXJwAOSck0vsPjf8A6GHw/wD+CGf/AOTKPsPjf/oYfD//AIIZ/wD5MoA6Siub+w+N/wDoYfD/AP4IZ/8A5Mo+w+N/+hh8P/8Aghn/APkygDpKK5v7D43/AOhh8P8A/ghn/wDkyj7D43/6GHw//wCCGf8A+TKAOkorm/sPjf8A6GHw/wD+CGf/AOTKPsPjf/oYfD//AIIZ/wD5MoA6Siub+w+N/wDoYfD/AP4IZ/8A5Mo+w+N/+hh8P/8Aghn/APkygDpKK5v7D43/AOhh8P8A/ghn/wDkyj7D43/6GHw//wCCGf8A+TKAOkorm/sPjf8A6GHw/wD+CGf/AOTKPsPjf/oYfD//AIIZ/wD5MoA6Siub+w+N/wDoYfD/AP4IZ/8A5Mo+w+N/+hh8P/8Aghn/APkygDpKK5v7D43/AOhh8P8A/ghn/wDkyj7D43/6GHw//wCCGf8A+TKAOkorm/sPjf8A6GHw/wD+CGf/AOTKPsPjf/oYfD//AIIZ/wD5MoA6Siub+w+N/wDoYfD/AP4IZ/8A5Mo+w+N/+hh8P/8Aghn/APkygDpKK5v7D43/AOhh8P8A/ghn/wDkyj7D43/6GHw//wCCGf8A+TKAOkorm/sPjf8A6GHw/wD+CGf/AOTKPsPjf/oYfD//AIIZ/wD5MoA6Siub+w+N/wDoYfD/AP4IZ/8A5Mo+w+N/+hh8P/8Aghn/APkygDpKK5v7D43/AOhh8P8A/ghn/wDkyj7D43/6GHw//wCCGf8A+TKAOkorm/sPjf8A6GHw/wD+CGf/AOTKPsPjf/oYfD//AIIZ/wD5MoA6Siub+w+N/wDoYfD/AP4IZ/8A5Mo+w+N/+hh8P/8Aghn/APkygDpKK5v7D43/AOhh8P8A/ghn/wDkyj7D43/6GHw//wCCGf8A+TKAOkorm/sPjf8A6GHw/wD+CGf/AOTKPsPjf/oYfD//AIIZ/wD5MoA6Siub+w+N/wDoYfD/AP4IZ/8A5Mo+w+N/+hh8P/8Aghn/APkygDpKK5v7D43/AOhh8P8A/ghn/wDkyj7D43/6GHw//wCCGf8A+TKAOkorm/sPjf8A6GHw/wD+CGf/AOTKPsPjf/oYfD//AIIZ/wD5MoA6Siub+w+N/wDoYfD/AP4IZ/8A5Mo+w+N/+hh8P/8Aghn/APkygDpKK5v7D43/AOhh8P8A/ghn/wDkyj7D43/6GHw//wCCGf8A+TKAOkorm/sPjf8A6GHw/wD+CGf/AOTKPsPjf/oYfD//AIIZ/wD5MoAPAf8AyLt1/wBhrVf/AE4XFFRfDpZ18JSreSRy3A1bUxLJFGURm+3z5KqSxUE9AScep60UAdTXN2P/ACVPXf8AsC6b/wCj76ukrm7H/kqeu/8AYF03/wBH31AG7eJdPZyrp80MFyV/dyTwmVFPqUDKSPbcPrXl/gvxd8QPFuueJ9MluvDdjLoF59k3DTJ5ROcsA3/HyNoO3Pc816vXz/4c17xD4b8SfFjVPD2h22ri11PzZY5Lto5ABv8AuoI2D8ZJG5TxxmgD0HwJ8RrnxB4r1rwj4isYbHX9HO5xbSF4biLI+dM8j7y8H+8PcDv68r+DOg2V8l78RJNWXVdW8RLmdo4vLS1AIzAFyTkFQCSf4Rj1M+oeI73xD8QNe0ODTNevtO0RIImTRr2K0ZppELlnkaeKTAG0AKcZDE54wAem0V5FpMnxM0fwj4zgnstQfyIml8OzX80Fxd4IbKP5bvvZeCCc5Pr0FnwPqmheJtW0q78K+KtWW5spHbVtG1XUJpJZAYXXDRyE4KyMh+TCcdM4wAeirrVk/iJ9ESXdfR2wupEH8CFtq5+pBx9DV+vGPDvhjT2/aM8XxCTUUWKztLgGPVLlGZ2AJ3MJAXX/AGWJUDgDFX7fXr/xvf8AiB/7K8UXNhZajLp9m2iajBZrH5QCs5JuI3dyxJwwKgbRjOcgHrFFeQQ3/wAStJ+DWqHxBZXravZ3aLFNA0Ml1NZb03uBGzL5oTeM+wPJGTs+Bb/QvEGsW+qeDPFd9e2UNvIl7pd9fzTyI7FdrlZSXUjDDrt549wD0aivKvDEt58Q/EXjJdY1XVNOfSdTewsbWxvZLb7Mij5ZSEIEhY5Pz7l4wBirPwQ1nxB4l8ISav4j1u51GT7RJaqkkEKR/I2BIhRAxyODknkGgD0yiiigAooooAKKKKACiiigAooooAKKKKACiiigAooooAKKKKACiiigAooooAKKKKACiiigAooooAKKKKACiiigAooooAKKKKACiiigAooooAKKKKACub8B/wDIu3X/AGGtV/8AThcV0lc34D/5F26/7DWq/wDpwuKAOidisbMql2AJCgjJ9ua4nwp431TXfiN4n8OanplvYJoiW5Ty5jK0nmqW3FuBjbt4A455NdxXl3gz/k4r4kf9cdN/9JxQB6jRRRQAUUUUAFFFFABRRRQAUUUUAFFFFABRRRQAUUUUAFFFFABRRRQAUUUUAFFFFABRRRQAUUUUAFFFFABRRRQAUUUUAFFFFABRRRQAUUUUAFFFFABRRRQAUUUUAFFFFABRRRQAUUUUAc34D/5F26/7DWq/+nC4oo8B/wDIu3X/AGGtV/8AThcUUAdJXN2P/JU9d/7Aum/+j76ukribnVLvTfinq/2PQtQ1fzNF0/d9ikt18rE97jd50qdc8Yz0OccZAOvvJ5LWzlmgtJryRFytvAUDyH0BdlXP1IFeVfDDTfF2h+OPFd74h8JXVpa+INQFzDNHd2sgt1y/EgEuejLyobnPFdbqmr6lqumy2c/gbxEivgq6XGnho3UhlYf6V1DAEe4rD8vxCz/2hL4c8QvriOfJvyNPCom3b5flfbMFe5GRlueMACJOSeiOinTpSjec7P0b/pd+q6JmXa+FfFXw1+I97d+BtE/tjwprJ8+606O6ihazm7tH5jKOfQcY442g0/XfDnjfw/8AECXxx4A02G9XWraJdW0O8njidXRQAQ+7ZuA4JDEZ3fezV9bLVYAqWfhXxLFDcBP7TUy6ezXxXksW+1/IzchiM5XjjAIDp1/Khsrjwh4kfSYlb7HZLLp6/ZnY53hxd8lf4OPlz34wuaf8v4mvscN/z9/8lf8Anv8AhbqnobFvJ48l8Nahq13aWkGtyIgstHhnDxRBWyQ8h4ZmyQSOAAMc5NYepeFtR8X+OPDWvN4Xk8N32k3YnvdQluIHeeIAjyF8pmLgk4y4XAzxzipjH4haQ6hJ4b8QPriOTDfkaftjj27fL8r7Zgr3IyMtzxgANWy1WAKln4V8SxQ3AT+01Muns18V5LFvtfyM3IYjOV44wCDmn/KHscP/AM/fwf8AVu3d7pLUlGg+JtI+N2qa9pulw32ma1YwwNctdLH9kePA+ZD8zDAJ+Ueg461jN4d8f/DzxvrN74E0u08QaDrlybyWwluVt3tZ2+8QzEDBPpnjAwMZOodOv5UNlceEPEj6TErfY7JZdPX7M7HO8OLvkr/Bx8ue/GHGPxC0h1CTw34gfXEcmG/I0/bHHt2+X5X2zBXuRkZbnjAAOaf8v9f1/SD2OH/5+/8Akr+X/B7dOY25G8bWfhVr9be2v9emuopX06KYJBFDlQ0Su/faCS3diccYFYdv4SvNZ+LGj+MY/D0nhg2MM66gZZoGk1BnQKqkQu4IU5O5iCcDjgEItlqsAVLPwr4lihuAn9pqZdPZr4ryWLfa/kZuQxGcrxxgEIdOv5UNlc+EPEj6TErfY7JZdPU2zsc7w4u+Sv8ABx8ue/GDmn/L+Iexw3/P3/yV/wCe/wCFuqehyepR+JL3xj4i1Ffh6/iSCe9e2g1DS9fbT1e3jAUROEIMuDu3FsjduXovHo/w+8Qi9hm0GbwnceFJ9MijZLCTa0ZiYsAyMvBGUbP9c15ro/gPxl4curV9AHiS2htA6wxzWemzGNWLEqrNfZx8x4ORkA4zzXY+G7DUfDV4b2Hwr4quby4yb+aefTj9rP8ACSBdYXac4xzgnJJOaalK+xEqVBR0qXfo9/8ALs977pLU9Morm/8AhKNX/wChE8Qf9/8AT/8A5Ko/4SjV/wDoRPEH/f8A0/8A+Sqs5TpKK5v/AISjV/8AoRPEH/f/AE//AOSqP+Eo1f8A6ETxB/3/ANP/APkqgDpKK5v/AISjV/8AoRPEH/f/AE//AOSqP+Eo1f8A6ETxB/3/ANP/APkqgDpKK5v/AISjV/8AoRPEH/f/AE//AOSqP+Eo1f8A6ETxB/3/ANP/APkqgDpKK5v/AISjV/8AoRPEH/f/AE//AOSqP+Eo1f8A6ETxB/3/ANP/APkqgDpKK5v/AISjV/8AoRPEH/f/AE//AOSqP+Eo1f8A6ETxB/3/ANP/APkqgDpKK5v/AISjV/8AoRPEH/f/AE//AOSqP+Eo1f8A6ETxB/3/ANP/APkqgDpKK5v/AISjV/8AoRPEH/f/AE//AOSqP+Eo1f8A6ETxB/3/ANP/APkqgDpKK5v/AISjV/8AoRPEH/f/AE//AOSqP+Eo1f8A6ETxB/3/ANP/APkqgDpKK5v/AISjV/8AoRPEH/f/AE//AOSqP+Eo1f8A6ETxB/3/ANP/APkqgDpKK5v/AISjV/8AoRPEH/f/AE//AOSqP+Eo1f8A6ETxB/3/ANP/APkqgDpKK5v/AISjV/8AoRPEH/f/AE//AOSqP+Eo1f8A6ETxB/3/ANP/APkqgDpKK5v/AISjV/8AoRPEH/f/AE//AOSqP+Eo1f8A6ETxB/3/ANP/APkqgDpKK5v/AISjV/8AoRPEH/f/AE//AOSqP+Eo1f8A6ETxB/3/ANP/APkqgDpKK5v/AISjV/8AoRPEH/f/AE//AOSqP+Eo1f8A6ETxB/3/ANP/APkqgDpKK5v/AISjV/8AoRPEH/f/AE//AOSqP+Eo1f8A6ETxB/3/ANP/APkqgDpKK5v/AISjV/8AoRPEH/f/AE//AOSqP+Eo1f8A6ETxB/3/ANP/APkqgDpKK5v/AISjV/8AoRPEH/f/AE//AOSqP+Eo1f8A6ETxB/3/ANP/APkqgDpKK5v/AISjV/8AoRPEH/f/AE//AOSqP+Eo1f8A6ETxB/3/ANP/APkqgDpKK5v/AISjV/8AoRPEH/f/AE//AOSqP+Eo1f8A6ETxB/3/ANP/APkqgDpKK5v/AISjV/8AoRPEH/f/AE//AOSqP+Eo1f8A6ETxB/3/ANP/APkqgDpK5vwH/wAi7df9hrVf/ThcUf8ACUav/wBCJ4g/7/6f/wDJVc/4L8R6pDoNysfgvXJwdW1Ji8c1iACb6clfmuQcqSVPbIOCRgkA9CkYpEzKjSFVJCLjLewyQM/U15b4QsfFFp8ZfE+v6l4SvrPTdeW2SKVru1doPJjCZkVZScHGfl3YrsP+Eo1f/oRPEH/f/T//AJKo/wCEo1f/AKETxB/3/wBP/wDkqgDpKK5v/hKNX/6ETxB/3/0//wCSqP8AhKNX/wChE8Qf9/8AT/8A5KoA6Siub/4SjV/+hE8Qf9/9P/8Akqj/AISjV/8AoRPEH/f/AE//AOSqAOkorm/+Eo1f/oRPEH/f/T//AJKo/wCEo1f/AKETxB/3/wBP/wDkqgDpKK5v/hKNX/6ETxB/3/0//wCSqP8AhKNX/wChE8Qf9/8AT/8A5KoA6Siub/4SjV/+hE8Qf9/9P/8Akqj/AISjV/8AoRPEH/f/AE//AOSqAOkorm/+Eo1f/oRPEH/f/T//AJKo/wCEo1f/AKETxB/3/wBP/wDkqgDpKK5v/hKNX/6ETxB/3/0//wCSqP8AhKNX/wChE8Qf9/8AT/8A5KoA6Siub/4SjV/+hE8Qf9/9P/8Akqj/AISjV/8AoRPEH/f/AE//AOSqAOkorm/+Eo1f/oRPEH/f/T//AJKo/wCEo1f/AKETxB/3/wBP/wDkqgDpKK5v/hKNX/6ETxB/3/0//wCSqP8AhKNX/wChE8Qf9/8AT/8A5KoA6Siub/4SjV/+hE8Qf9/9P/8Akqj/AISjV/8AoRPEH/f/AE//AOSqAOkorm/+Eo1f/oRPEH/f/T//AJKo/wCEo1f/AKETxB/3/wBP/wDkqgDpKK5v/hKNX/6ETxB/3/0//wCSqP8AhKNX/wChE8Qf9/8AT/8A5KoA6Siub/4SjV/+hE8Qf9/9P/8Akqj/AISjV/8AoRPEH/f/AE//AOSqAOkorm/+Eo1f/oRPEH/f/T//AJKo/wCEo1f/AKETxB/3/wBP/wDkqgDpKK5v/hKNX/6ETxB/3/0//wCSqP8AhKNX/wChE8Qf9/8AT/8A5KoA6Siub/4SjV/+hE8Qf9/9P/8Akqj/AISjV/8AoRPEH/f/AE//AOSqAOkorm/+Eo1f/oRPEH/f/T//AJKo/wCEo1f/AKETxB/3/wBP/wDkqgDpKK5v/hKNX/6ETxB/3/0//wCSqP8AhKNX/wChE8Qf9/8AT/8A5KoA6Siub/4SjV/+hE8Qf9/9P/8Akqj/AISjV/8AoRPEH/f/AE//AOSqAOkorm/+Eo1f/oRPEH/f/T//AJKo/wCEo1f/AKETxB/3/wBP/wDkqgDpKK5v/hKNX/6ETxB/3/0//wCSqP8AhKNX/wChE8Qf9/8AT/8A5KoA6Siub/4SjV/+hE8Qf9/9P/8Akqj/AISjV/8AoRPEH/f/AE//AOSqAOkorm/+Eo1f/oRPEH/f/T//AJKo/wCEo1f/AKETxB/3/wBP/wDkqgDpKK5v/hKNX/6ETxB/3/0//wCSqP8AhKNX/wChE8Qf9/8AT/8A5KoA6Siub/4SjV/+hE8Qf9/9P/8Akqj/AISjV/8AoRPEH/f/AE//AOSqADwH/wAi7df9hrVf/ThcUVF8OpXn8JSyywSWzyatqbNDKVLxk385KttJXI6HBI9CaKAOprm7H/kqeu/9gXTf/R99XSVzdj/yVPXf+wLpv/o++oA3byeS1s5ZoLSa8kRcrbwFA8h9AXZVz9SBXE6H8VE8SX2p2ejeEPEU9xpU/wBnvI2+xxmKTJGPnuBn7p5GRXe14n8OPEFnonxI+JS3kOoyGXWQV+xaZcXQGC/UxRtt698ZoA9K0vxa9/4kGiX3h7V9IuXtXu43vRA0ciI6KwDRSuNwMi8eldFXN6D4ki8U3GrtptvJbSafJ9lhlv7GSJwzRq5Jjfa+3JXj5c7foa4WL4leJ9D8cav4c8eTaLp5jsWuNJuLWwmYXzdFwDNyc8eWOWOQGHBIB69RXI2GreLtN+HtzrHinTbW91qOAzppejwuDnbkRZZnLNnqR+APfA1Xxt4u8KnwvfeI7bS5rDXb2Gyntre3lhnsZJVyo3NIwkxg5+VenvQB6bRXn3irx14g0P4m+H/DVho1nd2+sR3DI/2giRjHEzYOQAgDbST852hsDOBTdB8aeJofii/g7xnZ6Wj3Ngb+xuNMMhUqG2lH39WGDyAOg454APQ6K4SDxdrXifxfr2i+EW061h0Bo4ri61CB5/PmYElFVJE2hcYLEnn+Gk+G3j7V/HP9ofb9DtNOj024ksrh4r9pX+0IVyvlmMYUgkhtx6Y+gB3lFFFABRRRQAUUUUAFFFFABRRRQAUUUUAFFFFABRRRQAUUUUAFFFFABRRRQAUUUUAFFFFABRRRQAUUUUAFFFFABRRRQAUUUUAFFFFABRRRQAUUUUAFFFFABXN+A/8AkXbr/sNar/6cLiukrm/Af/Iu3X/Ya1X/ANOFxQB0TuscbPIwVVBLE9AK57QPHei+JfEmq6LpD3ElzpKobl5IGjUF84A3YJPy9cY5GCa6OvLvBn/JxXxI/wCuOm/+k4oA9RooooAKKKKACiiigAooooAKKKKACiiigAooooAKKKKACiiigAooooAKKKKACiiigAooooAKKKKACiiigAooooAKKKKACiiigAooooAKKKKACiiigAooooAKKKKACiiigAooooAKKKKAOb8B/wDIu3X/AGGtV/8AThcUUeA/+Rduv+w1qv8A6cLiigDpK5ux/wCSp67/ANgXTf8A0ffV0lcTc69aaJ8U9X+2w6hL52i6ft+xabcXeMT3ud3ko23rxnGecdDQB195e2unWct3qFzDa20K7pJp5AiIPUseAK8P+FHjnwta+PfiJcXniHTbSC91VZraW6uUhWdMyDKFiN34eo9a9I1TxxayabKNLh16K7GGjL+G78qxBB2n9wcBgCpPUA5HNYf/AAsPU3f+0zo+vxpG5T+xhoF2WlTb9/zfJwG3dBkDaOeTxEpWex0U6HtI35kvV2/q/fZdWjai+IfhzUPFVtpPhvU9P1G4lR7q/uLaVZI4LeNfvM6nGdxRQCeASe2DxHikWHxY0fUfEWheILWwXwtIzaVdrIg2zphmllY/djO0Ko4GAXOeANtfHerwBY3ttauWvghaUeG71V00/wDLQAeQDIoH3ep3Dng8B8bavKhsEXXIGtlZ11NvDN432xs/u0MYg+Tj75AH+z14XtPJmv1Rf8/I/f8A8D5d+qVtTMsfjRJ4k+C+pa34Zihm8VWFqDPpvVkbcqtKqdWQBi4+mDXH+NNT8Oah4R8H+INNvL/WZ4tesZtQ1a5jlkMQw29Om1PmAzHGMZAyMlc+in4h6m8h1P8AsjX4443Kf2MPD92WlTb9/wA3ycBt3QZA2jnk8NXx3q8AWN7bWrlr4IWlHhu9VdNP/LQAeQDIoH3ep3Dng8HtPJh9U/vx+/8Arb7nsm3oc/4y8ZaAvx+8A3NzqlvaR2UF6bv7TIIza+bCRGJc/wCrLccNgjIyBU+t+KtBh/ai0YS6xZoINIltJmMyhY5jI2I2boG9jzyPUVsnxtq8qGwRdcga2VnXU28M3jfbGz+7QxiD5OPvkAf7PXhx+IepvIdT/sjX4443Kf2MPD92WlTb9/zfJwG3dBkDaOeTwe08n/X9f5B9U/6eR+/7vv8Aw+1Y5HWPGmgeDvi/4oli8Q/8Irc3CwJcxXulTXsN64QnzkWMqUIDADnB5JBzXcfCO48HDQry28G66uszyXLXmo3DjZLJNJyXZCBtBxgADAx65rgLLxn420RdXivPCWpa9Lfz/aYryLR7pfJYgAqVktxnCgADoNvUjitjwrrt+niqHVNa0TUtPkjtTBLPB4auy1whbdtYpAMtnbk7QBtO3O87RT8mKWFsm+eL+f8AXpbfra2p7RRXN/8ACeaR/wA+fiD/AMJzUP8A4xR/wnmkf8+fiD/wnNQ/+MVocZ0lFc3/AMJ5pH/Pn4g/8JzUP/jFH/CeaR/z5+IP/Cc1D/4xQB0lFc3/AMJ5pH/Pn4g/8JzUP/jFH/CeaR/z5+IP/Cc1D/4xQB0lFc3/AMJ5pH/Pn4g/8JzUP/jFH/CeaR/z5+IP/Cc1D/4xQB0lFc3/AMJ5pH/Pn4g/8JzUP/jFH/CeaR/z5+IP/Cc1D/4xQB0lFc3/AMJ5pH/Pn4g/8JzUP/jFH/CeaR/z5+IP/Cc1D/4xQB0lFc3/AMJ5pH/Pn4g/8JzUP/jFH/CeaR/z5+IP/Cc1D/4xQB0lFc3/AMJ5pH/Pn4g/8JzUP/jFH/CeaR/z5+IP/Cc1D/4xQB0lFc3/AMJ5pH/Pn4g/8JzUP/jFH/CeaR/z5+IP/Cc1D/4xQB0lFc3/AMJ5pH/Pn4g/8JzUP/jFH/CeaR/z5+IP/Cc1D/4xQB0lFc3/AMJ5pH/Pn4g/8JzUP/jFH/CeaR/z5+IP/Cc1D/4xQB0lFc3/AMJ5pH/Pn4g/8JzUP/jFH/CeaR/z5+IP/Cc1D/4xQB0lFc3/AMJ5pH/Pn4g/8JzUP/jFH/CeaR/z5+IP/Cc1D/4xQB0lFc3/AMJ5pH/Pn4g/8JzUP/jFH/CeaR/z5+IP/Cc1D/4xQB0lFc3/AMJ5pH/Pn4g/8JzUP/jFH/CeaR/z5+IP/Cc1D/4xQB0lFc3/AMJ5pH/Pn4g/8JzUP/jFH/CeaR/z5+IP/Cc1D/4xQB0lFc3/AMJ5pH/Pn4g/8JzUP/jFH/CeaR/z5+IP/Cc1D/4xQB0lFc3/AMJ5pH/Pn4g/8JzUP/jFH/CeaR/z5+IP/Cc1D/4xQB0lFc3/AMJ5pH/Pn4g/8JzUP/jFH/CeaR/z5+IP/Cc1D/4xQB0lFc3/AMJ5pH/Pn4g/8JzUP/jFH/CeaR/z5+IP/Cc1D/4xQB0lFc3/AMJ5pH/Pn4g/8JzUP/jFH/CeaR/z5+IP/Cc1D/4xQB0lFc3/AMJ5pH/Pn4g/8JzUP/jFH/CeaR/z5+IP/Cc1D/4xQB0lc34D/wCRduv+w1qv/pwuKP8AhPNI/wCfPxB/4Tmof/GK5/wX400u20G5SS11wk6tqTgx6BfOMNfTsOVhIzgjI6g5BAIIoA9CkkSGJpJXVI0UszscBQOpJ7CvGfAnizw/d/tD+OWtdZsZU1JLFLJ1nUrctHCFcRnOGIPpXon/AAnmkf8APn4g/wDCc1D/AOMUf8J5pH/Pn4g/8JzUP/jFAHSUVzf/AAnmkf8APn4g/wDCc1D/AOMUf8J5pH/Pn4g/8JzUP/jFAHSUVzf/AAnmkf8APn4g/wDCc1D/AOMUf8J5pH/Pn4g/8JzUP/jFAHSUVzf/AAnmkf8APn4g/wDCc1D/AOMUf8J5pH/Pn4g/8JzUP/jFAHSUVzf/AAnmkf8APn4g/wDCc1D/AOMUf8J5pH/Pn4g/8JzUP/jFAHSUVzf/AAnmkf8APn4g/wDCc1D/AOMUf8J5pH/Pn4g/8JzUP/jFAHSUVzf/AAnmkf8APn4g/wDCc1D/AOMUf8J5pH/Pn4g/8JzUP/jFAHSUVzf/AAnmkf8APn4g/wDCc1D/AOMUf8J5pH/Pn4g/8JzUP/jFAHSUVzf/AAnmkf8APn4g/wDCc1D/AOMUf8J5pH/Pn4g/8JzUP/jFAHSUVzf/AAnmkf8APn4g/wDCc1D/AOMUf8J5pH/Pn4g/8JzUP/jFAHSUVzf/AAnmkf8APn4g/wDCc1D/AOMUf8J5pH/Pn4g/8JzUP/jFAHSUVzf/AAnmkf8APn4g/wDCc1D/AOMUf8J5pH/Pn4g/8JzUP/jFAHSUVzf/AAnmkf8APn4g/wDCc1D/AOMUf8J5pH/Pn4g/8JzUP/jFAHSUVzf/AAnmkf8APn4g/wDCc1D/AOMUf8J5pH/Pn4g/8JzUP/jFAHSUVzf/AAnmkf8APn4g/wDCc1D/AOMUf8J5pH/Pn4g/8JzUP/jFAHSUVzf/AAnmkf8APn4g/wDCc1D/AOMUf8J5pH/Pn4g/8JzUP/jFAHSUVzf/AAnmkf8APn4g/wDCc1D/AOMUf8J5pH/Pn4g/8JzUP/jFAHSUVzf/AAnmkf8APn4g/wDCc1D/AOMUf8J5pH/Pn4g/8JzUP/jFAHSUVzf/AAnmkf8APn4g/wDCc1D/AOMUf8J5pH/Pn4g/8JzUP/jFAHSUVzf/AAnmkf8APn4g/wDCc1D/AOMUf8J5pH/Pn4g/8JzUP/jFAHSUVzf/AAnmkf8APn4g/wDCc1D/AOMUf8J5pH/Pn4g/8JzUP/jFAHSUVzf/AAnmkf8APn4g/wDCc1D/AOMUf8J5pH/Pn4g/8JzUP/jFAHSUVzf/AAnmkf8APn4g/wDCc1D/AOMUf8J5pH/Pn4g/8JzUP/jFAHSUVzf/AAnmkf8APn4g/wDCc1D/AOMUf8J5pH/Pn4g/8JzUP/jFAHSUVzf/AAnmkf8APn4g/wDCc1D/AOMUf8J5pH/Pn4g/8JzUP/jFAHSUVzf/AAnmkf8APn4g/wDCc1D/AOMUf8J5pH/Pn4g/8JzUP/jFAHSUVzf/AAnmkf8APn4g/wDCc1D/AOMUf8J5pH/Pn4g/8JzUP/jFAB4D/wCRduv+w1qv/pwuKKi+HVwl14SluIhIqTatqbqJY2jcA385G5GAZT6ggEdCKKAOprm7H/kqeu/9gXTf/R99XSVzdj/yVPXf+wLpv/o++oA6SsfV/Fei6Hdx2moXn+mSrvjs7eJ7id1/vCKMM5HvjFWPEGqroXhnU9Xdd62FnLdFf7wRC2P0rzn9n+1kv/BNx4v1Vjc6x4gu5Zbi6kHzFEcoqA9lBU4HQZ9qAO90jxdomt30llYXhF7Gm97O5hkt51XON3lSKr4z3xiqfi/x3pHgpbI6wl4xvrhLaDyLZmUuxwAXOEB4JwWzgHANch+0DZta/D+PxVp0httX8PXcNxa3ScOoeRY2X3U7wSOhxWf8VNYXxF8I/B2shAn2/VNNudg52FwWI/DJFAHslc1eePNIs/HeneEZEvDqeoiRoj9mZYgERnJ3tgMMKR8u7nAOKm8SeK4dButP063tm1DWNUkZLKxjcIX2jLuzH7qKOrYPbAJrzbWdR1a7/aQ8AW+uaRHp88EF+yvb3X2iGZWt3+65RGyNvIKjGR1zQB7RRXnR+Kt3P4p13w5pnhDULrV9KWIpam4iUzeYN2S2SiIF2ncWJ+YDGau+A/iZB4wuNU07VNLn0DWtII+22F1IG2Kejh8DI98DqOoINAHcUVwWq/EXUbLwqfFdj4b+2+HUj88zfbRHctB/z2WEoVK4+YZdWwegq3qPxGs1t/Df9gWrapc+JwzacjOYY9qoHZpH2sUABHG0nOeODQB2EjiKJpGDEKpYhVLHj0A5J9hWD4T8aaX4yXUm0dLpV027azm+0wmI+YoBICn5hjOOQDkHiqPhrxxNq3i/VfC+taSNM1fTYknIiufPhnifo6OVQ9wCCori/htqy6Ha/E7UG8lmh8U3pjjmkKLK+RtTIVjljgABSSTwDQB7FRWB4T1bxDrOni78R+HodC8xFaKAX5uJeeoceWoXtxknrkDFb9ABRRRQAUUUUAFFFFABRRRQAUUUUAFFFFABRRRQAUUUUAFFFFABRRRQAUUUUAFFFFABRRRQAUUUUAFFFFABRRRQAUUUUAFFFFABRRRQAUUUUAFc34D/AORduv8AsNar/wCnC4rpK5vwH/yLt1/2GtV/9OFxQBu3t7a6bYzXmoXEVtbQIXlmlcKqKOpJPQVy/h74reCPFWsf2XoPiC3ub3nbCY3jL467S6gNwM8ZrodV0ez1qCGDUohPbxzLMYHAKSFclQwI5AbDY9VH0rzb42aDFqh8IppUUcfiA63AljOigSRxqGaQ/wC4oUMfTAoA9XoornfE2o3Us8Hh7RJTHqV+pZ7hefsVuDh5j/tfwoO7HPRWoAv6V4j0nXLzUbXSb1LqbTJ/s92EU4ikxnbkjBI74zg8da068n+Cmn22la74+sLGPy7e21wxRLnOFC4HPc+/evWKACiiigAooooAKKKKACiiigAooooAKKKKACiiigAooooAKKKKACiiigAooooAKKKKACiiigAooooAKKKKACiiigAooooAKKKKACiiigAooooAKKKKACiiigAooooAKKKKAOb8B/8AIu3X/Ya1X/04XFFHgP8A5F26/wCw1qv/AKcLiigDpK5ux/5Knrv/AGBdN/8AR99XSVxNz4j0Pw/8U9X/ALe1nT9M8/RdP8r7bdJD5m2e9zt3EZxkZx6igDqtX02HWdEvtLus+Re28lvJj+66lT+hrzD4I3MnhPTbr4e+Jdtnq+mXMj2qucC8t3O4SRE/eG4tkDJHGfQdZqnxL8KQ6bLLpni3w5NcphlifVIf3gBBZR84wxXIBPAJGeK5bU/if4K12MXOrXHhy+0OJzG9rfSQy3RO3/WLGzEbd3y4wSeWBxjMSmouzOinh51Y80bff/W/Qk+NNy/inQ1+H3hxku9Z1aeLz40IItIEcO0sp/gGVUDPJ7Zql8ZbSz8OfDHwnpKzKsNlq1hbxFzglY1Iz+S5NT6V8SPC3h+3FrYXHhKx+3+W1pHp11DHFAT95bgq2AUHORgHkDnrW1fxp4N8RSLDqv8Awg+pavZRMZLrUZLeSCRA3ypC7MSC4OcZOw5znjK9ojX6lU7r719/p09dBfHWqJ4T/aF8LeItbcw6FdaZJpwumP7uCcs7ZY9BkMgz6ZPRTSeMfEWjP+0F8PJ01WyaCCO+SWVZ1KIzwYQFs4BJIwPceoqy/wASvA82lCDzfDP/AAi0JMD6ZI8JmIC53pBu27A3y7QCTyw46ss/iD4Q0v7Kscng+CZ0VdL+x3EAWxDn50lYN8m0BWJXAbGByBk9pEPqVXuvvX9abvsiTwjf2sH7THxBs5p0S4uLewaGNmALhbdN2PXG4VQk0KfxX8V/iDqWguDA/h1tFW5QfI926A4DfxFNqg+mQK4HSPHug6v8S/FF9rD+HL2DWfswtzqcDG2la3j2fdkH7ov1DPgL3zXqtp8XPCljAk2m6joNpoNuxhNnHcRJcj5c70iDY2hvl2gEnlhx1PaIPqVTuvvXy+/p3OQ+HXiD4Sv4ItLPxfovh/Tdd0uIWt9DqGmRiaR0+XdymXZsZI5bOcj17DXPGf8AYepeEfC2lQW/hO11tJXFzNCiC0jUZWNIyAiyNleG4UtjDGs+Tx54MfVo9S1L/hDZ9WuvLaxvEmt3e1J6rPLuJUoMHcMA8gc9ZdV+IfhnX7VdM1K78G6heWW6aV9QuYXtJCDhBCWc/M49zs5znjJ7RB9Sqd196+/06euhn+E7/SbH9o7WEi1pr4XOjQxRXFxcea1xL5ighD0OPRBtGD0wa5TR9L1a41Dxj4q8I3f2jUfDvi69vP7NZ90N5C2Q3y/39obaw5+8Bziu6n+I/gS7u21aV/DEmnLC2nzLM0DXzwleQq7uYsnbswcjJHHWjaeKPh7pgkRbHwJDLqkKxQfZDbBI0f78VywPRRgnoG6DkDJ7SIfUqvdfev603fZHpfgzxlpPjrw1BrOhzB45ABLCT88EmOUcdiP16jg1v15J4b8YfD7R9Xih04+C9K1BQ6X9/ZSW9vE0OcqI3By24hDtyduDnoM9v/wsfwR/0OXh/wD8GkH/AMVVRkpbHPVpSpO0jpKK5v8A4WP4I/6HLw//AODSD/4qj/hY/gj/AKHLw/8A+DSD/wCKqjI6Siub/wCFj+CP+hy8P/8Ag0g/+Ko/4WP4I/6HLw//AODSD/4qgDpKK5v/AIWP4I/6HLw//wCDSD/4qj/hY/gj/ocvD/8A4NIP/iqAOkorm/8AhY/gj/ocvD//AINIP/iqP+Fj+CP+hy8P/wDg0g/+KoA6Siub/wCFj+CP+hy8P/8Ag0g/+Ko/4WP4I/6HLw//AODSD/4qgDpKK5v/AIWP4I/6HLw//wCDSD/4qj/hY/gj/ocvD/8A4NIP/iqAOkorm/8AhY/gj/ocvD//AINIP/iqP+Fj+CP+hy8P/wDg0g/+KoA6Siub/wCFj+CP+hy8P/8Ag0g/+Ko/4WP4I/6HLw//AODSD/4qgDpKK5v/AIWP4I/6HLw//wCDSD/4qj/hY/gj/ocvD/8A4NIP/iqAOkorm/8AhY/gj/ocvD//AINIP/iqP+Fj+CP+hy8P/wDg0g/+KoA6Siub/wCFj+CP+hy8P/8Ag0g/+Ko/4WP4I/6HLw//AODSD/4qgDpKK5v/AIWP4I/6HLw//wCDSD/4qj/hY/gj/ocvD/8A4NIP/iqAOkorm/8AhY/gj/ocvD//AINIP/iqP+Fj+CP+hy8P/wDg0g/+KoA6Siub/wCFj+CP+hy8P/8Ag0g/+Ko/4WP4I/6HLw//AODSD/4qgDpKK5v/AIWP4I/6HLw//wCDSD/4qj/hY/gj/ocvD/8A4NIP/iqAOkorm/8AhY/gj/ocvD//AINIP/iqP+Fj+CP+hy8P/wDg0g/+KoA6Siub/wCFj+CP+hy8P/8Ag0g/+Ko/4WP4I/6HLw//AODSD/4qgDpKK5v/AIWP4I/6HLw//wCDSD/4qj/hY/gj/ocvD/8A4NIP/iqAOkorm/8AhY/gj/ocvD//AINIP/iqP+Fj+CP+hy8P/wDg0g/+KoA6Siub/wCFj+CP+hy8P/8Ag0g/+Ko/4WP4I/6HLw//AODSD/4qgDpK5vwH/wAi7df9hrVf/ThcUf8ACx/BH/Q5eH//AAaQf/FVz/gvx94PtdBuY7rxZocLtq2pSBZNShUlXvp2VsFuhVgQe4IPegDsvEHiDTPC+h3Gr65dJa2duuXdj1PZQO5J4A71wumeNvB326bxZ4j8V6GL7yCltZx6jFKbCA4JRQrHdIxALkZ6BRkLk7OreKvhjr1ukGu674S1KGNt6R3l5bTKrYxkBicHB61lo/wSjkV428Ao6kFWU2QIPqKAOr1Dxjomj3GjW2sXn2C61txFY28yHfI52/KdoIBBZRycZIGa5bUfAHjR/FGq6toHxF/sqLUZFY250OG4Maqu1U3u2SByQOBlicZJJ17rxr8Ob64tp73xL4XuJrR/Mt5Jb+3doWxjchLfKfcVa/4WP4I/6HLw/wD+DSD/AOKoA8x+Dei+JYviF4tmufFn2i2s9Ykj1G3/ALNjX+0JChAk3A5iwSDtXjjHevcq5G08Z/DjT5rmWw8SeFraS7k824eG/t0aZ/7zkN8x9zzVr/hY/gj/AKHLw/8A+DSD/wCKoA6Siub/AOFj+CP+hy8P/wDg0g/+Ko/4WP4I/wChy8P/APg0g/8AiqAOkorm/wDhY/gj/ocvD/8A4NIP/iqP+Fj+CP8AocvD/wD4NIP/AIqgDpKK5v8A4WP4I/6HLw//AODSD/4qj/hY/gj/AKHLw/8A+DSD/wCKoA6Siub/AOFj+CP+hy8P/wDg0g/+Ko/4WP4I/wChy8P/APg0g/8AiqAOkorm/wDhY/gj/ocvD/8A4NIP/iqP+Fj+CP8AocvD/wD4NIP/AIqgDpKK5v8A4WP4I/6HLw//AODSD/4qj/hY/gj/AKHLw/8A+DSD/wCKoA6Siub/AOFj+CP+hy8P/wDg0g/+Ko/4WP4I/wChy8P/APg0g/8AiqAOkorm/wDhY/gj/ocvD/8A4NIP/iqP+Fj+CP8AocvD/wD4NIP/AIqgDpKK5v8A4WP4I/6HLw//AODSD/4qj/hY/gj/AKHLw/8A+DSD/wCKoA6Siub/AOFj+CP+hy8P/wDg0g/+Ko/4WP4I/wChy8P/APg0g/8AiqAOkorm/wDhY/gj/ocvD/8A4NIP/iqP+Fj+CP8AocvD/wD4NIP/AIqgDpKK5v8A4WP4I/6HLw//AODSD/4qj/hY/gj/AKHLw/8A+DSD/wCKoA6Siub/AOFj+CP+hy8P/wDg0g/+Ko/4WP4I/wChy8P/APg0g/8AiqAOkorm/wDhY/gj/ocvD/8A4NIP/iqP+Fj+CP8AocvD/wD4NIP/AIqgDpKK5v8A4WP4I/6HLw//AODSD/4qj/hY/gj/AKHLw/8A+DSD/wCKoA6Siub/AOFj+CP+hy8P/wDg0g/+Ko/4WP4I/wChy8P/APg0g/8AiqAOkorm/wDhY/gj/ocvD/8A4NIP/iqP+Fj+CP8AocvD/wD4NIP/AIqgDpKK5v8A4WP4I/6HLw//AODSD/4qj/hY/gj/AKHLw/8A+DSD/wCKoA6Siub/AOFj+CP+hy8P/wDg0g/+Ko/4WP4I/wChy8P/APg0g/8AiqAOkorm/wDhY/gj/ocvD/8A4NIP/iqP+Fj+CP8AocvD/wD4NIP/AIqgDpKK5v8A4WP4I/6HLw//AODSD/4qj/hY/gj/AKHLw/8A+DSD/wCKoA6Siub/AOFj+CP+hy8P/wDg0g/+Ko/4WP4I/wChy8P/APg0g/8AiqAOkorm/wDhY/gj/ocvD/8A4NIP/iqP+Fj+CP8AocvD/wD4NIP/AIqgDpKK5v8A4WP4I/6HLw//AODSD/4qj/hY/gj/AKHLw/8A+DSD/wCKoAPAf/Iu3X/Ya1X/ANOFxRUXw6uYLzwlLdWc0c9vNq2pyRSxOGSRTfzkMpHBBByCKKAOprm7H/kqeu/9gXTf/R99XSVzdj/yVPXf+wLpv/o++oA6Ssq/8U+H9Kv0stU13TbK7cApb3N5HHI2emFYgmtOTeYn8ogPtO0t0z2zXhnwe8c6Dplpd+DvHKJpnik3cxv5NQRVW/d5CQS54JwQAD1AG3OaAPbZNRsoraa4lvLdIIP9bK0qhY+AfmOcDhgeexHrVPw/4l0fxVYSXvh6+jvrWOZoGmjB271AJAJAz1HI4qp4S8KWXhG31G00mKOCxur5ruCCL7sQdEDKPQblYgDgAgVxfwHMVt4H1ssUihi169JJOFRQV/IAUAep0VxV18UNMtdJ/to6TrEmgZ51iO3QwBc437N/m7P9rZjHINXfEXxD0Hw1pun395JcXFrqUkaWs1pA0kchk+7+8+4Mjnk5xQB1FFefn4z+GYvE9ro93BqtnHeuI7PU7qyMdpdMTgeXITlgSfvY2984rqtW8QwaZdx2UNrdajqMsZlSys1UyFAcFiXZUUZOMswyeBmgDWornfC/jfS/FVzf2dqlzZ6lpsgjvNPvYwk0BPQkAkEHsVJFdFQAUUUUAFFFFABRRRQAUUUUAFFFFABRRRQAUUUUAFFFFABRRRQAUUUUAFFFFABRRRQAUUUUAFFFFABRRRQAUUUUAFFFFABRRRQAUUUUAFFFFABRRRQAUUUUAFc34D/5F26/7DWq/wDpwuK6Sub8B/8AIu3X/Ya1X/04XFAHRswVSzEAAZJPas3TfE2hazdSW2ka1p1/PF/rIrW7SVk+oUkik8QaFb+JNMGm37N9hkkBuoVJHnoMnyyQQQCdufUAjvXlHxW8D6V4dl8K6z4F0u20jXl1qC1t/sEYhEyuG3K6rjcMLyT23Z4NAHtdFFFABRRRQAUUUUAFFFFABRRRQAUUUUAFFFFABRRRQAUUUUAFFFFABRRRQAUUUUAFFFFABRRRQAUUUUAFFFFABRRRQAUUUUAFFFFABRRRQAUUUUAFFFFABRRRQAUUUUAFFFFABRRRQBzfgP8A5F26/wCw1qv/AKcLiijwH/yLt1/2GtV/9OFxRQB0lc3Y/wDJU9d/7Aum/wDo++rpK5ux/wCSp67/ANgXTf8A0ffUAdJXAah4V8HfGjwZYarqFlG5u7ZZIbuBgJ7ckcpvA52kkFSCMjpXf1y8fw38LW0Pk6dp8umRYAZNMvZ7NZOMfMIXXccDktnPegDjfgb/AGxpd14s8J6hfyanp/h++S3sbtySSCG3R57bQE+XsWIrl9Agvrz9nHx9FpAZ7h9Sv8LHyWTchcD1ym6vbrbw3pNloDaLp9r9isGBBjtJHhbk5J3oQwYnq2cn1qh4W8A+HPBXnr4as57OO4yZYjezyxsTj5tjuy7uB82M44zQBkeGL7SdZ+AtjM7Rf2adBEVwMjbGEh2SKf8Ad2sPwryO7tLnTv2XfBaa58qnWoJds3O2FpZGXOe205+hr21Phr4SjmnaLSfLhuJPMms47mVbWVvVrcN5R/Fa4b9orVtHtPCOkabf3NsJG1a2mazZgWaBdwZtnXb2zjHagC/+0PZR3/wpNpHEsl/LqFtHYIPvtMXxhPfaW/DNY99Np1l+0Head4z1C8s01LSbVdOuYdTns0dk3BkLRumSWLkBu/u3Pofh/wAMeFGNnrehgX8aKTZXDX8t3FCDwfJDuyx9x8mPSrnijwX4d8aWUdr4n0qG/iiJMZcsrRk9drqQwzgdDzQBk+HPD/g/SfG19c6AJrjW57Ufbrl9Rnu2EeVCCQySNgnb8vfCHtXZVkeG/CuieENKGneG9OisLXduKR5JZvVmJJY+5JrXoAKKKKACiiigAooooAKKKKACiiigAooooAKKKKACiiigAooooAKKKKACiiigAooooAKKKKACiiigAooooAKKKKACiiigAooooAKKKKACiiigAooooAKKKKACub8B/wDIu3X/AGGtV/8AThcV0lc34D/5F26/7DWq/wDpwuKAN2+vrXTLCa91CeO2toEMkssjYVFHUk1y9najVdXTxj4iAs7Syhb+y7e5+T7PGw+e4lz92RgMAH7i8HBZgNXxR4S0XxnpQ03xHayXdmHEhhW5liDMOmdjLux6HIzzXJJ+z/8ADKORXXwwCVII3X1yR+IMmDQB6Hbzx3VtFPCS0cqB0JUjIIyODyPxqSgDAwOBRQAUUUUAFFFFABRRRQAUUUUAFFFFABRRRQAUUUUAFFFFABRRRQAUUUUAFFFFABRRRQAUUUUAFFFFABRRRQAUUUUAFFFFABRRRQAUUUUAFFFFABRRRQAUUUUAFFFFABRRRQAUUUUAc34D/wCRduv+w1qv/pwuKKPAf/Iu3X/Ya1X/ANOFxRQB0lcTc+HND8QfFPV/7e0bT9T8jRdP8r7bapN5e6e9zt3A4zgZx6Cu2rm7H/kqeu/9gXTf/R99QAf8K48Ef9Cb4f8A/BXB/wDE0f8ACuPBH/Qm+H//AAVwf/E1vXd1DY2U93dOEhgjaWRz/CqjJP5CvKPh5E/xbtrzxd4wVrjSpbl4dK0aRj9njiU4LyIOJHJyPmyBg468AHc/8K48Ef8AQm+H/wDwVwf/ABNH/CuPBH/Qm+H/APwVwf8AxNY/iD4Z6cw0668KQf2PPY6hbXTWti5t7e6SOZXZJIlwh4BIOM5ArodX8YaJol8LG+uZnvPK8421paS3Uqx9N7JErMq+5AFAFb/hXHgj/oTfD/8A4K4P/iaP+FceCP8AoTfD/wD4K4P/AImtTQtf0vxLpMWp6Fex3tnKSFljz1BwQQeQR6HmtCgDm/8AhXHgj/oTfD//AIK4P/iaP+FceCP+hN8P/wDgrg/+JrpKKAOb/wCFceCP+hN8P/8Agrg/+Jo/4Vx4I/6E3w//AOCuD/4mukooA5v/AIVx4I/6E3w//wCCuD/4mj/hXHgj/oTfD/8A4K4P/ia6SigDm/8AhXHgj/oTfD//AIK4P/iaP+FceCP+hN8P/wDgrg/+JrpKKAOb/wCFceCP+hN8P/8Agrg/+Jo/4Vx4I/6E3w//AOCuD/4mukooA5v/AIVx4I/6E3w//wCCuD/4mj/hXHgj/oTfD/8A4K4P/ia6SigDm/8AhXHgj/oTfD//AIK4P/iaP+FceCP+hN8P/wDgrg/+JrpKKAOb/wCFceCP+hN8P/8Agrg/+Jo/4Vx4I/6E3w//AOCuD/4mukooA5v/AIVx4I/6E3w//wCCuD/4mj/hXHgj/oTfD/8A4K4P/ia6SigDm/8AhXHgj/oTfD//AIK4P/iaP+FceCP+hN8P/wDgrg/+JrpKKAOb/wCFceCP+hN8P/8Agrg/+Jo/4Vx4I/6E3w//AOCuD/4mukooA5v/AIVx4I/6E3w//wCCuD/4mj/hXHgj/oTfD/8A4K4P/ia6SigDm/8AhXHgj/oTfD//AIK4P/iaP+FceCP+hN8P/wDgrg/+JrpKKAOb/wCFceCP+hN8P/8Agrg/+Jo/4Vx4I/6E3w//AOCuD/4mukooA5v/AIVx4I/6E3w//wCCuD/4mj/hXHgj/oTfD/8A4K4P/ia6SigDm/8AhXHgj/oTfD//AIK4P/iaP+FceCP+hN8P/wDgrg/+JrpKKAOb/wCFceCP+hN8P/8Agrg/+Jo/4Vx4I/6E3w//AOCuD/4mukooA5v/AIVx4I/6E3w//wCCuD/4mj/hXHgj/oTfD/8A4K4P/ia6SigDm/8AhXHgj/oTfD//AIK4P/iaP+FceCP+hN8P/wDgrg/+JrpKKAOb/wCFceCP+hN8P/8Agrg/+Jo/4Vx4I/6E3w//AOCuD/4mukooA5v/AIVx4I/6E3w//wCCuD/4mj/hXHgj/oTfD/8A4K4P/ia6SigDm/8AhXHgj/oTfD//AIK4P/iaP+FceCP+hN8P/wDgrg/+JrpKKAOb/wCFceCP+hN8P/8Agrg/+Jo/4Vx4I/6E3w//AOCuD/4mukooA5v/AIVx4I/6E3w//wCCuD/4mj/hXHgj/oTfD/8A4K4P/ia6SigDm/8AhXHgj/oTfD//AIK4P/ia5/wX4B8H3Wg3Ml14T0OZ11bUow0mmwsQqX06quSvQKoAHYADtXolc34D/wCRduv+w1qv/pwuKAD/AIVx4I/6E3w//wCCuD/4mj/hXHgj/oTfD/8A4K4P/iayvjB4xuvBPw5u9Q0vjUriRLSzOM7ZX/iweMhQxGe4Fc7498ORfD34djxR4bHl69ozQTXF6WPmaiu9UlWdusgYMT82cYGMUAdv/wAK48Ef9Cb4f/8ABXB/8TR/wrjwR/0Jvh//AMFcH/xNbOlajDq+j2WpWv8Aqby3S4jz/ddQw/Q1boA5v/hXHgj/AKE3w/8A+CuD/wCJo/4Vx4I/6E3w/wD+CuD/AOJrpKKAOb/4Vx4I/wChN8P/APgrg/8AiaP+FceCP+hN8P8A/grg/wDia6SigDm/+FceCP8AoTfD/wD4K4P/AImj/hXHgj/oTfD/AP4K4P8A4mukooA5v/hXHgj/AKE3w/8A+CuD/wCJo/4Vx4I/6E3w/wD+CuD/AOJrpKKAOb/4Vx4I/wChN8P/APgrg/8AiaP+FceCP+hN8P8A/grg/wDia6SigDm/+FceCP8AoTfD/wD4K4P/AImj/hXHgj/oTfD/AP4K4P8A4mukooA5v/hXHgj/AKE3w/8A+CuD/wCJo/4Vx4I/6E3w/wD+CuD/AOJrpKKAOb/4Vx4I/wChN8P/APgrg/8AiaP+FceCP+hN8P8A/grg/wDia6SigDm/+FceCP8AoTfD/wD4K4P/AImj/hXHgj/oTfD/AP4K4P8A4mukooA5v/hXHgj/AKE3w/8A+CuD/wCJo/4Vx4I/6E3w/wD+CuD/AOJrpKKAOb/4Vx4I/wChN8P/APgrg/8AiaP+FceCP+hN8P8A/grg/wDia6SigDm/+FceCP8AoTfD/wD4K4P/AImj/hXHgj/oTfD/AP4K4P8A4mukooA5v/hXHgj/AKE3w/8A+CuD/wCJo/4Vx4I/6E3w/wD+CuD/AOJrpKKAOb/4Vx4I/wChN8P/APgrg/8AiaP+FceCP+hN8P8A/grg/wDia6SigDm/+FceCP8AoTfD/wD4K4P/AImj/hXHgj/oTfD/AP4K4P8A4mukooA5v/hXHgj/AKE3w/8A+CuD/wCJo/4Vx4I/6E3w/wD+CuD/AOJrpKKAOb/4Vx4I/wChN8P/APgrg/8AiaP+FceCP+hN8P8A/grg/wDia6SigDm/+FceCP8AoTfD/wD4K4P/AImj/hXHgj/oTfD/AP4K4P8A4mukooA5v/hXHgj/AKE3w/8A+CuD/wCJo/4Vx4I/6E3w/wD+CuD/AOJrpKKAOb/4Vx4I/wChN8P/APgrg/8AiaP+FceCP+hN8P8A/grg/wDia6SigDm/+FceCP8AoTfD/wD4K4P/AImj/hXHgj/oTfD/AP4K4P8A4mukooA5v/hXHgj/AKE3w/8A+CuD/wCJo/4Vx4I/6E3w/wD+CuD/AOJrpKKAOb/4Vx4I/wChN8P/APgrg/8AiaP+FceCP+hN8P8A/grg/wDia6SigDm/+FceCP8AoTfD/wD4K4P/AImj/hXHgj/oTfD/AP4K4P8A4mukooA5v/hXHgj/AKE3w/8A+CuD/wCJo/4Vx4I/6E3w/wD+CuD/AOJrpKKAOW+HVtBZ+EpbWzhjgt4dW1OOKKJAqRqL+cBVA4AAGABRUvgP/kXbr/sNar/6cLiigDpK5ux/5Knrv/YF03/0ffV0lc3Y/wDJU9d/7Aum/wDo++oAv+KdLk1vwfrOlQNtkvrCe2Rs4wXjZR/OvOf2b9Qhb4XnRnzFqOkXk0N3bSDDxsXLDI6jqR9VPpXrdchrHw00XU/ETa/Y3GoaHrDgLLfaVceS8w9HUhkfoOqnoPSgDqbu8gsbcz3UgjjBC5IJySQAABySSQAB1JriP7QsX+JmsweDdJhuvEKW8CaxqFxO6QW6YJiQgZ3PjJwoHTlhiug0zwrDZXUV1f6lqOs3UOTDNqEqt5RIwSqIqoDjjdtzjIzyazLr4aaTP40ufE1rf6rp13exrHew2N35UV0FAA3gDcDgDlSv6mgDmvgEskegeLI5mjZ4/FN4reUhRMhYs7Vydoz0GTj1r1WuW8JfDzRvBl9qVzo8l4RqFy9yYJ590UDPjd5aAADOAMnLYAGcV1NABRRRQAUUUUAFFFFABRRRQAUUUUAFFFFABRRRQAUUUUAFFFFABRRRQAUUUUAFFFFABRRRQAUUUUAFFFFABRRRQAUUUUAFFFFABRRRQAUUUUAFFFFABRRRQAUUUUAFFFFABXN+A/8AkXbr/sNar/6cLiukrm/Af/Iu3X/Ya1X/ANOFxQBxX7R1hLc/C+C+jRnj0rVLe8mCDJ2Dch/WQVp/HS9i/wCFHa3JGfMF1HAkITkyF5Uxj145r0C8s7fULGezvoUntriNo5YnGVdSMEEfSuXs/hxpds+npd32palY6U6vp2n3syvDasowpGFDOVBwPMZsdsUAa/hHTZdG8E6HpdxxNZadb28n+8kaqf1Fa9FFABRRRQAUUUUAFFFFABRRRQAUUUUAFFFFABRRRQAUUUUAFFFFABRRRQAUUUUAFFFFABRRRQAUUUUAFFFFABRRRQAUUUUAFFFFABRRRQAUUUUAFFFFABRRRQAUUUUAFFFFABRRRQBzfgP/AJF26/7DWq/+nC4oo8B/8i7df9hrVf8A04XFFAHSVxNzoNprfxT1f7bNqEXk6Lp+37FqVxaZzPe53eS67unGc45x1NdtXN2P/JU9d/7Aum/+j76gA/4QPSP+fzxB/wCFHqH/AMfo/wCED0j/AJ/PEH/hR6h/8frdvr600yxmvdRuYrW1gUvLNM4VEX1JPArjPCXj/wAPfErTb61t9ShjaWeaKG1hvDDdNAhAEm1WDrnrkY4IB70Aa3/CB6R/z+eIP/Cj1D/4/R/wgekf8/niD/wo9Q/+P1w3wM8Q6dpXwR0q78Q6va2fn3VyBNfXKx+Y5mY/ecjJr1iS5ghtTcyzxpAq7zKzgKF9c9Me9AGB/wAIHpH/AD+eIP8Awo9Q/wDj9H/CB6R/z+eIP/Cj1D/4/WjpXiXQtekkTQ9a07UniGXWzu0mKfXaTivO761Fr+1HpBjnuWS40OeVopbh5EV95BKhiQuQAMLgcdKAOz/4QPSP+fzxB/4Ueof/AB+j/hA9I/5/PEH/AIUeof8Ax+ukooA5v/hA9I/5/PEH/hR6h/8AH6P+ED0j/n88Qf8AhR6h/wDH66SigDm/+ED0j/n88Qf+FHqH/wAfo/4QPSP+fzxB/wCFHqH/AMfrpKKAOb/4QPSP+fzxB/4Ueof/AB+j/hA9I/5/PEH/AIUeof8Ax+ukooA5v/hA9I/5/PEH/hR6h/8AH6P+ED0j/n88Qf8AhR6h/wDH66SigDm/+ED0j/n88Qf+FHqH/wAfo/4QPSP+fzxB/wCFHqH/AMfrpKKAOb/4QPSP+fzxB/4Ueof/AB+j/hA9I/5/PEH/AIUeof8Ax+ukooA5v/hA9I/5/PEH/hR6h/8AH6P+ED0j/n88Qf8AhR6h/wDH66SigDm/+ED0j/n88Qf+FHqH/wAfo/4QPSP+fzxB/wCFHqH/AMfrpKKAOb/4QPSP+fzxB/4Ueof/AB+j/hA9I/5/PEH/AIUeof8Ax+ukooA5v/hA9I/5/PEH/hR6h/8AH6P+ED0j/n88Qf8AhR6h/wDH66SigDm/+ED0j/n88Qf+FHqH/wAfo/4QPSP+fzxB/wCFHqH/AMfrpKKAOb/4QPSP+fzxB/4Ueof/AB+j/hA9I/5/PEH/AIUeof8Ax+ukooA5v/hA9I/5/PEH/hR6h/8AH6P+ED0j/n88Qf8AhR6h/wDH66SigDm/+ED0j/n88Qf+FHqH/wAfo/4QPSP+fzxB/wCFHqH/AMfrpKKAOb/4QPSP+fzxB/4Ueof/AB+j/hA9I/5/PEH/AIUeof8Ax+ukooA5v/hA9I/5/PEH/hR6h/8AH6P+ED0j/n88Qf8AhR6h/wDH66SigDm/+ED0j/n88Qf+FHqH/wAfo/4QPSP+fzxB/wCFHqH/AMfrpKKAOb/4QPSP+fzxB/4Ueof/AB+j/hA9I/5/PEH/AIUeof8Ax+ukooA5v/hA9I/5/PEH/hR6h/8AH6P+ED0j/n88Qf8AhR6h/wDH66SigDm/+ED0j/n88Qf+FHqH/wAfo/4QPSP+fzxB/wCFHqH/AMfrpKKAOb/4QPSP+fzxB/4Ueof/AB+j/hA9I/5/PEH/AIUeof8Ax+ukooA5v/hA9I/5/PEH/hR6h/8AH6P+ED0j/n88Qf8AhR6h/wDH66SigDm/+ED0j/n88Qf+FHqH/wAfo/4QPSP+fzxB/wCFHqH/AMfrpKKAOb/4QPSP+fzxB/4Ueof/AB+uf8F+CtLudBuXkutcBGrakgEev3yDC306jhZgM4AyepOSSSSa9Erm/Af/ACLt1/2GtV/9OFxQAf8ACB6R/wA/niD/AMKPUP8A4/R/wgekf8/niD/wo9Q/+P10ThjGwjYKxB2sRkA+uO9ea+B9S1qT40eOdH1fWbjUbbT4rM2yyKqLEJELkBFwM/NjPU4GTQB1H/CB6R/z+eIP/Cj1D/4/R/wgekf8/niD/wAKPUP/AI/XSUUAc3/wgekf8/niD/wo9Q/+P0f8IHpH/P54g/8ACj1D/wCP10lFAHN/8IHpH/P54g/8KPUP/j9H/CB6R/z+eIP/AAo9Q/8Aj9dJRQBzf/CB6R/z+eIP/Cj1D/4/R/wgekf8/niD/wAKPUP/AI/XSUUAc3/wgekf8/niD/wo9Q/+P0f8IHpH/P54g/8ACj1D/wCP10lFAHN/8IHpH/P54g/8KPUP/j9H/CB6R/z+eIP/AAo9Q/8Aj9dJRQBzf/CB6R/z+eIP/Cj1D/4/R/wgekf8/niD/wAKPUP/AI/XSUUAc3/wgekf8/niD/wo9Q/+P0f8IHpH/P54g/8ACj1D/wCP10lFAHN/8IHpH/P54g/8KPUP/j9H/CB6R/z+eIP/AAo9Q/8Aj9dJRQBzf/CB6R/z+eIP/Cj1D/4/R/wgekf8/niD/wAKPUP/AI/XSUUAc3/wgekf8/niD/wo9Q/+P0f8IHpH/P54g/8ACj1D/wCP10lFAHN/8IHpH/P54g/8KPUP/j9H/CB6R/z+eIP/AAo9Q/8Aj9dJRQBzf/CB6R/z+eIP/Cj1D/4/R/wgekf8/niD/wAKPUP/AI/XSUUAc3/wgekf8/niD/wo9Q/+P0f8IHpH/P54g/8ACj1D/wCP10lFAHN/8IHpH/P54g/8KPUP/j9H/CB6R/z+eIP/AAo9Q/8Aj9dJRQBzf/CB6R/z+eIP/Cj1D/4/R/wgekf8/niD/wAKPUP/AI/XSUUAc3/wgekf8/niD/wo9Q/+P0f8IHpH/P54g/8ACj1D/wCP10lFAHN/8IHpH/P54g/8KPUP/j9H/CB6R/z+eIP/AAo9Q/8Aj9dJRQBzf/CB6R/z+eIP/Cj1D/4/R/wgekf8/niD/wAKPUP/AI/XSUUAc3/wgekf8/niD/wo9Q/+P0f8IHpH/P54g/8ACj1D/wCP10lFAHN/8IHpH/P54g/8KPUP/j9H/CB6R/z+eIP/AAo9Q/8Aj9dJRQBzf/CB6R/z+eIP/Cj1D/4/R/wgekf8/niD/wAKPUP/AI/XSUUAc3/wgekf8/niD/wo9Q/+P0f8IHpH/P54g/8ACj1D/wCP10lFAHN/8IHpH/P54g/8KPUP/j9H/CB6R/z+eIP/AAo9Q/8Aj9dJRQBzf/CB6R/z+eIP/Cj1D/4/R/wgekf8/niD/wAKPUP/AI/XSUUAc3/wgekf8/niD/wo9Q/+P0f8IHpH/P54g/8ACj1D/wCP10lFAHLfDqBLXwlLbxGRkh1bU0UyyNI5Av5wNzsSzH1JJJ6k0VL4D/5F26/7DWq/+nC4ooA6Subsf+Sp67/2BdN/9H31dJXN2P8AyVPXf+wLpv8A6PvqAOkrzD9n3/kmD/8AYTuv/RlekXt7b6fam4vJPLhDKpfBIBZgozjoMkc9B1OBXnHhzwrN4MvL7w5ofjNUe6mkudPs7jTfMS1Z/mYOwceYdoYqpZf7xDAUnJLc0jTnJXim/wDgb/ccl8JvCWhax+znJcarpsF5PJb3iiWdBI0QDPjyy2dnPPy45561p+H10PVP2bfC58a39zFZxvEUWBsvcvHKwjgC4JfO0DaBnjtjIt+DvDc3hr4a6v4Y0zxxYT21sGUXcujOGt1lLbiB52JMknaRxkEfN0FBvAthD8J9B0q88aqg0u+F3o2qQaY8ckLozE+ZEXbIVmOSdm3Az3yuePcv6tXvbkfbZ72v+WvoTandXc/7RngO8l0Z9H+12l9CRLKhmmjWFmAkVMqoBwQNxPrjFa+rf8nP6B/2L8//AKMam6n4ObUviD4bu77xxcf2/pazBhFYqqyJJHhkQcrE23cfm3sQc9hhk2iTal8TJPG9p41sY49FtjatayaTIUS3JY8yGYFyef3i8Er04Io5o9xewq2vyvp0fXRfe9j1SikRxJGrr91hkZGOKWqMQooooAKKKKACiiigAooooAKKKKACiiigAooooAKKKKACiiigAooooAKKKKACiiigAooooAKKKKACiiigAooooAKKKKACiiigAooooAKKKKACiiigAooooAKKKKACub8B/wDIu3X/AGGtV/8AThcV0lc34D/5F26/7DWq/wDpwuKAOkry7wZ/ycV8SP8Arjpv/pOK9PkDmJhEyrIVO1mXcAexIyMj2yK4Hw74A8QaL8QtV8VXXiexu31jylvbVdIaJSsa7UEbeeSpAHU7qAPQKKKKACiiigAooooAKKKKACiiigAooooAKKKKACiiigAooooAKKKKACiiigAooooAKKKKACiiigAooooAKKKKACiiigAooooAKKKKACiiigAooooAKKKKACiiigAooooAKKKKACiiigDm/Af/ACLt1/2GtV/9OFxRR4D/AORduv8AsNar/wCnC4ooA6SuJuYNcm+Ker/2DqOn2WNF0/zfttg9zv8A397jbtmj245znOcjpjntq5ux/wCSp67/ANgXTf8A0ffUARz6V4yureSC413w7LFKpR0fQJiGB4II+2Vlp4G16PSH0xNV0AWsknmsP7Gut2/GNwf7buBwABg8AYHFd5VDSdastbjupNOl82O2uXtXcdC6cNj1wcj6g0nFPdGkKtSCtCTXXR9TlpfB3iGaWxkfVfDm7Twottuh3ChAv3QQL3DAEZAOcHkc06Pwl4ji1G5vk1Xw5591GY5idCuCrKeWG03m0ZwM4HOBnNdtRS5Y9ivb1bW5n979Tg18D68mkyaauq6ALaSXzWH9jXW/fjG4P9t3A4AAweBwOKkm8G+IbhrMy6p4cP2JVSBRodwqhVwVUgXuGAIBAbIBGetdxRRyR7D+sVr35397Ob+w+N/+hh8P/wDghn/+TKPsPjf/AKGHw/8A+CGf/wCTK6SiqMDm/sPjf/oYfD//AIIZ/wD5Mo+w+N/+hh8P/wDghn/+TK1dJ1qy1uO6k06XzY7a5e1dx0Lpw2PXByPqDV+gDm/sPjf/AKGHw/8A+CGf/wCTKPsPjf8A6GHw/wD+CGf/AOTK6SigDm/sPjf/AKGHw/8A+CGf/wCTKPsPjf8A6GHw/wD+CGf/AOTK6SigDm/sPjf/AKGHw/8A+CGf/wCTKPsPjf8A6GHw/wD+CGf/AOTK6SigDm/sPjf/AKGHw/8A+CGf/wCTKPsPjf8A6GHw/wD+CGf/AOTK6SigDm/sPjf/AKGHw/8A+CGf/wCTKPsPjf8A6GHw/wD+CGf/AOTK6SigDm/sPjf/AKGHw/8A+CGf/wCTKPsPjf8A6GHw/wD+CGf/AOTK6SigDm/sPjf/AKGHw/8A+CGf/wCTKPsPjf8A6GHw/wD+CGf/AOTK6SigDm/sPjf/AKGHw/8A+CGf/wCTKPsPjf8A6GHw/wD+CGf/AOTK6SigDm/sPjf/AKGHw/8A+CGf/wCTKPsPjf8A6GHw/wD+CGf/AOTK6SigDm/sPjf/AKGHw/8A+CGf/wCTKPsPjf8A6GHw/wD+CGf/AOTK6SigDm/sPjf/AKGHw/8A+CGf/wCTKPsPjf8A6GHw/wD+CGf/AOTK6SigDm/sPjf/AKGHw/8A+CGf/wCTKPsPjf8A6GHw/wD+CGf/AOTK6SigDm/sPjf/AKGHw/8A+CGf/wCTKPsPjf8A6GHw/wD+CGf/AOTK6SigDm/sPjf/AKGHw/8A+CGf/wCTKPsPjf8A6GHw/wD+CGf/AOTK6SigDm/sPjf/AKGHw/8A+CGf/wCTKPsPjf8A6GHw/wD+CGf/AOTK6SigDm/sPjf/AKGHw/8A+CGf/wCTKPsPjf8A6GHw/wD+CGf/AOTK6SigDm/sPjf/AKGHw/8A+CGf/wCTKPsPjf8A6GHw/wD+CGf/AOTK6SigDm/sPjf/AKGHw/8A+CGf/wCTKPsPjf8A6GHw/wD+CGf/AOTK6SigDm/sPjf/AKGHw/8A+CGf/wCTKPsPjf8A6GHw/wD+CGf/AOTK6SigDm/sPjf/AKGHw/8A+CGf/wCTKPsPjf8A6GHw/wD+CGf/AOTK6SigDm/sPjf/AKGHw/8A+CGf/wCTKPsPjf8A6GHw/wD+CGf/AOTK6SigDm/sPjf/AKGHw/8A+CGf/wCTKPsPjf8A6GHw/wD+CGf/AOTK6SigDm/sPjf/AKGHw/8A+CGf/wCTK5/wXZ+MW0G5Nrruhxp/a2pArJoszkt9un3HIuhwWyQMcAgZOMn0Sub8B/8AIu3X/Ya1X/04XFAB9h8b/wDQw+H/APwQz/8AyZR9h8b/APQw+H//AAQz/wDyZXSUUAc39h8b/wDQw+H/APwQz/8AyZR9h8b/APQw+H//AAQz/wDyZXSUUAc39h8b/wDQw+H/APwQz/8AyZR9h8b/APQw+H//AAQz/wDyZXSUUAc39h8b/wDQw+H/APwQz/8AyZR9h8b/APQw+H//AAQz/wDyZXSUUAc39h8b/wDQw+H/APwQz/8AyZR9h8b/APQw+H//AAQz/wDyZXSUUAc39h8b/wDQw+H/APwQz/8AyZR9h8b/APQw+H//AAQz/wDyZXSUUAc39h8b/wDQw+H/APwQz/8AyZR9h8b/APQw+H//AAQz/wDyZXSUUAc39h8b/wDQw+H/APwQz/8AyZR9h8b/APQw+H//AAQz/wDyZXSUUAc39h8b/wDQw+H/APwQz/8AyZR9h8b/APQw+H//AAQz/wDyZXSUUAc39h8b/wDQw+H/APwQz/8AyZR9h8b/APQw+H//AAQz/wDyZXSUUAc39h8b/wDQw+H/APwQz/8AyZR9h8b/APQw+H//AAQz/wDyZXSUUAc39h8b/wDQw+H/APwQz/8AyZR9h8b/APQw+H//AAQz/wDyZXSUUAc39h8b/wDQw+H/APwQz/8AyZR9h8b/APQw+H//AAQz/wDyZXSUUAc39h8b/wDQw+H/APwQz/8AyZR9h8b/APQw+H//AAQz/wDyZXSUUAc39h8b/wDQw+H/APwQz/8AyZR9h8b/APQw+H//AAQz/wDyZXSUUAc39h8b/wDQw+H/APwQz/8AyZR9h8b/APQw+H//AAQz/wDyZXSUUAc39h8b/wDQw+H/APwQz/8AyZR9h8b/APQw+H//AAQz/wDyZXSUUAc39h8b/wDQw+H/APwQz/8AyZR9h8b/APQw+H//AAQz/wDyZXSUUAc39h8b/wDQw+H/APwQz/8AyZR9h8b/APQw+H//AAQz/wDyZXSUUAc39h8b/wDQw+H/APwQz/8AyZR9h8b/APQw+H//AAQz/wDyZXSUUAc39h8b/wDQw+H/APwQz/8AyZR9h8b/APQw+H//AAQz/wDyZXSUUAc39h8b/wDQw+H/APwQz/8AyZR9h8b/APQw+H//AAQz/wDyZXSUUAc39h8b/wDQw+H/APwQz/8AyZR9h8b/APQw+H//AAQz/wDyZXSUUAc39h8b/wDQw+H/APwQz/8AyZR9h8b/APQw+H//AAQz/wDyZXSUUAc39h8b/wDQw+H/APwQz/8AyZR9h8b/APQw+H//AAQz/wDyZXSUUAc39h8b/wDQw+H/APwQz/8AyZR9h8b/APQw+H//AAQz/wDyZXSUUAc39h8b/wDQw+H/APwQz/8AyZR9h8b/APQw+H//AAQz/wDyZXSUUAct8OlnXwlKt5JHLcDVtTEskUZRGb7fPkqpLFQT0BJx6nrRUvgP/kXbr/sNar/6cLiigDpK5ux/5Knrv/YF03/0ffV0lc3Y/wDJU9d/7Aum/wDo++oA3b6yi1GxmtLkyiKZSjmGZ4nx7OhDL9QRXkHwG0MR/DW4vtMmuI9QFzeQ26y3s7WyncQpaHfsPOMnbn3r2avI/BnhTxtoXgXxD4SW1h0+RnvHsdYW7U+aZAfLKouWQgnknGMcA9gDnvHmqXvgfwLBqS+Mb288aafPC+oR219NPbOWfDI8P+riTnjKoTj1Ndb8Vr3XNP8AFXgpNF1y6s01HVltpbdSoiYcHJwNzf7pbB6YrmNV8GeNtX+AZ8Hw+FLXTr22WEP/AKdExvnSRS0i4OAWwWJdgc5GOeNz4gWXjbW9Z8H3ll4Qe4bR9QXULoQ39uEA4/dKXdWZgM5JUDPTI5oAXxy2u/C34c65qNh4k1TVZr69iWO51IrL/ZqOwVmXgDHPAwACV465r/ECPVfBd94Tfwt4m1pBrGpxaddiW6+2mVZP+WqCcOqMMHhQBz0FdX8TbnVJ/hlPHpWnxtf6j5NuNPvGTe/mMA8QwWXfgkZBIGC2cDNcJpd5rHhy+h1K6+DGpxjT0Kwyrr3282ifxeTG5IQY7JjPSgDqNZ1/UrjxwnhCKDWtWg0/S47i+k0yeC1nuZHO0FnMkWwYUsfLIOWHQDBi8H6Z4vPibXNJ1+y1lPB93BvspNR1ON7y3k+XdF5sMzSbTliCWyAoGeTmt4u8P+JpvFelfEr4YC3vLmfT0gutOumEYu4G+dTkkANyOpGNq9eQev8ACcvi7Upm1LxhZW+jARmKDS7e488jJBMkjj5SflAUL0BbJOeADif2edFtIfAv2+N7wSrfXUQjN9MYQofH+p3+Xn/a25969frzf4S6D4m8I2F54f1jS4YrKG+nni1AXSt9pRzldsY5U567sdOM5yPSKACiiigAooooAKKKKACiiigAooooAKKKKACiiigAooooAKKKKACiiigAooooAKKKKACiiigAooooAKKKKACiiigAooooAKKKKACiiigAooooAKKKKACiiigArm/Af/Iu3X/Ya1X/ANOFxXSVzfgP/kXbr/sNar/6cLigDpKKKKACiiigAooooAKKKKACiiigAooooAKKKKACiiigAooooAKKKKACiiigAooooAKKKKACiiigAooooAKKKKACiiigAooooAKKKKACiiigAooooAKKKKACiiigAooooAKKKKACiiigAooooA5vwH/yLt1/2GtV/wDThcUUeA/+Rduv+w1qv/pwuKKAOkrlr6x8R2fjS81fQ7HS763vNPtrVlvNQktnjaGS4YkBYJAQROO4+6a6migDm/t3jf8A6F7w/wD+D6f/AOQ6Pt3jf/oXvD//AIPp/wD5DrpKKAOb+3eN/wDoXvD/AP4Pp/8A5Do+3eN/+he8P/8Ag+n/APkOukooA808aeGfGvi+GwkistL0nUNMnNxZXlrr8p8tyNp3I1nhhgkY/Xk5oWXh34wzK0HijWdG1OycbZILS8azaVe6s62jMAe+3afcV61RQBzEVz40hhSKHw34eSNFCqq67MAoHAA/0On/AG7xv/0L3h//AMH0/wD8h10lFAHN/bvG/wD0L3h//wAH0/8A8h0fbvG//QveH/8AwfT/APyHXSUUAc39u8b/APQveH//AAfT/wDyHR9u8b/9C94f/wDB9P8A/IddJRQBzf27xv8A9C94f/8AB9P/APIdH27xv/0L3h//AMH0/wD8h10lFAHN/bvG/wD0L3h//wAH0/8A8h0fbvG//QveH/8AwfT/APyHXSUUAc39u8b/APQveH//AAfT/wDyHR9u8b/9C94f/wDB9P8A/IddJRQBzf27xv8A9C94f/8AB9P/APIdH27xv/0L3h//AMH0/wD8h10lFAHN/bvG/wD0L3h//wAH0/8A8h0fbvG//QveH/8AwfT/APyHXSUUAc39u8b/APQveH//AAfT/wDyHR9u8b/9C94f/wDB9P8A/IddJRQBzf27xv8A9C94f/8AB9P/APIdH27xv/0L3h//AMH0/wD8h10lFAHN/bvG/wD0L3h//wAH0/8A8h0fbvG//QveH/8AwfT/APyHXSUUAc39u8b/APQveH//AAfT/wDyHR9u8b/9C94f/wDB9P8A/IddJRQBzf27xv8A9C94f/8AB9P/APIdH27xv/0L3h//AMH0/wD8h10lFAHN/bvG/wD0L3h//wAH0/8A8h0fbvG//QveH/8AwfT/APyHXSUUAc39u8b/APQveH//AAfT/wDyHR9u8b/9C94f/wDB9P8A/IddJRQBzf27xv8A9C94f/8AB9P/APIdH27xv/0L3h//AMH0/wD8h10lFAHN/bvG/wD0L3h//wAH0/8A8h0fbvG//QveH/8AwfT/APyHXSUUAc39u8b/APQveH//AAfT/wDyHR9u8b/9C94f/wDB9P8A/IddJRQBzf27xv8A9C94f/8AB9P/APIdH27xv/0L3h//AMH0/wD8h10lFAHN/bvG/wD0L3h//wAH0/8A8h0fbvG//QveH/8AwfT/APyHXSUUAc39u8b/APQveH//AAfT/wDyHR9u8b/9C94f/wDB9P8A/IddJRQBzf27xv8A9C94f/8AB9P/APIdH27xv/0L3h//AMH0/wD8h10lFAHN/bvG/wD0L3h//wAH0/8A8h0fbvG//QveH/8AwfT/APyHXSUUAc39u8b/APQveH//AAfT/wDyHR9u8b/9C94f/wDB9P8A/IddJRQBzf27xv8A9C94f/8AB9P/APIdZug23jfRNOltf7E8Pz+Ze3V3u/tudcefcSTbcfZD93zNue+M8ZxXbUUAc39u8b/9C94f/wDB9P8A/IdH27xv/wBC94f/APB9P/8AIddJRQBzf27xv/0L3h//AMH0/wD8h0fbvG//AEL3h/8A8H0//wAh10lFAHN/bvG//QveH/8AwfT/APyHR9u8b/8AQveH/wDwfT//ACHXSUUAc39u8b/9C94f/wDB9P8A/IdH27xv/wBC94f/APB9P/8AIddJRQBzf27xv/0L3h//AMH0/wD8h0fbvG//AEL3h/8A8H0//wAh10lFAHN/bvG//QveH/8AwfT/APyHR9u8b/8AQveH/wDwfT//ACHXSUUAc39u8b/9C94f/wDB9P8A/IdH27xv/wBC94f/APB9P/8AIddJRQBzf27xv/0L3h//AMH0/wD8h0fbvG//AEL3h/8A8H0//wAh10lFAHN/bvG//QveH/8AwfT/APyHR9u8b/8AQveH/wDwfT//ACHXSUUAc39u8b/9C94f/wDB9P8A/IdH27xv/wBC94f/APB9P/8AIddJRQBzf27xv/0L3h//AMH0/wD8h0fbvG//AEL3h/8A8H0//wAh10lFAHN/bvG//QveH/8AwfT/APyHR9u8b/8AQveH/wDwfT//ACHXSUUAc39u8b/9C94f/wDB9P8A/IdH27xv/wBC94f/APB9P/8AIddJRQBzf27xv/0L3h//AMH0/wD8h0fbvG//AEL3h/8A8H0//wAh10lFAHN/bvG//QveH/8AwfT/APyHR9u8b/8AQveH/wDwfT//ACHXSUUAc39u8b/9C94f/wDB9P8A/IdH27xv/wBC94f/APB9P/8AIddJRQBzf27xv/0L3h//AMH0/wD8h0fbvG//AEL3h/8A8H0//wAh10lFAHN/bvG//QveH/8AwfT/APyHR9u8b/8AQveH/wDwfT//ACHXSUUAc39u8b/9C94f/wDB9P8A/IdH27xv/wBC94f/APB9P/8AIddJRQBzf27xv/0L3h//AMH0/wD8h0fbvG//AEL3h/8A8H0//wAh10lFAHN/bvG//QveH/8AwfT/APyHR9u8b/8AQveH/wDwfT//ACHXSUUAc39u8b/9C94f/wDB9P8A/IdH27xv/wBC94f/APB9P/8AIddJRQBzf27xv/0L3h//AMH0/wD8h0fbvG//AEL3h/8A8H0//wAh10lFAHN/bvG//QveH/8AwfT/APyHR9u8b/8AQveH/wDwfT//ACHXSUUAc39u8b/9C94f/wDB9P8A/IdH27xv/wBC94f/APB9P/8AIddJRQBzf27xv/0L3h//AMH0/wD8h0fbvG//AEL3h/8A8H0//wAh10lFAHN/bvG//QveH/8AwfT/APyHR9u8b/8AQveH/wDwfT//ACHXSUUAcf4YurvQ9OuNN1HTpp75b66upxp586JPtFxJOqh22FsLKBkqOQaK2dM/5GLW/wDrpD/6KFFAGvRRRQAUUUUAFFFFABRRRQAUUUUAFFFFABRRRQAUUUUAFFFFABRRRQAUUUUAFFFFABRRRQAUUUUAFFFFABRRRQAUUUUAFFFFABRRRQAUUUUAFFFFABRRRQAUUUUAFFFFABRRRQAUUUUAFFFFABRRRQAUUUUAFFFFABRRRQAUUUUAFFFFABRRRQAUUUUAFFFFABRRRQAUUUUAFFFFABRRRQAUUUUAFFFFABRRRQAUUUUAFFFFABRRRQAUUUUAFFFFABRRRQAUUUUAFFFFABRRRQAUUUUAFFFFABRRRQAUUUUAZGmf8jFrf/XSH/0UKKKKAP/Z)"
      ]
    },
    {
      "cell_type": "code",
      "metadata": {
        "id": "H5ga716QLZIE"
      },
      "source": [
        "import numpy as np\n",
        "import pandas as pd\n",
        "import matplotlib.pyplot as plt\n",
        "\n",
        "er=[]\n",
        "w_1=[]\n",
        "w_2=[]\n",
        "w_3=[]\n",
        "w_4=[]\n",
        "w_5=[]\n",
        "w_6=[]\n",
        "w_7=[]\n",
        "w_8=[]\n",
        "w_9=[]\n",
        "w_10=[]\n",
        "w_11=[]\n",
        "w_12=[]\n",
        "w_13=[]\n",
        "w_0=[]\n",
        "te=[]\n",
        "def compute_error(W0, W1, W2, W3, W4, W5, W6, W7, W8, W9, W10, W11, W12, W13, x1, x2, x3, x4, x5, x6, x7, x8, x9, x10, x11, x12, x13, y1):\n",
        "    totalError = 0\n",
        "    x1 = x1\n",
        "    x2 = x2\n",
        "    x3 = x3\n",
        "    x4 = x4\n",
        "    x5 = x5\n",
        "    x6 = x6\n",
        "    x7 = x7\n",
        "    x8 = x8\n",
        "    x9 = x9\n",
        "    x10 = x10\n",
        "    x11= x11\n",
        "    x12 = x12\n",
        "    x13 = x13\n",
        "    y1 = y1\n",
        "    #print(c,m)\n",
        "    w_1.append(W1)\n",
        "    w_2.append(W2)\n",
        "    w_3.append(W3)\n",
        "    w_4.append(W4)\n",
        "    w_5.append(W5)\n",
        "    w_6.append(W6)\n",
        "    w_7.append(W7)\n",
        "    w_8.append(W8)\n",
        "    w_9.append(W9)\n",
        "    w_10.append(W10)\n",
        "    w_11.append(W11)\n",
        "    w_12.append(W12)\n",
        "    w_13.append(W13)\n",
        "    w_0.append(W0)\n",
        "    for i in range(0,len(x1)):\n",
        "        a = (W0+W1*x1[i]+W2*x2[i]+W3*x3[i]+W4*x4[i]+W5*x5[i]+W6*x6[i]+W7*x7[i]+W8*x8[i]+W9*x9[i]+W10*x10[i]+W11*x11[i]+W12*x12[i]+W13*x13[i])\n",
        "        a=(1/(1+(np.exp(-1 * a))))\n",
        "        a = ((y1[i]*np.log2(a))+(1-y1[i])*np.log2(1-a))\n",
        "        totalError+=(a)\n",
        "      #te.append(totalError)\n",
        "    #print(te)\n",
        "    #err=(np.array(te).sum())\n",
        "    er.append(-1.0*(totalError/len(x1)))\n",
        "    #print(er)\n",
        "\n",
        "def step_gradient(w0_current, w1_current, w2_current, w3_current,w4_current, w5_current, w6_current, w7_current, w8_current, w9_current, w10_current, w11_current, w12_current, w13_current, x1, x2, x3, x4, x5, x6, x7, x8, x9, x10, x11, x12, x13, y1, learningRate):\n",
        "    w0_gradient = 0.0\n",
        "    w1_gradient = 0.0\n",
        "    w2_gradient = 0.0\n",
        "    w3_gradient = 0.0\n",
        "    w4_gradient = 0.0\n",
        "    w5_gradient = 0.0\n",
        "    w6_gradient = 0.0\n",
        "    w7_gradient = 0.0\n",
        "    w8_gradient = 0.0\n",
        "    w9_gradient = 0.0\n",
        "    w10_gradient = 0.0\n",
        "    w11_gradient = 0.0\n",
        "    w12_gradient = 0.0\n",
        "    w13_gradient = 0.0\n",
        "    N = float(len(x1))\n",
        "    x1 = x1\n",
        "    x2 = x2\n",
        "    x3 = x3\n",
        "    x4 = x4\n",
        "    x5 = x5\n",
        "    x6 = x6\n",
        "    x7 = x7\n",
        "    x8 = x8\n",
        "    x9 = x9\n",
        "    x10 = x10\n",
        "    x11 = x11\n",
        "    x12 = x12\n",
        "    x13 = x13\n",
        "    y1 = y1\n",
        "    wg0=[]\n",
        "    wg1=[]\n",
        "    wg2=[]\n",
        "    wg3=[]\n",
        "    wg4=[]\n",
        "    wg5=[]\n",
        "    wg6=[]\n",
        "    wg7=[]\n",
        "    wg8=[]\n",
        "    wg9=[]\n",
        "    wg10=[]\n",
        "    wg11=[]\n",
        "    wg12=[]\n",
        "    wg13=[]\n",
        "    for i in range(0,len(x1)):\n",
        "        wg0.append((w0_current+w1_current*x1[i]+w2_current*x2[i]+w3_current*x3[i]+w4_current*x4[i]+w5_current*x5[i]+w6_current*x6[i]+w7_current*x7[i]+w8_current*x8[i]+w9_current*x9[i]+w10_current*x10[i]+w11_current*x11[i]+w12_current*x12[i]+w13_current*x13[i]))\n",
        "        wg1.append(x1[i] * ((w0_current+w1_current*x1[i]+w2_current*x2[i]+w3_current*x3[i]+w4_current*x4[i]+w5_current*x5[i]+w6_current*x6[i]+w7_current*x7[i]+w8_current*x8[i]+w9_current*x9[i]+w10_current*x10[i]+w11_current*x11[i]+w12_current*x12[i]+w13_current*x13[i])))\n",
        "        wg2.append(x2[i] * ((w0_current+w1_current*x1[i]+w2_current*x2[i]+w3_current*x3[i]+w4_current*x4[i]+w5_current*x5[i]+w6_current*x6[i]+w7_current*x7[i]+w8_current*x8[i]+w9_current*x9[i]+w10_current*x10[i]+w11_current*x11[i]+w12_current*x12[i]+w13_current*x13[i])))\n",
        "        wg3.append(x3[i] * ((w0_current+w1_current*x1[i]+w2_current*x2[i]+w3_current*x3[i]+w4_current*x4[i]+w5_current*x5[i]+w6_current*x6[i]+w7_current*x7[i]+w8_current*x8[i]+w9_current*x9[i]+w10_current*x10[i]+w11_current*x11[i]+w12_current*x12[i]+w13_current*x13[i])))\n",
        "        wg4.append(x4[i] * ((w0_current+w1_current*x1[i]+w2_current*x2[i]+w3_current*x3[i]+w4_current*x4[i]+w5_current*x5[i]+w6_current*x6[i]+w7_current*x7[i]+w8_current*x8[i]+w9_current*x9[i]+w10_current*x10[i]+w11_current*x11[i]+w12_current*x12[i]+w13_current*x13[i])))\n",
        "        wg5.append(x5[i] * ((w0_current+w1_current*x1[i]+w2_current*x2[i]+w3_current*x3[i]+w4_current*x4[i]+w5_current*x5[i]+w6_current*x6[i]+w7_current*x7[i]+w8_current*x8[i]+w9_current*x9[i]+w10_current*x10[i]+w11_current*x11[i]+w12_current*x12[i]+w13_current*x13[i])))\n",
        "        wg6.append(x6[i] * ((w0_current+w1_current*x1[i]+w2_current*x2[i]+w3_current*x3[i]+w4_current*x4[i]+w5_current*x5[i]+w6_current*x6[i]+w7_current*x7[i]+w8_current*x8[i]+w9_current*x9[i]+w10_current*x10[i]+w11_current*x11[i]+w12_current*x12[i]+w13_current*x13[i])))\n",
        "        wg7.append(x7[i] * ((w0_current+w1_current*x1[i]+w2_current*x2[i]+w3_current*x3[i]+w4_current*x4[i]+w5_current*x5[i]+w6_current*x6[i]+w7_current*x7[i]+w8_current*x8[i]+w9_current*x9[i]+w10_current*x10[i]+w11_current*x11[i]+w12_current*x12[i]+w13_current*x13[i])))\n",
        "        wg8.append(x8[i] * ((w0_current+w1_current*x1[i]+w2_current*x2[i]+w3_current*x3[i]+w4_current*x4[i]+w5_current*x5[i]+w6_current*x6[i]+w7_current*x7[i]+w8_current*x8[i]+w9_current*x9[i]+w10_current*x10[i]+w11_current*x11[i]+w12_current*x12[i]+w13_current*x13[i])))\n",
        "        wg9.append(x9[i] * ((w0_current+w1_current*x1[i]+w2_current*x2[i]+w3_current*x3[i]+w4_current*x4[i]+w5_current*x5[i]+w6_current*x6[i]+w7_current*x7[i]+w8_current*x8[i]+w9_current*x9[i]+w10_current*x10[i]+w11_current*x11[i]+w12_current*x12[i]+w13_current*x13[i])))\n",
        "        wg10.append(x10[i] * ((w0_current+w1_current*x1[i]+w2_current*x2[i]+w3_current*x3[i]+w4_current*x4[i]+w5_current*x5[i]+w6_current*x6[i]+w7_current*x7[i]+w8_current*x8[i]+w9_current*x9[i]+w10_current*x10[i]+w11_current*x11[i]+w12_current*x12[i]+w13_current*x13[i])))\n",
        "        wg11.append(x11[i] * ((w0_current+w1_current*x1[i]+w2_current*x2[i]+w3_current*x3[i]+w4_current*x4[i]+w5_current*x5[i]+w6_current*x6[i]+w7_current*x7[i]+w8_current*x8[i]+w9_current*x9[i]+w10_current*x10[i]+w11_current*x11[i]+w12_current*x12[i]+w13_current*x13[i])))\n",
        "        wg12.append(x12[i] * ((w0_current+w1_current*x1[i]+w2_current*x2[i]+w3_current*x3[i]+w4_current*x4[i]+w5_current*x5[i]+w6_current*x6[i]+w7_current*x7[i]+w8_current*x8[i]+w9_current*x9[i]+w10_current*x10[i]+w11_current*x11[i]+w12_current*x12[i]+w13_current*x13[i])))\n",
        "        wg13.append(x13[i] * ((w0_current+w1_current*x1[i]+w2_current*x2[i]+w3_current*x3[i]+w4_current*x4[i]+w5_current*x5[i]+w6_current*x6[i]+w7_current*x7[i]+w8_current*x8[i]+w9_current*x9[i]+w10_current*x10[i]+w11_current*x11[i]+w12_current*x12[i]+w13_current*x13[i])))\n",
        "        wg0[i] = (1/(1+(np.exp(-1 * wg0[i]))))\n",
        "        wg1[i] = (1/(1+(np.exp(-1 * wg1[i]))))\n",
        "        wg2[i] = (1/(1+(np.exp(-1 * wg2[i]))))\n",
        "        wg3[i] = (1/(1+(np.exp(-1 * wg3[i]))))\n",
        "        wg4[i] = (1/(1+(np.exp(-1 * wg4[i]))))\n",
        "        wg5[i] = (1/(1+(np.exp(-1 * wg5[i]))))\n",
        "        wg6[i] = (1/(1+(np.exp(-1 * wg6[i]))))\n",
        "        wg7[i] = (1/(1+(np.exp(-1 * wg7[i]))))\n",
        "        wg8[i] = (1/(1+(np.exp(-1 * wg8[i]))))\n",
        "        wg9[i] = (1/(1+(np.exp(-1 * wg9[i]))))\n",
        "        wg10[i] = (1/(1+(np.exp(-1 * wg10[i]))))\n",
        "        wg11[i] = (1/(1+(np.exp(-1 * wg11[i]))))\n",
        "        wg12[i] = (1/(1+(np.exp(-1 * wg12[i]))))\n",
        "        wg13[i] = (1/(1+(np.exp(-1 * wg13[i]))))\n",
        "        \n",
        "        wg0[i] =(y1[i]-wg0[i]) \n",
        "        wg1[i] =(x1[i]*(y1[i]-wg1[i])) \n",
        "        wg2[i] = (x2[i]*(y1[i]-wg2[i]))\n",
        "        wg3[i] = (x3[i]*(y1[i]-wg3[i]))\n",
        "        wg4[i] = (x4[i]*(y1[i]-wg4[i]))\n",
        "        wg5[i] = (x5[i]*(y1[i]-wg5[i]))\n",
        "        wg6[i] = (x6[i]*(y1[i]-wg6[i]))\n",
        "        wg7[i] = (x7[i]*(y1[i]-wg7[i]))\n",
        "        wg8[i] = (x8[i]*(y1[i]-wg8[i]))\n",
        "        wg9[i] = (x9[i]*(y1[i]-wg9[i]))\n",
        "        wg10[i] =(x10[i]*(y1[i]-wg10[i]))\n",
        "        wg11[i] =(x11[i]*(y1[i]-wg11[i]))\n",
        "        wg12[i] = (x12[i]*(y1[i]-wg12[i]))\n",
        "        wg13[i] = (x13[i]*(y1[i]-wg13[i]))\n",
        "        \n",
        "        \n",
        "        \n",
        "    \n",
        "    w0_gradient=(np.array(wg0).sum())/N\n",
        "    w1_gradient=(np.array(wg1).sum())/N\n",
        "    w2_gradient=(np.array(wg2).sum())/N\n",
        "    w3_gradient=(np.array(wg3).sum())/N\n",
        "    w4_gradient=(np.array(wg4).sum())/N\n",
        "    w5_gradient=(np.array(wg5).sum())/N\n",
        "    w6_gradient=(np.array(wg6).sum())/N\n",
        "    w7_gradient=(np.array(wg7).sum())/N\n",
        "    w8_gradient=(np.array(wg8).sum())/N\n",
        "    w9_gradient=(np.array(wg9).sum())/N\n",
        "    w10_gradient=(np.array(wg10).sum())/N\n",
        "    w11_gradient=(np.array(wg11).sum())/N\n",
        "    w12_gradient=(np.array(wg12).sum())/N\n",
        "    w13_gradient=(np.array(wg13).sum())/N\n",
        "    new_w0 = w0_current - (learningRate * w0_gradient)\n",
        "    new_w1 = w1_current - (learningRate * w1_gradient)\n",
        "    new_w2 = w2_current - (learningRate * w2_gradient)\n",
        "    new_w3 = w3_current - (learningRate * w3_gradient)\n",
        "    new_w4 = w4_current - (learningRate * w4_gradient)\n",
        "    new_w5 = w5_current - (learningRate * w5_gradient)\n",
        "    new_w6 = w6_current - (learningRate * w6_gradient)\n",
        "    new_w7 = w7_current - (learningRate * w7_gradient)\n",
        "    new_w8 = w8_current - (learningRate * w8_gradient)\n",
        "    new_w9 = w9_current - (learningRate * w9_gradient)\n",
        "    new_w10 = w10_current - (learningRate * w10_gradient)\n",
        "    new_w11 = w11_current - (learningRate * w11_gradient)\n",
        "    new_w12 = w12_current - (learningRate * w12_gradient)\n",
        "    new_w13 = w13_current - (learningRate * w13_gradient)\n",
        "    compute_error(new_w0,new_w1,new_w2,new_w3,new_w4,new_w5,new_w6,new_w7,new_w8,new_w9,new_w10,new_w11,new_w12,new_w13,x1,x2,x3,x4,x5,x6,x7,x8,x9,x10,x11,x12,x13, y1)\n",
        "    return [new_w0,new_w1,new_w2,new_w3,new_w4,new_w5,new_w6,new_w7,new_w8,new_w9,new_w10,new_w11,new_w12,new_w13]\n",
        "\n",
        "def gradient_descent_runner(x1, x2, x3,  x4, x5, x6, x7, x8, x9, x10, x11, x12, x13,y1, starting_w0, starting_w1, starting_w2,starting_w3, starting_w4, starting_w5, starting_w6, starting_w7, starting_w8, starting_w9, starting_w10, starting_w11, starting_w12, starting_w13, learning_rate, num_iterations):\n",
        "    w0 = starting_w0\n",
        "    w1 = starting_w1\n",
        "    w2 = starting_w2\n",
        "    w3 = starting_w3\n",
        "    w4 = starting_w4\n",
        "    w5 = starting_w5\n",
        "    w6 = starting_w6\n",
        "    w7 = starting_w7\n",
        "    w8 = starting_w8\n",
        "    w9 = starting_w9\n",
        "    w10 = starting_w10\n",
        "    w11= starting_w11\n",
        "    w12 = starting_w12\n",
        "    w13 = starting_w13\n",
        "    for i in range(num_iterations):\n",
        "        w0, w1, w2, w3,w4, w5, w6, w7, w8, w9, w10, w11, w12, w13 = step_gradient(w0, w1, w2, w3, w4, w5, w6, w7, w8, w9, w10, w11, w12, w13, x1, x2, x3,x4,x5,x6,x7,x8,x9,x10,x11,x12,x13, y1, learning_rate)\n",
        "      #print(c,m)\n",
        "   \n",
        "def run():\n",
        "    data = pd.read_csv('/content/drive/My Drive/heart.csv')\n",
        "    z=[]\n",
        "    for x in data.columns:\n",
        "        z.append(x)\n",
        "    data=data[z].apply(lambda rec:(rec - rec.mean())/rec.std(), axis=0)\n",
        "    sn = data\n",
        "    x11=sn.iloc[:,0:1]\n",
        "    x22=sn.iloc[:,1:2]\n",
        "    x33=sn.iloc[:,2:3]\n",
        "    x44=sn.iloc[:,3:4]\n",
        "    x55=sn.iloc[:,4:5]\n",
        "    x66=sn.iloc[:,5:6]\n",
        "    x77=sn.iloc[:,6:7]\n",
        "    x88=sn.iloc[:,7:8]\n",
        "    x99=sn.iloc[:,8:9]\n",
        "    x1010=sn.iloc[:,9:10]\n",
        "    x1111=sn.iloc[:,10:11]\n",
        "    x1212=sn.iloc[:,11:12]\n",
        "    x1313=sn.iloc[:,12:13]\n",
        "    y11=sn.iloc[:,3:4]\n",
        "    x1=np.array(x11)\n",
        "    x2=np.array(x22)\n",
        "    x3=np.array(x33)\n",
        "    x4=np.array(x44)\n",
        "    x5=np.array(x55)\n",
        "    x6=np.array(x66)\n",
        "    x7=np.array(x77)\n",
        "    x8=np.array(x88)\n",
        "    x9=np.array(x99)\n",
        "    x10=np.array(x1010)\n",
        "    x11=np.array(x1111)\n",
        "    x12=np.array(x1212)\n",
        "    x13=np.array(x1313)\n",
        "    y1=np.array(y11)\n",
        "    learning_rate = 0.001\n",
        "    initial_w0 = 1 \n",
        "    initial_w1 = 1 \n",
        "    initial_w2 = 1\n",
        "    initial_w3 = 1\n",
        "    initial_w4 = 1\n",
        "    initial_w5 = 1\n",
        "    initial_w6 = 1\n",
        "    initial_w7 = 1\n",
        "    initial_w8 = 1\n",
        "    initial_w9 = 1\n",
        "    initial_w10 = 1\n",
        "    initial_w11 = 1\n",
        "    initial_w12 = 1\n",
        "    initial_w13 = 1\n",
        "    num_iterations = 10\n",
        "    compute_error(initial_w0, initial_w1, initial_w2, initial_w3, initial_w4, initial_w5, initial_w6, initial_w7, initial_w8, initial_w9, initial_w10, initial_w11, initial_w12, initial_w13, x1, x2, x3,x4,x5,x6,x7,x8,x9,x10,x11,x12,x13, y1)\n",
        "    gradient_descent_runner(x1, x2, x3,x4,x5,x6,x7,x8,x9,x10,x11,x12,x13, y1, initial_w0, initial_w1, initial_w2,initial_w3,initial_w4,initial_w5,initial_w6,initial_w7,initial_w8,initial_w9,initial_w10,initial_w11,initial_w12, initial_w13,learning_rate, num_iterations)\n",
        "    \n",
        "\n",
        "\n",
        "it=np.arange(0,11)\n",
        "#print(er)\n",
        "#plt.plot(it,er)\n",
        "\n"
      ],
      "execution_count": 65,
      "outputs": []
    },
    {
      "cell_type": "code",
      "metadata": {
        "id": "UrHpc5jCP_X9"
      },
      "source": [
        "sn = pd.read_csv('/content/drive/My Drive/heart.csv')\n",
        "x1=sn.iloc[:,0:1]\n",
        "x2=sn.iloc[:,1:2]\n",
        "x3=sn.iloc[:,2:3]\n",
        "x4=sn.iloc[:,3:4]\n",
        "x5=sn.iloc[:,4:5]\n",
        "x6=sn.iloc[:,5:6]\n",
        "x7=sn.iloc[:,6:7]\n",
        "x8=sn.iloc[:,7:8]\n",
        "x9=sn.iloc[:,8:9]\n",
        "x10=sn.iloc[:,9:10]\n",
        "x11=sn.iloc[:,10:11]\n",
        "x12=sn.iloc[:,11:12]\n",
        "x13=sn.iloc[:,12:13]\n",
        "y1=sn.iloc[:,13:14]\n",
        "w0=w_0\n",
        "w1=w_1\n",
        "w2=w_2\n",
        "w3=w_3\n",
        "w4=w_4\n",
        "w5=w_5\n",
        "w6=w_6\n",
        "w7=w_7\n",
        "w8=w_8\n",
        "w9=w_9\n",
        "w10=w_10\n",
        "w11=w_11\n",
        "w12=w_12\n",
        "w13=w_13\n",
        "print(er)\n",
        "e1=min(er)\n",
        "indexx=er.index(e1)\n",
        "print(indexx)\n",
        "a1=float(input('enter age : '))\n",
        "a2=float(input('enter sex : '))\n",
        "a3=float(input('Head cp : '))\n",
        "a4=float(input('enter testbps : '))\n",
        "a5=float(input('enter chol : '))\n",
        "a6=float(input('enter fbs : '))\n",
        "a7=float(input('enter restecg : '))\n",
        "a8=float(input('enter thalach : '))\n",
        "a9=float(input('enter exang : '))\n",
        "a10=float(input('enter oldpeak: '))\n",
        "a11=float(input('enter slope: '))\n",
        "a12=float(input('enter ca: '))\n",
        "a13=float(input('enter thal : '))\n",
        "k = w1[indexx]*a1+w2[indexx]*a2+w3[indexx]*a3+w0[indexx]+w4[indexx]*a4+w5[indexx]*a5+w6[indexx]*a6+w7[indexx]*a7+w8[indexx]*a8+w9[indexx]*a9+w10[indexx]*a10+w11[indexx]*a11+w12[indexx]*a12+w13[indexx]*a13\n",
        "k = (1/(1+np.exp(-1*k)))\n",
        "print(k)"
      ],
      "execution_count": null,
      "outputs": []
    }
  ]
}